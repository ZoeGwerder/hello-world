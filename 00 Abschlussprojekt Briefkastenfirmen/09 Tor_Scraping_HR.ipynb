{
 "cells": [
  {
   "cell_type": "code",
   "execution_count": 3,
   "metadata": {},
   "outputs": [],
   "source": [
    "from selenium import webdriver\n",
    "from selenium.webdriver.firefox.firefox_profile import FirefoxProfile # für den Tor-Browser\n",
    "from selenium.webdriver.firefox.firefox_binary import FirefoxBinary # für den Tor-Browser\n",
    "import selenium\n",
    "from selenium import webdriver\n",
    "from selenium.webdriver.common.keys import Keys\n",
    "from selenium.webdriver.common.by import By\n",
    "from selenium.webdriver.support.ui import Select\n",
    "import time\n",
    "import pandas as pd\n",
    "from bs4 import BeautifulSoup\n",
    "from tqdm import tqdm\n",
    "import os\n",
    "import re\n",
    "from stem import Signal # Um beim Tor-Surfer die IP/Idendity zu wechseln\n",
    "from stem.control import Controller #Um beim Tor-Surfer die IP/Idendity zu wechseln\n",
    "folderpath=r\"C:\\Users\\Zoe\\Desktop\\maz-datenjournalismus\\Daten_BR_Handelsreg\""
   ]
  },
  {
   "cell_type": "code",
   "execution_count": 2,
   "metadata": {
    "scrolled": true
   },
   "outputs": [
    {
     "name": "stdout",
     "output_type": "stream",
     "text": [
      "Collecting stem\n",
      "  Downloading https://files.pythonhosted.org/packages/71/bd/ab05ffcbfe74dca704e860312e00c53ef690b1ddcb23be7a4d9ea4f40260/stem-1.8.0.tar.gz (2.9MB)\n",
      "Building wheels for collected packages: stem\n",
      "  Building wheel for stem (setup.py): started\n",
      "  Building wheel for stem (setup.py): finished with status 'done'\n",
      "  Created wheel for stem: filename=stem-1.8.0-cp37-none-any.whl size=436043 sha256=163804af94cb022131c95c8928b20d73d76130ea4c859e77dff0ff854714b918\n",
      "  Stored in directory: C:\\Users\\Zoe\\AppData\\Local\\pip\\Cache\\wheels\\02\\3a\\ee\\1094b166e029353f892c0b121aa02f48aff5e658396924bc2a\n",
      "Successfully built stem\n",
      "Installing collected packages: stem\n",
      "Successfully installed stem-1.8.0\n"
     ]
    }
   ],
   "source": [
    "!pip install stem"
   ]
  },
  {
   "cell_type": "code",
   "execution_count": 8,
   "metadata": {},
   "outputs": [],
   "source": [
    "dff_g=pd.read_csv(folderpath+\"/BRFrames/alle_Adressen_ohne_Stadt\")"
   ]
  },
  {
   "cell_type": "code",
   "execution_count": 9,
   "metadata": {},
   "outputs": [],
   "source": [
    "# Nun das Gemeinde-Dataframe miot 16740 Rows in 1000-er-Stücke teilen. (würde sicher auch automatisiert gehen...)\n",
    "dff1=dff_g.iloc[:1000,:]\n",
    "dff2=dff_g.iloc[1000:2000,:]\n",
    "dff3=dff_g.iloc[2000:3000,:]\n",
    "dff33=dff_g.iloc[2500:3000,:]\n",
    "dff34=dff_g.iloc[2530:3000,:]\n",
    "dff4=dff_g.iloc[3080:3200,:]\n",
    "dff5=dff_g.iloc[3201:3400,:]\n",
    "dff6=dff_g.iloc[3400:3800,:]\n",
    "dff7=dff_g.iloc[3960:4200,:]\n",
    "dff8=dff_g.iloc[4200:4600,:]\n",
    "dff9=dff_g.iloc[4600:5000,:]\n",
    "dff10=dff_g.iloc[5000:5400,:]\n",
    "dff11=dff_g.iloc[5700:6200,:]\n",
    "dff12=dff_g.iloc[6200:6600,:]\n",
    "dff13=dff_g.iloc[6600:7000,:]\n",
    "dff14=dff_g.iloc[7000:14000,:]\n",
    "dff15=dff_g.iloc[14000:15000,:]\n",
    "dff16=dff_g.iloc[15000:16000,:]\n",
    "dff17=dff_g.iloc[16000:,:]\n",
    "#[df1,df2,df3,df4,df5,df6,df7,df8,df9,df10,df11,df12,df13,df14,df15,df16,df17]"
   ]
  },
  {
   "cell_type": "code",
   "execution_count": 4,
   "metadata": {
    "scrolled": true
   },
   "outputs": [
    {
     "name": "stderr",
     "output_type": "stream",
     "text": [
      "\r",
      "  0%|          | 0/11 [00:00<?, ?it/s]"
     ]
    },
    {
     "ename": "NoSuchElementException",
     "evalue": "Message: Unable to locate element: [id=\"j_idt198\"]\n",
     "output_type": "error",
     "traceback": [
      "\u001b[1;31m---------------------------------------------------------------------------\u001b[0m",
      "\u001b[1;31mNoSuchElementException\u001b[0m                    Traceback (most recent call last)",
      "\u001b[1;32m<ipython-input-4-62629dfde194>\u001b[0m in \u001b[0;36m<module>\u001b[1;34m\u001b[0m\n\u001b[0;32m     13\u001b[0m     \u001b[0mtime\u001b[0m\u001b[1;33m.\u001b[0m\u001b[0msleep\u001b[0m\u001b[1;33m(\u001b[0m\u001b[1;36m5\u001b[0m\u001b[1;33m)\u001b[0m\u001b[1;33m\u001b[0m\u001b[1;33m\u001b[0m\u001b[0m\n\u001b[0;32m     14\u001b[0m     \u001b[1;31m#Hier drücke ich den Cookie-Banner weg\u001b[0m\u001b[1;33m\u001b[0m\u001b[1;33m\u001b[0m\u001b[1;33m\u001b[0m\u001b[0m\n\u001b[1;32m---> 15\u001b[1;33m     \u001b[0mcookie\u001b[0m\u001b[1;33m=\u001b[0m\u001b[0mdriver\u001b[0m\u001b[1;33m.\u001b[0m\u001b[0mfind_element_by_id\u001b[0m\u001b[1;33m(\u001b[0m\u001b[1;34m\"j_idt198\"\u001b[0m\u001b[1;33m)\u001b[0m\u001b[1;33m\u001b[0m\u001b[1;33m\u001b[0m\u001b[0m\n\u001b[0m\u001b[0;32m     16\u001b[0m     \u001b[0mtime\u001b[0m\u001b[1;33m.\u001b[0m\u001b[0msleep\u001b[0m\u001b[1;33m(\u001b[0m\u001b[1;36m4\u001b[0m\u001b[1;33m)\u001b[0m\u001b[1;33m\u001b[0m\u001b[1;33m\u001b[0m\u001b[0m\n\u001b[0;32m     17\u001b[0m     \u001b[0mcookie\u001b[0m\u001b[1;33m.\u001b[0m\u001b[0mclick\u001b[0m\u001b[1;33m(\u001b[0m\u001b[1;33m)\u001b[0m\u001b[1;31m#ACHTUNG: Möglicherweise wechselt hier immer mal wieder die ID-NR\u001b[0m\u001b[1;33m\u001b[0m\u001b[1;33m\u001b[0m\u001b[0m\n",
      "\u001b[1;32m~\\Anaconda3\\lib\\site-packages\\selenium\\webdriver\\remote\\webdriver.py\u001b[0m in \u001b[0;36mfind_element_by_id\u001b[1;34m(self, id_)\u001b[0m\n\u001b[0;32m    358\u001b[0m             \u001b[0melement\u001b[0m \u001b[1;33m=\u001b[0m \u001b[0mdriver\u001b[0m\u001b[1;33m.\u001b[0m\u001b[0mfind_element_by_id\u001b[0m\u001b[1;33m(\u001b[0m\u001b[1;34m'foo'\u001b[0m\u001b[1;33m)\u001b[0m\u001b[1;33m\u001b[0m\u001b[1;33m\u001b[0m\u001b[0m\n\u001b[0;32m    359\u001b[0m         \"\"\"\n\u001b[1;32m--> 360\u001b[1;33m         \u001b[1;32mreturn\u001b[0m \u001b[0mself\u001b[0m\u001b[1;33m.\u001b[0m\u001b[0mfind_element\u001b[0m\u001b[1;33m(\u001b[0m\u001b[0mby\u001b[0m\u001b[1;33m=\u001b[0m\u001b[0mBy\u001b[0m\u001b[1;33m.\u001b[0m\u001b[0mID\u001b[0m\u001b[1;33m,\u001b[0m \u001b[0mvalue\u001b[0m\u001b[1;33m=\u001b[0m\u001b[0mid_\u001b[0m\u001b[1;33m)\u001b[0m\u001b[1;33m\u001b[0m\u001b[1;33m\u001b[0m\u001b[0m\n\u001b[0m\u001b[0;32m    361\u001b[0m \u001b[1;33m\u001b[0m\u001b[0m\n\u001b[0;32m    362\u001b[0m     \u001b[1;32mdef\u001b[0m \u001b[0mfind_elements_by_id\u001b[0m\u001b[1;33m(\u001b[0m\u001b[0mself\u001b[0m\u001b[1;33m,\u001b[0m \u001b[0mid_\u001b[0m\u001b[1;33m)\u001b[0m\u001b[1;33m:\u001b[0m\u001b[1;33m\u001b[0m\u001b[1;33m\u001b[0m\u001b[0m\n",
      "\u001b[1;32m~\\Anaconda3\\lib\\site-packages\\selenium\\webdriver\\remote\\webdriver.py\u001b[0m in \u001b[0;36mfind_element\u001b[1;34m(self, by, value)\u001b[0m\n\u001b[0;32m    976\u001b[0m         return self.execute(Command.FIND_ELEMENT, {\n\u001b[0;32m    977\u001b[0m             \u001b[1;34m'using'\u001b[0m\u001b[1;33m:\u001b[0m \u001b[0mby\u001b[0m\u001b[1;33m,\u001b[0m\u001b[1;33m\u001b[0m\u001b[1;33m\u001b[0m\u001b[0m\n\u001b[1;32m--> 978\u001b[1;33m             'value': value})['value']\n\u001b[0m\u001b[0;32m    979\u001b[0m \u001b[1;33m\u001b[0m\u001b[0m\n\u001b[0;32m    980\u001b[0m     \u001b[1;32mdef\u001b[0m \u001b[0mfind_elements\u001b[0m\u001b[1;33m(\u001b[0m\u001b[0mself\u001b[0m\u001b[1;33m,\u001b[0m \u001b[0mby\u001b[0m\u001b[1;33m=\u001b[0m\u001b[0mBy\u001b[0m\u001b[1;33m.\u001b[0m\u001b[0mID\u001b[0m\u001b[1;33m,\u001b[0m \u001b[0mvalue\u001b[0m\u001b[1;33m=\u001b[0m\u001b[1;32mNone\u001b[0m\u001b[1;33m)\u001b[0m\u001b[1;33m:\u001b[0m\u001b[1;33m\u001b[0m\u001b[1;33m\u001b[0m\u001b[0m\n",
      "\u001b[1;32m~\\Anaconda3\\lib\\site-packages\\selenium\\webdriver\\remote\\webdriver.py\u001b[0m in \u001b[0;36mexecute\u001b[1;34m(self, driver_command, params)\u001b[0m\n\u001b[0;32m    319\u001b[0m         \u001b[0mresponse\u001b[0m \u001b[1;33m=\u001b[0m \u001b[0mself\u001b[0m\u001b[1;33m.\u001b[0m\u001b[0mcommand_executor\u001b[0m\u001b[1;33m.\u001b[0m\u001b[0mexecute\u001b[0m\u001b[1;33m(\u001b[0m\u001b[0mdriver_command\u001b[0m\u001b[1;33m,\u001b[0m \u001b[0mparams\u001b[0m\u001b[1;33m)\u001b[0m\u001b[1;33m\u001b[0m\u001b[1;33m\u001b[0m\u001b[0m\n\u001b[0;32m    320\u001b[0m         \u001b[1;32mif\u001b[0m \u001b[0mresponse\u001b[0m\u001b[1;33m:\u001b[0m\u001b[1;33m\u001b[0m\u001b[1;33m\u001b[0m\u001b[0m\n\u001b[1;32m--> 321\u001b[1;33m             \u001b[0mself\u001b[0m\u001b[1;33m.\u001b[0m\u001b[0merror_handler\u001b[0m\u001b[1;33m.\u001b[0m\u001b[0mcheck_response\u001b[0m\u001b[1;33m(\u001b[0m\u001b[0mresponse\u001b[0m\u001b[1;33m)\u001b[0m\u001b[1;33m\u001b[0m\u001b[1;33m\u001b[0m\u001b[0m\n\u001b[0m\u001b[0;32m    322\u001b[0m             response['value'] = self._unwrap_value(\n\u001b[0;32m    323\u001b[0m                 response.get('value', None))\n",
      "\u001b[1;32m~\\Anaconda3\\lib\\site-packages\\selenium\\webdriver\\remote\\errorhandler.py\u001b[0m in \u001b[0;36mcheck_response\u001b[1;34m(self, response)\u001b[0m\n\u001b[0;32m    240\u001b[0m                 \u001b[0malert_text\u001b[0m \u001b[1;33m=\u001b[0m \u001b[0mvalue\u001b[0m\u001b[1;33m[\u001b[0m\u001b[1;34m'alert'\u001b[0m\u001b[1;33m]\u001b[0m\u001b[1;33m.\u001b[0m\u001b[0mget\u001b[0m\u001b[1;33m(\u001b[0m\u001b[1;34m'text'\u001b[0m\u001b[1;33m)\u001b[0m\u001b[1;33m\u001b[0m\u001b[1;33m\u001b[0m\u001b[0m\n\u001b[0;32m    241\u001b[0m             \u001b[1;32mraise\u001b[0m \u001b[0mexception_class\u001b[0m\u001b[1;33m(\u001b[0m\u001b[0mmessage\u001b[0m\u001b[1;33m,\u001b[0m \u001b[0mscreen\u001b[0m\u001b[1;33m,\u001b[0m \u001b[0mstacktrace\u001b[0m\u001b[1;33m,\u001b[0m \u001b[0malert_text\u001b[0m\u001b[1;33m)\u001b[0m\u001b[1;33m\u001b[0m\u001b[1;33m\u001b[0m\u001b[0m\n\u001b[1;32m--> 242\u001b[1;33m         \u001b[1;32mraise\u001b[0m \u001b[0mexception_class\u001b[0m\u001b[1;33m(\u001b[0m\u001b[0mmessage\u001b[0m\u001b[1;33m,\u001b[0m \u001b[0mscreen\u001b[0m\u001b[1;33m,\u001b[0m \u001b[0mstacktrace\u001b[0m\u001b[1;33m)\u001b[0m\u001b[1;33m\u001b[0m\u001b[1;33m\u001b[0m\u001b[0m\n\u001b[0m\u001b[0;32m    243\u001b[0m \u001b[1;33m\u001b[0m\u001b[0m\n\u001b[0;32m    244\u001b[0m     \u001b[1;32mdef\u001b[0m \u001b[0m_value_or_default\u001b[0m\u001b[1;33m(\u001b[0m\u001b[0mself\u001b[0m\u001b[1;33m,\u001b[0m \u001b[0mobj\u001b[0m\u001b[1;33m,\u001b[0m \u001b[0mkey\u001b[0m\u001b[1;33m,\u001b[0m \u001b[0mdefault\u001b[0m\u001b[1;33m)\u001b[0m\u001b[1;33m:\u001b[0m\u001b[1;33m\u001b[0m\u001b[1;33m\u001b[0m\u001b[0m\n",
      "\u001b[1;31mNoSuchElementException\u001b[0m: Message: Unable to locate element: [id=\"j_idt198\"]\n"
     ]
    }
   ],
   "source": [
    "\n",
    "listeadress=[]\n",
    "counter=600\n",
    "nummer=6\n",
    "\n",
    "df_list=[dff7,dff8,dff9,dff10,dff11,dff12,dff13,dff14,dff15,dff16,dff17]\n",
    "\n",
    "for df in tqdm(df_list):\n",
    "    #Wir starten den Browser auf\n",
    "    driver = webdriver.Firefox(executable_path='C:\\geckodriver.exe') # jetzt via Tor mit unterschiedlichen IP's\n",
    "    binary = FirefoxBinary(r\"C:\\Users\\Zoe\\Desktop\\Tor Browser\\Browser\\firefox.exe\") \n",
    "    #Und nun sagen wir dem Browser, welche Seite er besuchen sollte. \n",
    "    driver.get('https://zg.chregister.ch/cr-portal/suche/suche.xhtml')\n",
    "    time.sleep(5)\n",
    "    #Hier drücke ich den Cookie-Banner weg\n",
    "    cookie=driver.find_element_by_id(\"j_idt198\")\n",
    "    time.sleep(4)            \n",
    "    cookie.click()#ACHTUNG: Möglicherweise wechselt hier immer mal wieder die ID-NR\n",
    "    time.sleep(2)\n",
    "    #Ich öffne das zusätzliche Panel, ohne dass man dies auf der Seite sieht\n",
    "    #su_fel_ad = driver.find_element_by_id('idSucheForm:panel:idDiverseTyp_label')\n",
    "    #time.sleep(2)\n",
    "    #driver.execute_script('arguments[0].click();', su_fel_ad)\n",
    "    #time.sleep(2)\n",
    "    # Den Filter ansteuern, wo ich Domiziladresse auwählen kann\n",
    "    #filt = driver.find_element_by_id(\"idSucheForm:panel:idDiverseTyp_filter\")\n",
    "    #filt.send_keys('Domiziladresse')\n",
    "    #filt.send_keys(Keys.ENTER)\n",
    "    #time.sleep(2)\n",
    "    # Hier klappe ich die Zusätzlichen Suchfelder auf\n",
    "    driver.find_element_by_class_name('ui-icon.ui-icon-triangle-1-e').click()\n",
    "    time.sleep(3)\n",
    "    for adress in tqdm(df[\"Adresse\"]): #die Adressen durchgehen\n",
    "        # Den Filter ansteuern, wo ich Domiziladresse auwählen kann\n",
    "        su_fel_ad = driver.find_element_by_id('idSucheForm:panel:idDiverseTyp_label')\n",
    "        time.sleep(1)\n",
    "        driver.execute_script('arguments[0].click();', su_fel_ad)\n",
    "        time.sleep(1)\n",
    "        filt = driver.find_element_by_id(\"idSucheForm:panel:idDiverseTyp_filter\")\n",
    "        time.sleep(1)\n",
    "        filt.send_keys('Domiziladresse')\n",
    "        filt.send_keys(Keys.ENTER)\n",
    "        time.sleep(1)\n",
    "    \n",
    "        search_adress=driver.find_element_by_id(\"idSucheForm:panel:idDiverseSuchtext\")\n",
    "        search_adress.send_keys(adress) #Adresse Eingeben\n",
    "        search_adress.send_keys(Keys.ENTER) #Enter drücken\n",
    "        time.sleep(5)\n",
    "        page = driver.page_source.encode(\"utf-8\") #Page in Variable speichern\n",
    "\n",
    "        with open (folderpath+\"/HRSeiten_Gemeinden/frontpage\"+str(nummer)+\"_\"+str(counter)+\".htm\", \"wb+\") as file:\n",
    "            file.write(page)\n",
    "            file.close()\n",
    "            \n",
    "        pagename = \"frontpage\"+str(nummer)+\"_\"+str(counter)+\".htm\"        \n",
    "        counter=counter+1 \n",
    "\n",
    "        clear_all=driver.find_element_by_id(\"idSucheForm:j_idt167\").click()\n",
    "        time.sleep(3)\n",
    "               \n",
    "\n",
    "        \n",
    "        minidictadress={\"Adresse\":adress, \"Dokument\":pagename}\n",
    "        listeadress.append(minidictadress)\n",
    "    nummer=nummer+1\n",
    "    driver.close() # Hier das Browserfenster wieder schliessen, um danach für das neue df erneut zu öffnen\n",
    "    time.sleep(300) # Nun Pause.\n",
    "\n",
    "        "
   ]
  },
  {
   "cell_type": "markdown",
   "metadata": {},
   "source": [
    "### Versuch: IP-Wechsel von Tor nach jedem Zugriff\n",
    "Trotz dem Tor-Browser und einem immer wieder schliessenden und wieder öffnenden Browser kann ich nicht nur noch Päckchen an höchstens 4000 Adressen runterladen. Definitiv zu wenig wenn ich noch total ca 10000 abfragen will. Nun noch einen Versuch mit wechselnder IP beim Tor-Browser. \n",
    "https://stem.torproject.org/faq.html"
   ]
  },
  {
   "cell_type": "code",
   "execution_count": 14,
   "metadata": {},
   "outputs": [
    {
     "ename": "IncorrectSocketType",
     "evalue": "unable to use the control socket",
     "output_type": "error",
     "traceback": [
      "\u001b[1;31m---------------------------------------------------------------------------\u001b[0m",
      "\u001b[1;31mProtocolError\u001b[0m                             Traceback (most recent call last)",
      "\u001b[1;32m~\\Anaconda3\\lib\\site-packages\\stem\\connection.py\u001b[0m in \u001b[0;36mauthenticate\u001b[1;34m(controller, password, chroot_path, protocolinfo_response)\u001b[0m\n\u001b[0;32m    533\u001b[0m     \u001b[1;32mtry\u001b[0m\u001b[1;33m:\u001b[0m\u001b[1;33m\u001b[0m\u001b[1;33m\u001b[0m\u001b[0m\n\u001b[1;32m--> 534\u001b[1;33m       \u001b[0mprotocolinfo_response\u001b[0m \u001b[1;33m=\u001b[0m \u001b[0mget_protocolinfo\u001b[0m\u001b[1;33m(\u001b[0m\u001b[0mcontroller\u001b[0m\u001b[1;33m)\u001b[0m\u001b[1;33m\u001b[0m\u001b[1;33m\u001b[0m\u001b[0m\n\u001b[0m\u001b[0;32m    535\u001b[0m     \u001b[1;32mexcept\u001b[0m \u001b[0mstem\u001b[0m\u001b[1;33m.\u001b[0m\u001b[0mProtocolError\u001b[0m\u001b[1;33m:\u001b[0m\u001b[1;33m\u001b[0m\u001b[1;33m\u001b[0m\u001b[0m\n",
      "\u001b[1;32m~\\Anaconda3\\lib\\site-packages\\stem\\connection.py\u001b[0m in \u001b[0;36mget_protocolinfo\u001b[1;34m(controller)\u001b[0m\n\u001b[0;32m   1024\u001b[0m     \u001b[1;32mtry\u001b[0m\u001b[1;33m:\u001b[0m\u001b[1;33m\u001b[0m\u001b[1;33m\u001b[0m\u001b[0m\n\u001b[1;32m-> 1025\u001b[1;33m       \u001b[0mprotocolinfo_response\u001b[0m \u001b[1;33m=\u001b[0m \u001b[0m_msg\u001b[0m\u001b[1;33m(\u001b[0m\u001b[0mcontroller\u001b[0m\u001b[1;33m,\u001b[0m \u001b[1;34m'PROTOCOLINFO 1'\u001b[0m\u001b[1;33m)\u001b[0m\u001b[1;33m\u001b[0m\u001b[1;33m\u001b[0m\u001b[0m\n\u001b[0m\u001b[0;32m   1026\u001b[0m     \u001b[1;32mexcept\u001b[0m \u001b[0mstem\u001b[0m\u001b[1;33m.\u001b[0m\u001b[0mSocketClosed\u001b[0m \u001b[1;32mas\u001b[0m \u001b[0mexc\u001b[0m\u001b[1;33m:\u001b[0m\u001b[1;33m\u001b[0m\u001b[1;33m\u001b[0m\u001b[0m\n",
      "\u001b[1;32m~\\Anaconda3\\lib\\site-packages\\stem\\connection.py\u001b[0m in \u001b[0;36m_msg\u001b[1;34m(controller, message)\u001b[0m\n\u001b[0;32m   1042\u001b[0m   \u001b[1;32melse\u001b[0m\u001b[1;33m:\u001b[0m\u001b[1;33m\u001b[0m\u001b[1;33m\u001b[0m\u001b[0m\n\u001b[1;32m-> 1043\u001b[1;33m     \u001b[1;32mreturn\u001b[0m \u001b[0mcontroller\u001b[0m\u001b[1;33m.\u001b[0m\u001b[0mmsg\u001b[0m\u001b[1;33m(\u001b[0m\u001b[0mmessage\u001b[0m\u001b[1;33m)\u001b[0m\u001b[1;33m\u001b[0m\u001b[1;33m\u001b[0m\u001b[0m\n\u001b[0m\u001b[0;32m   1044\u001b[0m \u001b[1;33m\u001b[0m\u001b[0m\n",
      "\u001b[1;32m~\\Anaconda3\\lib\\site-packages\\stem\\control.py\u001b[0m in \u001b[0;36mmsg\u001b[1;34m(self, message)\u001b[0m\n\u001b[0;32m    668\u001b[0m         \u001b[1;32mif\u001b[0m \u001b[0misinstance\u001b[0m\u001b[1;33m(\u001b[0m\u001b[0mresponse\u001b[0m\u001b[1;33m,\u001b[0m \u001b[0mstem\u001b[0m\u001b[1;33m.\u001b[0m\u001b[0mControllerError\u001b[0m\u001b[1;33m)\u001b[0m\u001b[1;33m:\u001b[0m\u001b[1;33m\u001b[0m\u001b[1;33m\u001b[0m\u001b[0m\n\u001b[1;32m--> 669\u001b[1;33m           \u001b[1;32mraise\u001b[0m \u001b[0mresponse\u001b[0m\u001b[1;33m\u001b[0m\u001b[1;33m\u001b[0m\u001b[0m\n\u001b[0m\u001b[0;32m    670\u001b[0m         \u001b[1;32melse\u001b[0m\u001b[1;33m:\u001b[0m\u001b[1;33m\u001b[0m\u001b[1;33m\u001b[0m\u001b[0m\n",
      "\u001b[1;32m~\\Anaconda3\\lib\\site-packages\\stem\\control.py\u001b[0m in \u001b[0;36m_reader_loop\u001b[1;34m(self)\u001b[0m\n\u001b[0;32m    947\u001b[0m       \u001b[1;32mtry\u001b[0m\u001b[1;33m:\u001b[0m\u001b[1;33m\u001b[0m\u001b[1;33m\u001b[0m\u001b[0m\n\u001b[1;32m--> 948\u001b[1;33m         \u001b[0mcontrol_message\u001b[0m \u001b[1;33m=\u001b[0m \u001b[0mself\u001b[0m\u001b[1;33m.\u001b[0m\u001b[0m_socket\u001b[0m\u001b[1;33m.\u001b[0m\u001b[0mrecv\u001b[0m\u001b[1;33m(\u001b[0m\u001b[1;33m)\u001b[0m\u001b[1;33m\u001b[0m\u001b[1;33m\u001b[0m\u001b[0m\n\u001b[0m\u001b[0;32m    949\u001b[0m         \u001b[0mself\u001b[0m\u001b[1;33m.\u001b[0m\u001b[0m_last_heartbeat\u001b[0m \u001b[1;33m=\u001b[0m \u001b[0mtime\u001b[0m\u001b[1;33m.\u001b[0m\u001b[0mtime\u001b[0m\u001b[1;33m(\u001b[0m\u001b[1;33m)\u001b[0m\u001b[1;33m\u001b[0m\u001b[1;33m\u001b[0m\u001b[0m\n",
      "\u001b[1;32m~\\Anaconda3\\lib\\site-packages\\stem\\socket.py\u001b[0m in \u001b[0;36mrecv\u001b[1;34m(self)\u001b[0m\n\u001b[0;32m    473\u001b[0m \u001b[1;33m\u001b[0m\u001b[0m\n\u001b[1;32m--> 474\u001b[1;33m     \u001b[1;32mreturn\u001b[0m \u001b[0mself\u001b[0m\u001b[1;33m.\u001b[0m\u001b[0m_recv\u001b[0m\u001b[1;33m(\u001b[0m\u001b[1;32mlambda\u001b[0m \u001b[0ms\u001b[0m\u001b[1;33m,\u001b[0m \u001b[0msf\u001b[0m\u001b[1;33m:\u001b[0m \u001b[0mrecv_message\u001b[0m\u001b[1;33m(\u001b[0m\u001b[0msf\u001b[0m\u001b[1;33m)\u001b[0m\u001b[1;33m)\u001b[0m\u001b[1;33m\u001b[0m\u001b[1;33m\u001b[0m\u001b[0m\n\u001b[0m\u001b[0;32m    475\u001b[0m \u001b[1;33m\u001b[0m\u001b[0m\n",
      "\u001b[1;32m~\\Anaconda3\\lib\\site-packages\\stem\\socket.py\u001b[0m in \u001b[0;36m_recv\u001b[1;34m(self, handler)\u001b[0m\n\u001b[0;32m    273\u001b[0m \u001b[1;33m\u001b[0m\u001b[0m\n\u001b[1;32m--> 274\u001b[1;33m         \u001b[1;32mreturn\u001b[0m \u001b[0mhandler\u001b[0m\u001b[1;33m(\u001b[0m\u001b[0mmy_socket\u001b[0m\u001b[1;33m,\u001b[0m \u001b[0mmy_socket_file\u001b[0m\u001b[1;33m)\u001b[0m\u001b[1;33m\u001b[0m\u001b[1;33m\u001b[0m\u001b[0m\n\u001b[0m\u001b[0;32m    275\u001b[0m       \u001b[1;32mexcept\u001b[0m \u001b[0mstem\u001b[0m\u001b[1;33m.\u001b[0m\u001b[0mSocketClosed\u001b[0m\u001b[1;33m:\u001b[0m\u001b[1;33m\u001b[0m\u001b[1;33m\u001b[0m\u001b[0m\n",
      "\u001b[1;32m~\\Anaconda3\\lib\\site-packages\\stem\\socket.py\u001b[0m in \u001b[0;36m<lambda>\u001b[1;34m(s, sf)\u001b[0m\n\u001b[0;32m    473\u001b[0m \u001b[1;33m\u001b[0m\u001b[0m\n\u001b[1;32m--> 474\u001b[1;33m     \u001b[1;32mreturn\u001b[0m \u001b[0mself\u001b[0m\u001b[1;33m.\u001b[0m\u001b[0m_recv\u001b[0m\u001b[1;33m(\u001b[0m\u001b[1;32mlambda\u001b[0m \u001b[0ms\u001b[0m\u001b[1;33m,\u001b[0m \u001b[0msf\u001b[0m\u001b[1;33m:\u001b[0m \u001b[0mrecv_message\u001b[0m\u001b[1;33m(\u001b[0m\u001b[0msf\u001b[0m\u001b[1;33m)\u001b[0m\u001b[1;33m)\u001b[0m\u001b[1;33m\u001b[0m\u001b[1;33m\u001b[0m\u001b[0m\n\u001b[0m\u001b[0;32m    475\u001b[0m \u001b[1;33m\u001b[0m\u001b[0m\n",
      "\u001b[1;32m~\\Anaconda3\\lib\\site-packages\\stem\\socket.py\u001b[0m in \u001b[0;36mrecv_message\u001b[1;34m(control_file, arrived_at)\u001b[0m\n\u001b[0;32m    705\u001b[0m       \u001b[0mlog\u001b[0m\u001b[1;33m.\u001b[0m\u001b[0minfo\u001b[0m\u001b[1;33m(\u001b[0m\u001b[0mERROR_MSG\u001b[0m \u001b[1;33m%\u001b[0m \u001b[1;33m(\u001b[0m\u001b[1;34m'ProtocolError'\u001b[0m\u001b[1;33m,\u001b[0m \u001b[1;34m'malformed status code/divider, \"%s\"'\u001b[0m \u001b[1;33m%\u001b[0m \u001b[0mlog\u001b[0m\u001b[1;33m.\u001b[0m\u001b[0mescape\u001b[0m\u001b[1;33m(\u001b[0m\u001b[0mline\u001b[0m\u001b[1;33m)\u001b[0m\u001b[1;33m)\u001b[0m\u001b[1;33m)\u001b[0m\u001b[1;33m\u001b[0m\u001b[1;33m\u001b[0m\u001b[0m\n\u001b[1;32m--> 706\u001b[1;33m       \u001b[1;32mraise\u001b[0m \u001b[0mstem\u001b[0m\u001b[1;33m.\u001b[0m\u001b[0mProtocolError\u001b[0m\u001b[1;33m(\u001b[0m\u001b[1;34m'Badly formatted reply line: beginning is malformed'\u001b[0m\u001b[1;33m)\u001b[0m\u001b[1;33m\u001b[0m\u001b[1;33m\u001b[0m\u001b[0m\n\u001b[0m\u001b[0;32m    707\u001b[0m     \u001b[1;32melif\u001b[0m \u001b[1;32mnot\u001b[0m \u001b[0mline\u001b[0m\u001b[1;33m.\u001b[0m\u001b[0mendswith\u001b[0m\u001b[1;33m(\u001b[0m\u001b[1;34mb'\\r\\n'\u001b[0m\u001b[1;33m)\u001b[0m\u001b[1;33m:\u001b[0m\u001b[1;33m\u001b[0m\u001b[1;33m\u001b[0m\u001b[0m\n",
      "\u001b[1;31mProtocolError\u001b[0m: Badly formatted reply line: beginning is malformed",
      "\nDuring handling of the above exception, another exception occurred:\n",
      "\u001b[1;31mIncorrectSocketType\u001b[0m                       Traceback (most recent call last)",
      "\u001b[1;32m<ipython-input-14-b2cf4d870bb0>\u001b[0m in \u001b[0;36m<module>\u001b[1;34m\u001b[0m\n\u001b[0;32m      1\u001b[0m \u001b[1;31m# Hiermit sollte die IP des Tor-Browsers gewechselt werden. Geht aber nicht\u001b[0m\u001b[1;33m\u001b[0m\u001b[1;33m\u001b[0m\u001b[1;33m\u001b[0m\u001b[0m\n\u001b[0;32m      2\u001b[0m \u001b[1;32mwith\u001b[0m \u001b[0mController\u001b[0m\u001b[1;33m.\u001b[0m\u001b[0mfrom_port\u001b[0m\u001b[1;33m(\u001b[0m\u001b[0mport\u001b[0m \u001b[1;33m=\u001b[0m \u001b[1;36m9050\u001b[0m\u001b[1;33m)\u001b[0m \u001b[1;32mas\u001b[0m \u001b[0mcontroller\u001b[0m\u001b[1;33m:\u001b[0m\u001b[1;33m\u001b[0m\u001b[1;33m\u001b[0m\u001b[0m\n\u001b[1;32m----> 3\u001b[1;33m             \u001b[0mcontroller\u001b[0m\u001b[1;33m.\u001b[0m\u001b[0mauthenticate\u001b[0m\u001b[1;33m(\u001b[0m\u001b[1;33m)\u001b[0m\u001b[1;33m\u001b[0m\u001b[1;33m\u001b[0m\u001b[0m\n\u001b[0m\u001b[0;32m      4\u001b[0m             \u001b[0mcontroller\u001b[0m\u001b[1;33m.\u001b[0m\u001b[0msignal\u001b[0m\u001b[1;33m(\u001b[0m\u001b[0mSignal\u001b[0m\u001b[1;33m.\u001b[0m\u001b[0mNEWNYM\u001b[0m\u001b[1;33m)\u001b[0m\u001b[1;33m\u001b[0m\u001b[1;33m\u001b[0m\u001b[0m\n",
      "\u001b[1;32m~\\Anaconda3\\lib\\site-packages\\stem\\control.py\u001b[0m in \u001b[0;36mauthenticate\u001b[1;34m(self, *args, **kwargs)\u001b[0m\n\u001b[0;32m   1110\u001b[0m \u001b[1;33m\u001b[0m\u001b[0m\n\u001b[0;32m   1111\u001b[0m     \u001b[1;32mimport\u001b[0m \u001b[0mstem\u001b[0m\u001b[1;33m.\u001b[0m\u001b[0mconnection\u001b[0m\u001b[1;33m\u001b[0m\u001b[1;33m\u001b[0m\u001b[0m\n\u001b[1;32m-> 1112\u001b[1;33m     \u001b[0mstem\u001b[0m\u001b[1;33m.\u001b[0m\u001b[0mconnection\u001b[0m\u001b[1;33m.\u001b[0m\u001b[0mauthenticate\u001b[0m\u001b[1;33m(\u001b[0m\u001b[0mself\u001b[0m\u001b[1;33m,\u001b[0m \u001b[1;33m*\u001b[0m\u001b[0margs\u001b[0m\u001b[1;33m,\u001b[0m \u001b[1;33m**\u001b[0m\u001b[0mkwargs\u001b[0m\u001b[1;33m)\u001b[0m\u001b[1;33m\u001b[0m\u001b[1;33m\u001b[0m\u001b[0m\n\u001b[0m\u001b[0;32m   1113\u001b[0m \u001b[1;33m\u001b[0m\u001b[0m\n\u001b[0;32m   1114\u001b[0m   \u001b[1;32mdef\u001b[0m \u001b[0mreconnect\u001b[0m\u001b[1;33m(\u001b[0m\u001b[0mself\u001b[0m\u001b[1;33m,\u001b[0m \u001b[1;33m*\u001b[0m\u001b[0margs\u001b[0m\u001b[1;33m,\u001b[0m \u001b[1;33m**\u001b[0m\u001b[0mkwargs\u001b[0m\u001b[1;33m)\u001b[0m\u001b[1;33m:\u001b[0m\u001b[1;33m\u001b[0m\u001b[1;33m\u001b[0m\u001b[0m\n",
      "\u001b[1;32m~\\Anaconda3\\lib\\site-packages\\stem\\connection.py\u001b[0m in \u001b[0;36mauthenticate\u001b[1;34m(controller, password, chroot_path, protocolinfo_response)\u001b[0m\n\u001b[0;32m    534\u001b[0m       \u001b[0mprotocolinfo_response\u001b[0m \u001b[1;33m=\u001b[0m \u001b[0mget_protocolinfo\u001b[0m\u001b[1;33m(\u001b[0m\u001b[0mcontroller\u001b[0m\u001b[1;33m)\u001b[0m\u001b[1;33m\u001b[0m\u001b[1;33m\u001b[0m\u001b[0m\n\u001b[0;32m    535\u001b[0m     \u001b[1;32mexcept\u001b[0m \u001b[0mstem\u001b[0m\u001b[1;33m.\u001b[0m\u001b[0mProtocolError\u001b[0m\u001b[1;33m:\u001b[0m\u001b[1;33m\u001b[0m\u001b[1;33m\u001b[0m\u001b[0m\n\u001b[1;32m--> 536\u001b[1;33m       \u001b[1;32mraise\u001b[0m \u001b[0mIncorrectSocketType\u001b[0m\u001b[1;33m(\u001b[0m\u001b[1;34m'unable to use the control socket'\u001b[0m\u001b[1;33m)\u001b[0m\u001b[1;33m\u001b[0m\u001b[1;33m\u001b[0m\u001b[0m\n\u001b[0m\u001b[0;32m    537\u001b[0m     \u001b[1;32mexcept\u001b[0m \u001b[0mstem\u001b[0m\u001b[1;33m.\u001b[0m\u001b[0mSocketError\u001b[0m \u001b[1;32mas\u001b[0m \u001b[0mexc\u001b[0m\u001b[1;33m:\u001b[0m\u001b[1;33m\u001b[0m\u001b[1;33m\u001b[0m\u001b[0m\n\u001b[0;32m    538\u001b[0m       \u001b[1;32mraise\u001b[0m \u001b[0mAuthenticationFailure\u001b[0m\u001b[1;33m(\u001b[0m\u001b[1;34m'socket connection failed (%s)'\u001b[0m \u001b[1;33m%\u001b[0m \u001b[0mexc\u001b[0m\u001b[1;33m)\u001b[0m\u001b[1;33m\u001b[0m\u001b[1;33m\u001b[0m\u001b[0m\n",
      "\u001b[1;31mIncorrectSocketType\u001b[0m: unable to use the control socket"
     ]
    }
   ],
   "source": [
    "# Hiermit sollte die IP des Tor-Browsers gewechselt werden. Geht aber nicht\n",
    "with Controller.from_port(port = 9051) as controller:\n",
    "            controller.authenticate()\n",
    "            controller.signal(Signal.NEWNYM)       \n"
   ]
  },
  {
   "cell_type": "code",
   "execution_count": 11,
   "metadata": {},
   "outputs": [],
   "source": [
    "torexe = os.popen(r'C:\\Users\\Zoe\\Desktop\\Tor Browser\\Browser\\TorBrowser\\Tor\\tor.exe')\n",
    "profile = FirefoxProfile(r'C:\\Users\\Zoe\\Desktop\\Tor Browser\\Browser\\TorBrowser\\Data\\Browser\\profile.default')\n",
    "profile.set_preference('network.proxy.type', 1)\n",
    "profile.set_preference('network.proxy.socks', '127.0.0.1')\n",
    "profile.set_preference('network.proxy.socks_port', 9050)\n",
    "profile.set_preference(\"network.proxy.socks_remote_dns\", False)\n",
    "profile.update_preferences()\n",
    "driver = webdriver.Firefox(firefox_profile= profile, executable_path=r\"C:\\geckodriver.exe\")\n",
    "driver.get(\"http://check.torproject.org\")"
   ]
  },
  {
   "cell_type": "code",
   "execution_count": 12,
   "metadata": {},
   "outputs": [
    {
     "name": "stderr",
     "output_type": "stream",
     "text": [
      "\n",
      "\n",
      "  0%|          | 0/11 [00:00<?, ?it/s]\n",
      "\n",
      "\n",
      "  0%|          | 0/240 [00:00<?, ?it/s]"
     ]
    },
    {
     "ename": "SocketError",
     "evalue": "[WinError 10061] No connection could be made because the target machine actively refused it",
     "output_type": "error",
     "traceback": [
      "\u001b[1;31m---------------------------------------------------------------------------\u001b[0m",
      "\u001b[1;31mConnectionRefusedError\u001b[0m                    Traceback (most recent call last)",
      "\u001b[1;32m~\\Anaconda3\\lib\\site-packages\\stem\\socket.py\u001b[0m in \u001b[0;36m_make_socket\u001b[1;34m(self)\u001b[0m\n\u001b[0;32m    534\u001b[0m       \u001b[0mcontrol_socket\u001b[0m \u001b[1;33m=\u001b[0m \u001b[0msocket\u001b[0m\u001b[1;33m.\u001b[0m\u001b[0msocket\u001b[0m\u001b[1;33m(\u001b[0m\u001b[0msocket\u001b[0m\u001b[1;33m.\u001b[0m\u001b[0mAF_INET\u001b[0m\u001b[1;33m,\u001b[0m \u001b[0msocket\u001b[0m\u001b[1;33m.\u001b[0m\u001b[0mSOCK_STREAM\u001b[0m\u001b[1;33m)\u001b[0m\u001b[1;33m\u001b[0m\u001b[1;33m\u001b[0m\u001b[0m\n\u001b[1;32m--> 535\u001b[1;33m       \u001b[0mcontrol_socket\u001b[0m\u001b[1;33m.\u001b[0m\u001b[0mconnect\u001b[0m\u001b[1;33m(\u001b[0m\u001b[1;33m(\u001b[0m\u001b[0mself\u001b[0m\u001b[1;33m.\u001b[0m\u001b[0maddress\u001b[0m\u001b[1;33m,\u001b[0m \u001b[0mself\u001b[0m\u001b[1;33m.\u001b[0m\u001b[0mport\u001b[0m\u001b[1;33m)\u001b[0m\u001b[1;33m)\u001b[0m\u001b[1;33m\u001b[0m\u001b[1;33m\u001b[0m\u001b[0m\n\u001b[0m\u001b[0;32m    536\u001b[0m       \u001b[1;32mreturn\u001b[0m \u001b[0mcontrol_socket\u001b[0m\u001b[1;33m\u001b[0m\u001b[1;33m\u001b[0m\u001b[0m\n",
      "\u001b[1;31mConnectionRefusedError\u001b[0m: [WinError 10061] No connection could be made because the target machine actively refused it",
      "\nDuring handling of the above exception, another exception occurred:\n",
      "\u001b[1;31mSocketError\u001b[0m                               Traceback (most recent call last)",
      "\u001b[1;32m<ipython-input-12-3cfe3cc369e0>\u001b[0m in \u001b[0;36m<module>\u001b[1;34m\u001b[0m\n\u001b[0;32m     54\u001b[0m         \u001b[0mtime\u001b[0m\u001b[1;33m.\u001b[0m\u001b[0msleep\u001b[0m\u001b[1;33m(\u001b[0m\u001b[1;36m3\u001b[0m\u001b[1;33m)\u001b[0m\u001b[1;33m\u001b[0m\u001b[1;33m\u001b[0m\u001b[0m\n\u001b[0;32m     55\u001b[0m \u001b[1;33m\u001b[0m\u001b[0m\n\u001b[1;32m---> 56\u001b[1;33m         \u001b[1;32mwith\u001b[0m \u001b[0mController\u001b[0m\u001b[1;33m.\u001b[0m\u001b[0mfrom_port\u001b[0m\u001b[1;33m(\u001b[0m\u001b[0mport\u001b[0m \u001b[1;33m=\u001b[0m \u001b[1;36m9051\u001b[0m\u001b[1;33m)\u001b[0m \u001b[1;32mas\u001b[0m \u001b[0mcontroller\u001b[0m\u001b[1;33m:\u001b[0m\u001b[1;33m\u001b[0m\u001b[1;33m\u001b[0m\u001b[0m\n\u001b[0m\u001b[0;32m     57\u001b[0m             \u001b[0mcontroller\u001b[0m\u001b[1;33m.\u001b[0m\u001b[0mauthenticate\u001b[0m\u001b[1;33m(\u001b[0m\u001b[1;33m)\u001b[0m\u001b[1;33m\u001b[0m\u001b[1;33m\u001b[0m\u001b[0m\n\u001b[0;32m     58\u001b[0m             \u001b[0mcontroller\u001b[0m\u001b[1;33m.\u001b[0m\u001b[0msignal\u001b[0m\u001b[1;33m(\u001b[0m\u001b[0mSignal\u001b[0m\u001b[1;33m.\u001b[0m\u001b[0mNEWNYM\u001b[0m\u001b[1;33m)\u001b[0m\u001b[1;33m\u001b[0m\u001b[1;33m\u001b[0m\u001b[0m\n",
      "\u001b[1;32m~\\Anaconda3\\lib\\site-packages\\stem\\control.py\u001b[0m in \u001b[0;36mfrom_port\u001b[1;34m(address, port)\u001b[0m\n\u001b[0;32m   1031\u001b[0m       \u001b[0mcontrol_port\u001b[0m \u001b[1;33m=\u001b[0m \u001b[0mstem\u001b[0m\u001b[1;33m.\u001b[0m\u001b[0mconnection\u001b[0m\u001b[1;33m.\u001b[0m\u001b[0m_connection_for_default_port\u001b[0m\u001b[1;33m(\u001b[0m\u001b[0maddress\u001b[0m\u001b[1;33m)\u001b[0m\u001b[1;33m\u001b[0m\u001b[1;33m\u001b[0m\u001b[0m\n\u001b[0;32m   1032\u001b[0m     \u001b[1;32melse\u001b[0m\u001b[1;33m:\u001b[0m\u001b[1;33m\u001b[0m\u001b[1;33m\u001b[0m\u001b[0m\n\u001b[1;32m-> 1033\u001b[1;33m       \u001b[0mcontrol_port\u001b[0m \u001b[1;33m=\u001b[0m \u001b[0mstem\u001b[0m\u001b[1;33m.\u001b[0m\u001b[0msocket\u001b[0m\u001b[1;33m.\u001b[0m\u001b[0mControlPort\u001b[0m\u001b[1;33m(\u001b[0m\u001b[0maddress\u001b[0m\u001b[1;33m,\u001b[0m \u001b[0mport\u001b[0m\u001b[1;33m)\u001b[0m\u001b[1;33m\u001b[0m\u001b[1;33m\u001b[0m\u001b[0m\n\u001b[0m\u001b[0;32m   1034\u001b[0m \u001b[1;33m\u001b[0m\u001b[0m\n\u001b[0;32m   1035\u001b[0m     \u001b[1;32mreturn\u001b[0m \u001b[0mController\u001b[0m\u001b[1;33m(\u001b[0m\u001b[0mcontrol_port\u001b[0m\u001b[1;33m)\u001b[0m\u001b[1;33m\u001b[0m\u001b[1;33m\u001b[0m\u001b[0m\n",
      "\u001b[1;32m~\\Anaconda3\\lib\\site-packages\\stem\\socket.py\u001b[0m in \u001b[0;36m__init__\u001b[1;34m(self, address, port, connect)\u001b[0m\n\u001b[0;32m    501\u001b[0m \u001b[1;33m\u001b[0m\u001b[0m\n\u001b[0;32m    502\u001b[0m     \u001b[1;32mif\u001b[0m \u001b[0mconnect\u001b[0m\u001b[1;33m:\u001b[0m\u001b[1;33m\u001b[0m\u001b[1;33m\u001b[0m\u001b[0m\n\u001b[1;32m--> 503\u001b[1;33m       \u001b[0mself\u001b[0m\u001b[1;33m.\u001b[0m\u001b[0mconnect\u001b[0m\u001b[1;33m(\u001b[0m\u001b[1;33m)\u001b[0m\u001b[1;33m\u001b[0m\u001b[1;33m\u001b[0m\u001b[0m\n\u001b[0m\u001b[0;32m    504\u001b[0m \u001b[1;33m\u001b[0m\u001b[0m\n\u001b[0;32m    505\u001b[0m   \u001b[1;32mdef\u001b[0m \u001b[0mget_address\u001b[0m\u001b[1;33m(\u001b[0m\u001b[0mself\u001b[0m\u001b[1;33m)\u001b[0m\u001b[1;33m:\u001b[0m\u001b[1;33m\u001b[0m\u001b[1;33m\u001b[0m\u001b[0m\n",
      "\u001b[1;32m~\\Anaconda3\\lib\\site-packages\\stem\\socket.py\u001b[0m in \u001b[0;36mconnect\u001b[1;34m(self)\u001b[0m\n\u001b[0;32m    170\u001b[0m \u001b[1;33m\u001b[0m\u001b[0m\n\u001b[0;32m    171\u001b[0m       \u001b[1;32mwith\u001b[0m \u001b[0mself\u001b[0m\u001b[1;33m.\u001b[0m\u001b[0m_recv_lock\u001b[0m\u001b[1;33m:\u001b[0m\u001b[1;33m\u001b[0m\u001b[1;33m\u001b[0m\u001b[0m\n\u001b[1;32m--> 172\u001b[1;33m         \u001b[0mself\u001b[0m\u001b[1;33m.\u001b[0m\u001b[0m_socket\u001b[0m \u001b[1;33m=\u001b[0m \u001b[0mself\u001b[0m\u001b[1;33m.\u001b[0m\u001b[0m_make_socket\u001b[0m\u001b[1;33m(\u001b[0m\u001b[1;33m)\u001b[0m\u001b[1;33m\u001b[0m\u001b[1;33m\u001b[0m\u001b[0m\n\u001b[0m\u001b[0;32m    173\u001b[0m         \u001b[0mself\u001b[0m\u001b[1;33m.\u001b[0m\u001b[0m_socket_file\u001b[0m \u001b[1;33m=\u001b[0m \u001b[0mself\u001b[0m\u001b[1;33m.\u001b[0m\u001b[0m_socket\u001b[0m\u001b[1;33m.\u001b[0m\u001b[0mmakefile\u001b[0m\u001b[1;33m(\u001b[0m\u001b[0mmode\u001b[0m \u001b[1;33m=\u001b[0m \u001b[1;34m'rwb'\u001b[0m\u001b[1;33m)\u001b[0m\u001b[1;33m\u001b[0m\u001b[1;33m\u001b[0m\u001b[0m\n\u001b[0;32m    174\u001b[0m         \u001b[0mself\u001b[0m\u001b[1;33m.\u001b[0m\u001b[0m_is_alive\u001b[0m \u001b[1;33m=\u001b[0m \u001b[1;32mTrue\u001b[0m\u001b[1;33m\u001b[0m\u001b[1;33m\u001b[0m\u001b[0m\n",
      "\u001b[1;32m~\\Anaconda3\\lib\\site-packages\\stem\\socket.py\u001b[0m in \u001b[0;36m_make_socket\u001b[1;34m(self)\u001b[0m\n\u001b[0;32m    536\u001b[0m       \u001b[1;32mreturn\u001b[0m \u001b[0mcontrol_socket\u001b[0m\u001b[1;33m\u001b[0m\u001b[1;33m\u001b[0m\u001b[0m\n\u001b[0;32m    537\u001b[0m     \u001b[1;32mexcept\u001b[0m \u001b[0msocket\u001b[0m\u001b[1;33m.\u001b[0m\u001b[0merror\u001b[0m \u001b[1;32mas\u001b[0m \u001b[0mexc\u001b[0m\u001b[1;33m:\u001b[0m\u001b[1;33m\u001b[0m\u001b[1;33m\u001b[0m\u001b[0m\n\u001b[1;32m--> 538\u001b[1;33m       \u001b[1;32mraise\u001b[0m \u001b[0mstem\u001b[0m\u001b[1;33m.\u001b[0m\u001b[0mSocketError\u001b[0m\u001b[1;33m(\u001b[0m\u001b[0mexc\u001b[0m\u001b[1;33m)\u001b[0m\u001b[1;33m\u001b[0m\u001b[1;33m\u001b[0m\u001b[0m\n\u001b[0m\u001b[0;32m    539\u001b[0m \u001b[1;33m\u001b[0m\u001b[0m\n\u001b[0;32m    540\u001b[0m \u001b[1;33m\u001b[0m\u001b[0m\n",
      "\u001b[1;31mSocketError\u001b[0m: [WinError 10061] No connection could be made because the target machine actively refused it"
     ]
    }
   ],
   "source": [
    "#offenbar hatte ich gar keinen Zugriff bisher auf den Tor. Nun gehts. Mal schauen obs jetzt geht.\n",
    "listeadress=[]\n",
    "counter=600\n",
    "nummer=6\n",
    "\n",
    "df_list=[dff7,dff8,dff9,dff10,dff11,dff12,dff13,dff14,dff15,dff16,dff17]\n",
    "\n",
    "for df in tqdm(df_list):\n",
    "    #Wir starten den Tor-Browser angehen auf\n",
    "    torexe = os.popen(r'C:\\Users\\Zoe\\Desktop\\Tor Browser\\Browser\\TorBrowser\\Tor\\tor.exe')\n",
    "    profile = FirefoxProfile(r'C:\\Users\\Zoe\\Desktop\\Tor Browser\\Browser\\TorBrowser\\Data\\Browser\\profile.default')\n",
    "    profile.set_preference('network.proxy.type', 1)\n",
    "    profile.set_preference('network.proxy.socks', '127.0.0.1')\n",
    "    profile.set_preference('network.proxy.socks_port', 9050)\n",
    "    profile.set_preference(\"network.proxy.socks_remote_dns\", False)\n",
    "    profile.update_preferences()\n",
    "    driver = webdriver.Firefox(firefox_profile= profile, executable_path=r\"C:\\geckodriver.exe\")\n",
    "    \n",
    "    #Und nun sagen wir dem Browser, welche Seite er besuchen sollte. \n",
    "    driver.get('https://zg.chregister.ch/cr-portal/suche/suche.xhtml')\n",
    "    time.sleep(5)\n",
    "    #Hier drücke ich den Cookie-Banner weg\n",
    "    cookie=driver.find_element_by_id(\"j_idt198\")\n",
    "    time.sleep(4)            \n",
    "    cookie.click()#ACHTUNG: Möglicherweise wechselt hier immer mal wieder die ID-NR\n",
    "    time.sleep(2)\n",
    "    driver.find_element_by_class_name('ui-icon.ui-icon-triangle-1-e').click()\n",
    "    time.sleep(3)\n",
    "    for adress in tqdm(df[\"Adresse\"]): #die Adressen durchgehen\n",
    "        # Den Filter ansteuern, wo ich Domiziladresse auwählen kann\n",
    "        su_fel_ad = driver.find_element_by_id('idSucheForm:panel:idDiverseTyp_label')\n",
    "        time.sleep(1)\n",
    "        driver.execute_script('arguments[0].click();', su_fel_ad)\n",
    "        time.sleep(1)\n",
    "        filt = driver.find_element_by_id(\"idSucheForm:panel:idDiverseTyp_filter\")\n",
    "        time.sleep(1)\n",
    "        filt.send_keys('Domiziladresse')\n",
    "        filt.send_keys(Keys.ENTER)\n",
    "        time.sleep(1)\n",
    "    \n",
    "        search_adress=driver.find_element_by_id(\"idSucheForm:panel:idDiverseSuchtext\")\n",
    "        search_adress.send_keys(adress) #Adresse Eingeben\n",
    "        search_adress.send_keys(Keys.ENTER) #Enter drücken\n",
    "        time.sleep(5)\n",
    "        page = driver.page_source.encode(\"utf-8\") #Page in Variable speichern\n",
    "\n",
    "        with open (folderpath+\"/HRSeiten_Gemeinden/frontpage\"+str(nummer)+\"_\"+str(counter)+\".htm\", \"wb+\") as file:\n",
    "            file.write(page)\n",
    "            file.close()\n",
    "            \n",
    "        pagename = \"frontpage\"+str(nummer)+\"_\"+str(counter)+\".htm\"        \n",
    "        counter=counter+1 \n",
    "\n",
    "        clear_all=driver.find_element_by_id(\"idSucheForm:j_idt167\").click()\n",
    "        time.sleep(3)\n",
    "        \n",
    "        \n",
    "        \n",
    "        minidictadress={\"Adresse\":adress, \"Dokument\":pagename}\n",
    "        listeadress.append(minidictadress)\n",
    "    nummer=nummer+1\n",
    "    driver.close() # Hier das Browserfenster wieder schliessen, um danach für das neue df erneut zu öffnen\n",
    "    time.sleep(300) # Nun Pause.\n"
   ]
  },
  {
   "cell_type": "code",
   "execution_count": null,
   "metadata": {},
   "outputs": [],
   "source": []
  }
 ],
 "metadata": {
  "kernelspec": {
   "display_name": "Python 3",
   "language": "python",
   "name": "python3"
  },
  "language_info": {
   "codemirror_mode": {
    "name": "ipython",
    "version": 3
   },
   "file_extension": ".py",
   "mimetype": "text/x-python",
   "name": "python",
   "nbconvert_exporter": "python",
   "pygments_lexer": "ipython3",
   "version": "3.7.3"
  }
 },
 "nbformat": 4,
 "nbformat_minor": 4
}
