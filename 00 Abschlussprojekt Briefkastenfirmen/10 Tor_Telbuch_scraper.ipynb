{
 "cells": [
  {
   "cell_type": "code",
   "execution_count": 1,
   "metadata": {},
   "outputs": [],
   "source": [
    "from selenium import webdriver\n",
    "from selenium.webdriver.firefox.firefox_profile import FirefoxProfile\n",
    "from selenium.webdriver.firefox.firefox_binary import FirefoxBinary\n",
    "import selenium\n",
    "from selenium import webdriver\n",
    "from selenium.webdriver.common.keys import Keys\n",
    "from selenium.webdriver.common.by import By\n",
    "from selenium.webdriver.support.ui import Select\n",
    "import time\n",
    "import pandas as pd\n",
    "from bs4 import BeautifulSoup\n",
    "from tqdm import tqdm\n",
    "import os\n",
    "import re\n",
    "folderpath=r\"C:\\Users\\Zoe\\Desktop\\maz-datenjournalismus\\Daten_BR_Handelsreg\""
   ]
  },
  {
   "cell_type": "code",
   "execution_count": 2,
   "metadata": {},
   "outputs": [],
   "source": [
    "df11=pd.read_csv(folderpath+\"\\BRFrames/adresse_Zug\")"
   ]
  },
  {
   "cell_type": "code",
   "execution_count": 3,
   "metadata": {},
   "outputs": [],
   "source": [
    "dff=pd.read_csv(folderpath+\"/BRFrames/alle_Adressen\")"
   ]
  },
  {
   "cell_type": "code",
   "execution_count": 7,
   "metadata": {},
   "outputs": [],
   "source": [
    "df111=df11.tail(20)"
   ]
  },
  {
   "cell_type": "code",
   "execution_count": 8,
   "metadata": {},
   "outputs": [
    {
     "name": "stderr",
     "output_type": "stream",
     "text": [
      "\n",
      "  0%|          | 0/20 [00:00<?, ?it/s]\n",
      "  5%|▌         | 1/20 [00:07<02:19,  7.33s/it]\n",
      " 10%|█         | 2/20 [00:14<02:11,  7.29s/it]\n",
      " 15%|█▌        | 3/20 [00:21<02:03,  7.27s/it]\n",
      " 20%|██        | 4/20 [00:28<01:56,  7.25s/it]\n",
      " 25%|██▌       | 5/20 [00:36<01:48,  7.25s/it]\n",
      " 30%|███       | 6/20 [00:43<01:41,  7.25s/it]\n",
      " 35%|███▌      | 7/20 [00:50<01:34,  7.24s/it]\n",
      " 40%|████      | 8/20 [00:57<01:26,  7.25s/it]\n",
      " 45%|████▌     | 9/20 [01:05<01:19,  7.24s/it]\n",
      " 50%|█████     | 10/20 [01:12<01:12,  7.23s/it]\n",
      " 55%|█████▌    | 11/20 [01:19<01:05,  7.24s/it]\n",
      " 60%|██████    | 12/20 [01:26<00:57,  7.25s/it]\n",
      " 65%|██████▌   | 13/20 [01:34<00:50,  7.25s/it]\n",
      " 70%|███████   | 14/20 [01:41<00:43,  7.24s/it]\n",
      " 75%|███████▌  | 15/20 [01:48<00:36,  7.24s/it]\n",
      " 80%|████████  | 16/20 [01:55<00:28,  7.22s/it]\n",
      " 85%|████████▌ | 17/20 [02:03<00:21,  7.23s/it]\n",
      " 90%|█████████ | 18/20 [02:10<00:14,  7.22s/it]\n",
      " 95%|█████████▌| 19/20 [02:17<00:07,  7.23s/it]\n",
      "100%|██████████| 20/20 [02:24<00:00,  7.23s/it]\n"
     ]
    },
    {
     "ename": "NameError",
     "evalue": "name 'adress' is not defined",
     "output_type": "error",
     "traceback": [
      "\u001b[1;31m---------------------------------------------------------------------------\u001b[0m",
      "\u001b[1;31mNameError\u001b[0m                                 Traceback (most recent call last)",
      "\u001b[1;32m<ipython-input-8-9d6e354cb234>\u001b[0m in \u001b[0;36m<module>\u001b[1;34m\u001b[0m\n\u001b[0;32m     26\u001b[0m \u001b[1;33m\u001b[0m\u001b[0m\n\u001b[0;32m     27\u001b[0m \u001b[1;33m\u001b[0m\u001b[0m\n\u001b[1;32m---> 28\u001b[1;33m \u001b[0mminidicttelbuch\u001b[0m\u001b[1;33m=\u001b[0m\u001b[1;33m{\u001b[0m\u001b[1;34m\"Adresse\"\u001b[0m\u001b[1;33m:\u001b[0m\u001b[0madress\u001b[0m\u001b[1;33m,\u001b[0m \u001b[1;34m\"Dokument\"\u001b[0m\u001b[1;33m:\u001b[0m\u001b[0mtelpage\u001b[0m\u001b[1;33m}\u001b[0m\u001b[1;33m\u001b[0m\u001b[1;33m\u001b[0m\u001b[0m\n\u001b[0m\u001b[0;32m     29\u001b[0m \u001b[0mlistetelbuch\u001b[0m\u001b[1;33m.\u001b[0m\u001b[0mappend\u001b[0m\u001b[1;33m(\u001b[0m\u001b[0mminidicttelbuch\u001b[0m\u001b[1;33m)\u001b[0m\u001b[1;33m\u001b[0m\u001b[1;33m\u001b[0m\u001b[0m\n",
      "\u001b[1;31mNameError\u001b[0m: name 'adress' is not defined"
     ]
    }
   ],
   "source": [
    "counter=4680\n",
    "\n",
    "driver = webdriver.Firefox(executable_path='C:\\geckodriver.exe') # jetzt via Tor mit unterschiedlichen IP's\n",
    "binary = FirefoxBinary(r\"C:\\Users\\Zoe\\Desktop\\Tor Browser\\Browser\\firefox.exe\") \n",
    "#Und nun sagen wir dem Browser, welche Seite er besuchen sollte. \n",
    "driver.get(\"https://tel.search.ch/\")\n",
    "for adresse in tqdm(df111[\"Adresse\"]):\n",
    "    eingabe=driver.find_element_by_name(\"wo\")\n",
    "    eingabe.send_keys(adresse) #Adresse Eingeben\n",
    "    time.sleep(1)\n",
    "    eingabe.send_keys(Keys.ENTER) #Enter drücken\n",
    "    time.sleep(5)\n",
    "    telpage = driver.page_source.encode(\"utf-8\") #Page in Variable speichern\n",
    "\n",
    "    with open (folderpath+\"/Telbuch_Seiten/telfront\"+str(counter)+\".htm\", \"wb+\") as file:\n",
    "        file.write(telpage)\n",
    "        file.close()\n",
    "\n",
    "    telpagename = \"telfront\"+str(counter)+\".htm\"        \n",
    "    counter=counter+1 \n",
    "\n",
    "    clear_wo=driver.find_element_by_name(\"wo\")\n",
    "    clear_wo.clear()\n",
    "    time.sleep(1)\n",
    "\n",
    "\n",
    "\n",
    "minidicttelbuch={\"Adresse\":adresse, \"Dokument\":telpage}\n",
    "listetelbuch.append(minidicttelbuch)"
   ]
  },
  {
   "cell_type": "code",
   "execution_count": null,
   "metadata": {},
   "outputs": [],
   "source": []
  }
 ],
 "metadata": {
  "kernelspec": {
   "display_name": "Python 3",
   "language": "python",
   "name": "python3"
  },
  "language_info": {
   "codemirror_mode": {
    "name": "ipython",
    "version": 3
   },
   "file_extension": ".py",
   "mimetype": "text/x-python",
   "name": "python",
   "nbconvert_exporter": "python",
   "pygments_lexer": "ipython3",
   "version": "3.7.3"
  }
 },
 "nbformat": 4,
 "nbformat_minor": 4
}
