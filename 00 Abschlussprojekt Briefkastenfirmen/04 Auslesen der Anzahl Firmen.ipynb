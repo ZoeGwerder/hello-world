{
 "cells": [
  {
   "cell_type": "code",
   "execution_count": 34,
   "metadata": {},
   "outputs": [],
   "source": [
    "from bs4 import BeautifulSoup\n",
    "import pandas as pd\n",
    "import os\n",
    "import re\n",
    "import bs4 as bs\n",
    "import requests\n",
    "import bs4 as bs\n",
    "import requests\n",
    "import time\n",
    "import pandas as pd\n",
    "from bs4 import BeautifulSoup\n",
    "from tqdm import tqdm\n",
    "import os\n",
    "import re\n",
    "folderpath=r\"C:\\Users\\Zoe\\Desktop\\maz-datenjournalismus\\Daten_BR_Handelsreg\""
   ]
  },
  {
   "cell_type": "markdown",
   "metadata": {},
   "source": [
    "# Listenpositionen der Angaben finden"
   ]
  },
  {
   "cell_type": "code",
   "execution_count": null,
   "metadata": {},
   "outputs": [],
   "source": [
    "file_g=open(folderpath+\"/HRSeiten/frontpage4435.htm\", 'r')\n",
    "text_g=file_g.read()\n",
    "soup_g=BeautifulSoup(text_g, 'html.parser')"
   ]
  },
  {
   "cell_type": "code",
   "execution_count": null,
   "metadata": {},
   "outputs": [],
   "source": [
    "soup_g"
   ]
  },
  {
   "cell_type": "code",
   "execution_count": null,
   "metadata": {},
   "outputs": [],
   "source": [
    "div_g_list=soup_g.find_all(\"div\")"
   ]
  },
  {
   "cell_type": "code",
   "execution_count": null,
   "metadata": {},
   "outputs": [],
   "source": [
    "#hier also die Anzahl gefundener Firmen. \n",
    "#reicht eigentlich schon. kann ich über den Filenamen erschliessen.\n",
    "div_g_list[-26].text"
   ]
  },
  {
   "cell_type": "code",
   "execution_count": null,
   "metadata": {},
   "outputs": [],
   "source": [
    "div_list"
   ]
  },
  {
   "cell_type": "code",
   "execution_count": null,
   "metadata": {},
   "outputs": [],
   "source": [
    "file_o=open(folderpath+\"/HRSeiten/frontpage0.htm\", 'r')\n",
    "text_o=file_o.read()\n",
    "soup_o=BeautifulSoup(text_o, 'html.parser')"
   ]
  },
  {
   "cell_type": "code",
   "execution_count": null,
   "metadata": {},
   "outputs": [],
   "source": [
    "soup_o"
   ]
  },
  {
   "cell_type": "code",
   "execution_count": null,
   "metadata": {},
   "outputs": [],
   "source": [
    "div_o_list=soup_o.find_all(\"div\")"
   ]
  },
  {
   "cell_type": "code",
   "execution_count": null,
   "metadata": {},
   "outputs": [],
   "source": [
    "len(div_o_list)"
   ]
  },
  {
   "cell_type": "code",
   "execution_count": null,
   "metadata": {},
   "outputs": [],
   "source": [
    "# Listenposition, wenn es kein Resultat hat\n",
    "div_o_list[15]"
   ]
  },
  {
   "cell_type": "markdown",
   "metadata": {},
   "source": [
    "# Position zum Auslesen der Adresse finden\n",
    "Damit kann ich abgleichen ob ich auch alle Files erwischt habe - oder bei welchen ich nochmals eine Runde laufen lassen muss."
   ]
  },
  {
   "cell_type": "code",
   "execution_count": null,
   "metadata": {},
   "outputs": [],
   "source": [
    "file_g=open(folderpath+\"/HRSeiten/frontpage4435.htm\", 'r')\n",
    "text_a=file_g.read()\n",
    "soup_a=BeautifulSoup(text_a, 'html.parser')"
   ]
  },
  {
   "cell_type": "code",
   "execution_count": null,
   "metadata": {},
   "outputs": [],
   "source": [
    "div_at_list=soup_a.find_all(\"div\")"
   ]
  },
  {
   "cell_type": "code",
   "execution_count": null,
   "metadata": {},
   "outputs": [],
   "source": [
    "len(div_at_list)"
   ]
  },
  {
   "cell_type": "code",
   "execution_count": null,
   "metadata": {},
   "outputs": [],
   "source": [
    "div_at_list[-52]"
   ]
  },
  {
   "cell_type": "code",
   "execution_count": null,
   "metadata": {},
   "outputs": [],
   "source": [
    "# HIer die Listenposition wenn es keine Firmen drin hat. \n",
    "input_list_at=div_at_list[50].find_all(\"input\")"
   ]
  },
  {
   "cell_type": "code",
   "execution_count": null,
   "metadata": {},
   "outputs": [],
   "source": [
    "input_list_at[0]"
   ]
  },
  {
   "cell_type": "code",
   "execution_count": null,
   "metadata": {},
   "outputs": [],
   "source": [
    "# Nun schauen, ob es mit Firmen an derselben Position ist"
   ]
  },
  {
   "cell_type": "code",
   "execution_count": null,
   "metadata": {},
   "outputs": [],
   "source": [
    "file_af=open(folderpath+\"/HRSeiten/frontpage4447.htm\", 'r')\n",
    "text_af=file_af.read()\n",
    "soup_af=BeautifulSoup(text_af, 'html.parser')\n",
    "div_af_list=soup_af.find_all(\"div\")"
   ]
  },
  {
   "cell_type": "code",
   "execution_count": null,
   "metadata": {},
   "outputs": [],
   "source": [
    "div_af_list[-51]"
   ]
  },
  {
   "cell_type": "code",
   "execution_count": null,
   "metadata": {},
   "outputs": [],
   "source": [
    "input_list_af=div_af_list[-51].find_all(\"input\")"
   ]
  },
  {
   "cell_type": "code",
   "execution_count": null,
   "metadata": {},
   "outputs": [],
   "source": [
    "input_list_af[0]"
   ]
  },
  {
   "cell_type": "code",
   "execution_count": null,
   "metadata": {},
   "outputs": [],
   "source": [
    "regex_adress=r\"value=\\\"(\\.*)\\\"\""
   ]
  },
  {
   "cell_type": "code",
   "execution_count": null,
   "metadata": {},
   "outputs": [],
   "source": [
    "r\"value=(\\\".*\\\")\""
   ]
  },
  {
   "cell_type": "markdown",
   "metadata": {},
   "source": [
    "# Loop testen"
   ]
  },
  {
   "cell_type": "code",
   "execution_count": null,
   "metadata": {},
   "outputs": [],
   "source": [
    "\n",
    "anzahl_liste=[]\n",
    "path=folderpath+\"/HRSeiten_Test/\"\n",
    "for page in os.listdir(path):\n",
    "    file=open(path+page, 'r')\n",
    "    text=file.read()\n",
    "    soup=BeautifulSoup(text, 'html.parser')\n",
    "    div_list=soup.find_all(\"div\")\n",
    "    if len(div_list) == 97:\n",
    "        anzahl= \"keine\"\n",
    "        input_list=div_list[50].find_all(\"input\")\n",
    "        adresse_o=input_list[0]\n",
    "        adresse=str(adresse_o)\n",
    "       \n",
    "    else:\n",
    "        anzahl= div_list[-26].text\n",
    "        input_list_f=div_list[-51].find_all(\"input\")\n",
    "        adresse_f=input_list_f[0]\n",
    "        adresse=str(adresse_f)\n",
    "        \n",
    "\n",
    "    minidict_a={\"Seite\":page,\"Anzahl\":anzahl, \"Adresse\":adresse}\n",
    "    anzahl_liste.append(minidict_a)"
   ]
  },
  {
   "cell_type": "code",
   "execution_count": null,
   "metadata": {},
   "outputs": [],
   "source": [
    "dftest_a=pd.DataFrame(anzahl_liste)"
   ]
  },
  {
   "cell_type": "code",
   "execution_count": null,
   "metadata": {
    "scrolled": true
   },
   "outputs": [],
   "source": [
    "pd.set_option('display.max_colwidth', -1)\n",
    "dftest_a"
   ]
  },
  {
   "cell_type": "code",
   "execution_count": null,
   "metadata": {},
   "outputs": [],
   "source": [
    "dftest_a.dtypes"
   ]
  },
  {
   "cell_type": "code",
   "execution_count": null,
   "metadata": {},
   "outputs": [],
   "source": [
    "\n",
    "dftest_a[\"Adresse\"]"
   ]
  },
  {
   "cell_type": "code",
   "execution_count": null,
   "metadata": {
    "scrolled": true
   },
   "outputs": [],
   "source": [
    "dftest_a[\"Adresse\"].str.extract(\"value=\\\"(\\.*)\\\"\")"
   ]
  },
  {
   "cell_type": "markdown",
   "metadata": {},
   "source": [
    "### Nun mit dem ganzen Ordner der Stadt-Seiten"
   ]
  },
  {
   "cell_type": "code",
   "execution_count": null,
   "metadata": {},
   "outputs": [],
   "source": [
    "anzahl_liste=[]\n",
    "path=\"HRSeiten/\"\n",
    "for page in os.listdir(path):\n",
    "    file=open(path+page, 'r')\n",
    "    text=file.read()\n",
    "    soup=BeautifulSoup(text, 'html.parser')\n",
    "    div_list=div_list=soup.find_all(\"div\")\n",
    "    if len(div_list) == 97:\n",
    "        anzahl= \"keine\"\n",
    "    else:\n",
    "        anzahl= div_list[-26].text\n",
    "\n",
    "    minidict_a={\"Seite\":page,\"Anzahl\":anzahl}\n",
    "    anzahl_liste.append(minidict_a)"
   ]
  },
  {
   "cell_type": "code",
   "execution_count": null,
   "metadata": {},
   "outputs": [],
   "source": [
    "dfa=pd.DataFrame(anzahl_liste)"
   ]
  },
  {
   "cell_type": "code",
   "execution_count": null,
   "metadata": {},
   "outputs": [],
   "source": [
    "dfa.to_csv(folderpath+\"/BRFrames/haenger\")"
   ]
  },
  {
   "cell_type": "code",
   "execution_count": null,
   "metadata": {},
   "outputs": [],
   "source": [
    "dfa.shape"
   ]
  },
  {
   "cell_type": "code",
   "execution_count": null,
   "metadata": {
    "scrolled": true
   },
   "outputs": [],
   "source": [
    "dfa[\"Anzahl\"].sort_values().tail(1123)"
   ]
  },
  {
   "cell_type": "code",
   "execution_count": null,
   "metadata": {},
   "outputs": [],
   "source": [
    "dfb=dfa[\"Anzahl\"].sort_values().head(3324)"
   ]
  },
  {
   "cell_type": "code",
   "execution_count": null,
   "metadata": {},
   "outputs": [],
   "source": [
    "dfb.tail(2500)"
   ]
  },
  {
   "cell_type": "markdown",
   "metadata": {},
   "source": [
    "#### Kurz testen, ob das mit dem 97 auch immer stimmt"
   ]
  },
  {
   "cell_type": "code",
   "execution_count": null,
   "metadata": {},
   "outputs": [],
   "source": [
    "for page1 in os.listdir(path):\n",
    "    file1=open(path+page1, 'r')\n",
    "    text1=file1.read()\n",
    "    soup1=BeautifulSoup(text1, 'html.parser')\n",
    "    div_list1=soup1.find_all(\"div\")\n",
    "    print(len(div_list1))"
   ]
  },
  {
   "cell_type": "markdown",
   "metadata": {},
   "source": [
    "Sehr gut: es sind also entweder 97 oder 100 Listenstellen auch wenn unterschiedlich viele Firmen aufgelistet sind.\n",
    "\n",
    "Die Ansicht der Seite hat ergeben, dass es maximal 20 Einträge pro Seite hat. Sind es also weniger, muss ich nicht weitergraben."
   ]
  },
  {
   "cell_type": "markdown",
   "metadata": {},
   "source": [
    "# ausgelesene Gemeinden und Stadt zusammenbringen"
   ]
  },
  {
   "cell_type": "code",
   "execution_count": 4,
   "metadata": {},
   "outputs": [],
   "source": [
    "df_adan=pd.read_csv(folderpath+\"/BRFrames/Alle_Gemeinden_ausgelesen_roh\")"
   ]
  },
  {
   "cell_type": "code",
   "execution_count": null,
   "metadata": {},
   "outputs": [],
   "source": []
  },
  {
   "cell_type": "markdown",
   "metadata": {},
   "source": [
    "## Zahl und Adresse rausziehen \n",
    "evtl. könnte man die Frames als erstes wieder zusammenfügen\n",
    "zuerst alle aussortieren, die überhaupt eine Zahl enthalten\n",
    "Danach splitten oder mit Regex. Da es nur eine Zahl gibt, wäre hier vielleicht Regex besser.\n"
   ]
  },
  {
   "cell_type": "code",
   "execution_count": null,
   "metadata": {},
   "outputs": [],
   "source": [
    "df_adan=pd.read_csv(folderpath+\"/BRFrames/Stadtzug_frontpages_ausgelesen_roh\")"
   ]
  },
  {
   "cell_type": "code",
   "execution_count": null,
   "metadata": {},
   "outputs": [],
   "source": [
    "df_adan"
   ]
  },
  {
   "cell_type": "code",
   "execution_count": null,
   "metadata": {
    "scrolled": true
   },
   "outputs": [],
   "source": [
    "df_adan.shape #Ausganglage waren 4690. Offenbar habe ich einige doppelt. egal."
   ]
  },
  {
   "cell_type": "markdown",
   "metadata": {},
   "source": [
    "### Zahl"
   ]
  },
  {
   "cell_type": "code",
   "execution_count": 5,
   "metadata": {
    "scrolled": true
   },
   "outputs": [],
   "source": [
    "# Hier nun die Formel, um aus allen die Zahl rausziehen zu können\n",
    "df_adan[\"Anzahl\"]=df_adan[\"Anzahl\"].str.extract(\"(\\d+)\")"
   ]
  },
  {
   "cell_type": "markdown",
   "metadata": {},
   "source": [
    "### Adresse"
   ]
  },
  {
   "cell_type": "code",
   "execution_count": 6,
   "metadata": {},
   "outputs": [],
   "source": [
    "df_adan[\"Adresse\"]=df_adan[\"Adresse\"].str.extract(\"value=\\\"(.*)\\\"\")"
   ]
  },
  {
   "cell_type": "code",
   "execution_count": null,
   "metadata": {},
   "outputs": [],
   "source": [
    "df_adan"
   ]
  },
  {
   "cell_type": "code",
   "execution_count": null,
   "metadata": {},
   "outputs": [],
   "source": []
  },
  {
   "cell_type": "code",
   "execution_count": null,
   "metadata": {},
   "outputs": [],
   "source": []
  },
  {
   "cell_type": "markdown",
   "metadata": {},
   "source": [
    "# Hier mal die Gemeinden \n",
    "#### Die ich schon scrapen konnte"
   ]
  },
  {
   "cell_type": "code",
   "execution_count": 3,
   "metadata": {},
   "outputs": [
    {
     "name": "stderr",
     "output_type": "stream",
     "text": [
      "100%|██████████| 3993/3993 [01:29<00:00, 44.59it/s]\n"
     ]
    }
   ],
   "source": [
    "anzahl_liste=[]\n",
    "path= folderpath+\"/HRSeiten_Gemeinden_Teil2/\"\n",
    "for page in tqdm(os.listdir(path)): #Ich erstelle direkt aus dem Folder eine Liste.\n",
    "    file=open(path+page, 'r')\n",
    "    page=page\n",
    "    text=file.read()\n",
    "    soup=BeautifulSoup(text, 'html.parser')\n",
    "    div_list=soup.find_all(\"div\")\n",
    "    if len(div_list) == 97: #Wenn es keine Firma hat, hat es nur 97 Listen-Punkte\n",
    "        anzahl= str(\"0\") # Ich vermerke, dass es keine Firmen hat\n",
    "        input_list=div_list[50].find_all(\"input\") # Hier der Adressen-Eintrag\n",
    "        adresse_o=input_list[0]\n",
    "        adresse=str(adresse_o) #HIer noch ein Trick, dass er mir die Sache nicht als Liste ausspuckt\n",
    "       \n",
    "    else:\n",
    "        anzahl= div_list[-26].text #Angabe mit Anzahl Firmen auslesen.\n",
    "        input_list_f=div_list[-51].find_all(\"input\") \n",
    "        adresse_f=input_list_f[0]\n",
    "        adresse=str(adresse_f) # hier derselbe Trick wie oben\n",
    "        \n",
    "\n",
    "    minidict_a={\"Seite\":page,\"Anzahl\":anzahl, \"Adresse\":adresse}\n",
    "    anzahl_liste.append(minidict_a)"
   ]
  },
  {
   "cell_type": "code",
   "execution_count": 4,
   "metadata": {},
   "outputs": [],
   "source": [
    "dfb=pd.DataFrame(anzahl_liste)"
   ]
  },
  {
   "cell_type": "code",
   "execution_count": 5,
   "metadata": {},
   "outputs": [],
   "source": [
    "dfa=dfb.drop_duplicates(\"Adresse\")"
   ]
  },
  {
   "cell_type": "code",
   "execution_count": 6,
   "metadata": {},
   "outputs": [],
   "source": [
    "dfa.to_csv(folderpath+\"/BRFrames/Gemeinden_fehlende_Teil2\")"
   ]
  },
  {
   "cell_type": "code",
   "execution_count": 35,
   "metadata": {},
   "outputs": [],
   "source": [
    "dfa=pd.read_csv(folderpath+\"/BRFrames/Gemeinden_fehlende_Teil2\")"
   ]
  },
  {
   "cell_type": "code",
   "execution_count": 36,
   "metadata": {},
   "outputs": [
    {
     "data": {
      "text/plain": [
       "(3706, 4)"
      ]
     },
     "execution_count": 36,
     "metadata": {},
     "output_type": "execute_result"
    }
   ],
   "source": [
    "dfa.shape"
   ]
  },
  {
   "cell_type": "code",
   "execution_count": null,
   "metadata": {},
   "outputs": [],
   "source": [
    "dfa"
   ]
  },
  {
   "cell_type": "code",
   "execution_count": null,
   "metadata": {},
   "outputs": [],
   "source": [
    "#dfa=pd.read_csv(folderpath+\"/BRFrames/Gemeinden_Teil1\")"
   ]
  },
  {
   "cell_type": "code",
   "execution_count": null,
   "metadata": {},
   "outputs": [],
   "source": [
    "dfa"
   ]
  },
  {
   "cell_type": "code",
   "execution_count": 37,
   "metadata": {
    "scrolled": true
   },
   "outputs": [],
   "source": [
    "dfa[\"Anzahl\"]=dfa[\"Anzahl\"].str.extract(\"(\\d+)\")"
   ]
  },
  {
   "cell_type": "code",
   "execution_count": 38,
   "metadata": {},
   "outputs": [],
   "source": [
    "dfab=dfa.sort_values(\"Anzahl\",ascending=False)"
   ]
  },
  {
   "cell_type": "code",
   "execution_count": 10,
   "metadata": {},
   "outputs": [
    {
     "data": {
      "text/html": [
       "<div>\n",
       "<style scoped>\n",
       "    .dataframe tbody tr th:only-of-type {\n",
       "        vertical-align: middle;\n",
       "    }\n",
       "\n",
       "    .dataframe tbody tr th {\n",
       "        vertical-align: top;\n",
       "    }\n",
       "\n",
       "    .dataframe thead th {\n",
       "        text-align: right;\n",
       "    }\n",
       "</style>\n",
       "<table border=\"1\" class=\"dataframe\">\n",
       "  <thead>\n",
       "    <tr style=\"text-align: right;\">\n",
       "      <th></th>\n",
       "      <th>Seite</th>\n",
       "      <th>Anzahl</th>\n",
       "      <th>Adresse</th>\n",
       "    </tr>\n",
       "  </thead>\n",
       "  <tbody>\n",
       "    <tr>\n",
       "      <td>378</td>\n",
       "      <td>frontpage22_1338.htm</td>\n",
       "      <td>9</td>\n",
       "      <td>&lt;input aria-disabled=\"false\" aria-multiline=\"f...</td>\n",
       "    </tr>\n",
       "    <tr>\n",
       "      <td>733</td>\n",
       "      <td>frontpage22_1658.htm</td>\n",
       "      <td>9</td>\n",
       "      <td>&lt;input aria-disabled=\"false\" aria-multiline=\"f...</td>\n",
       "    </tr>\n",
       "    <tr>\n",
       "      <td>3932</td>\n",
       "      <td>frontpage22_944.htm</td>\n",
       "      <td>9</td>\n",
       "      <td>&lt;input aria-disabled=\"false\" aria-multiline=\"f...</td>\n",
       "    </tr>\n",
       "    <tr>\n",
       "      <td>1371</td>\n",
       "      <td>frontpage22_2231.htm</td>\n",
       "      <td>9</td>\n",
       "      <td>&lt;input aria-disabled=\"false\" aria-multiline=\"f...</td>\n",
       "    </tr>\n",
       "    <tr>\n",
       "      <td>1548</td>\n",
       "      <td>frontpage22_2391.htm</td>\n",
       "      <td>9</td>\n",
       "      <td>&lt;input aria-disabled=\"false\" aria-multiline=\"f...</td>\n",
       "    </tr>\n",
       "    <tr>\n",
       "      <td>...</td>\n",
       "      <td>...</td>\n",
       "      <td>...</td>\n",
       "      <td>...</td>\n",
       "    </tr>\n",
       "    <tr>\n",
       "      <td>1441</td>\n",
       "      <td>frontpage22_2295.htm</td>\n",
       "      <td>0</td>\n",
       "      <td>&lt;input aria-disabled=\"false\" aria-multiline=\"f...</td>\n",
       "    </tr>\n",
       "    <tr>\n",
       "      <td>1442</td>\n",
       "      <td>frontpage22_2296.htm</td>\n",
       "      <td>0</td>\n",
       "      <td>&lt;input aria-disabled=\"false\" aria-multiline=\"f...</td>\n",
       "    </tr>\n",
       "    <tr>\n",
       "      <td>1443</td>\n",
       "      <td>frontpage22_2297.htm</td>\n",
       "      <td>0</td>\n",
       "      <td>&lt;input aria-disabled=\"false\" aria-multiline=\"f...</td>\n",
       "    </tr>\n",
       "    <tr>\n",
       "      <td>3992</td>\n",
       "      <td>frontpage22_999.htm</td>\n",
       "      <td>0</td>\n",
       "      <td>&lt;input aria-disabled=\"false\" aria-multiline=\"f...</td>\n",
       "    </tr>\n",
       "    <tr>\n",
       "      <td>6</td>\n",
       "      <td>frontpage22_1002.htm</td>\n",
       "      <td>NaN</td>\n",
       "      <td>&lt;input id=\"idSucheForm:panel:idDiverseTyp_focu...</td>\n",
       "    </tr>\n",
       "  </tbody>\n",
       "</table>\n",
       "<p>3706 rows × 3 columns</p>\n",
       "</div>"
      ],
      "text/plain": [
       "                     Seite Anzahl  \\\n",
       "378   frontpage22_1338.htm      9   \n",
       "733   frontpage22_1658.htm      9   \n",
       "3932   frontpage22_944.htm      9   \n",
       "1371  frontpage22_2231.htm      9   \n",
       "1548  frontpage22_2391.htm      9   \n",
       "...                    ...    ...   \n",
       "1441  frontpage22_2295.htm      0   \n",
       "1442  frontpage22_2296.htm      0   \n",
       "1443  frontpage22_2297.htm      0   \n",
       "3992   frontpage22_999.htm      0   \n",
       "6     frontpage22_1002.htm    NaN   \n",
       "\n",
       "                                                Adresse  \n",
       "378   <input aria-disabled=\"false\" aria-multiline=\"f...  \n",
       "733   <input aria-disabled=\"false\" aria-multiline=\"f...  \n",
       "3932  <input aria-disabled=\"false\" aria-multiline=\"f...  \n",
       "1371  <input aria-disabled=\"false\" aria-multiline=\"f...  \n",
       "1548  <input aria-disabled=\"false\" aria-multiline=\"f...  \n",
       "...                                                 ...  \n",
       "1441  <input aria-disabled=\"false\" aria-multiline=\"f...  \n",
       "1442  <input aria-disabled=\"false\" aria-multiline=\"f...  \n",
       "1443  <input aria-disabled=\"false\" aria-multiline=\"f...  \n",
       "3992  <input aria-disabled=\"false\" aria-multiline=\"f...  \n",
       "6     <input id=\"idSucheForm:panel:idDiverseTyp_focu...  \n",
       "\n",
       "[3706 rows x 3 columns]"
      ]
     },
     "execution_count": 10,
     "metadata": {},
     "output_type": "execute_result"
    }
   ],
   "source": [
    "dfab"
   ]
  },
  {
   "cell_type": "code",
   "execution_count": 39,
   "metadata": {},
   "outputs": [],
   "source": [
    "dfab[\"Adresse\"]=dfab[\"Adresse\"].str.extract(\"value=\\\"(.*)\\\"\")"
   ]
  },
  {
   "cell_type": "code",
   "execution_count": null,
   "metadata": {},
   "outputs": [],
   "source": []
  },
  {
   "cell_type": "code",
   "execution_count": 40,
   "metadata": {},
   "outputs": [
    {
     "data": {
      "text/html": [
       "<div>\n",
       "<style scoped>\n",
       "    .dataframe tbody tr th:only-of-type {\n",
       "        vertical-align: middle;\n",
       "    }\n",
       "\n",
       "    .dataframe tbody tr th {\n",
       "        vertical-align: top;\n",
       "    }\n",
       "\n",
       "    .dataframe thead th {\n",
       "        text-align: right;\n",
       "    }\n",
       "</style>\n",
       "<table border=\"1\" class=\"dataframe\">\n",
       "  <thead>\n",
       "    <tr style=\"text-align: right;\">\n",
       "      <th></th>\n",
       "      <th>Unnamed: 0</th>\n",
       "      <th>Seite</th>\n",
       "      <th>Anzahl</th>\n",
       "      <th>Adresse</th>\n",
       "    </tr>\n",
       "  </thead>\n",
       "  <tbody>\n",
       "    <tr>\n",
       "      <td>1129</td>\n",
       "      <td>1234</td>\n",
       "      <td>frontpage22_2108.htm</td>\n",
       "      <td>0</td>\n",
       "      <td>NaN</td>\n",
       "    </tr>\n",
       "    <tr>\n",
       "      <td>6</td>\n",
       "      <td>6</td>\n",
       "      <td>frontpage22_1002.htm</td>\n",
       "      <td>NaN</td>\n",
       "      <td>NaN</td>\n",
       "    </tr>\n",
       "  </tbody>\n",
       "</table>\n",
       "</div>"
      ],
      "text/plain": [
       "      Unnamed: 0                 Seite Anzahl Adresse\n",
       "1129        1234  frontpage22_2108.htm      0     NaN\n",
       "6              6  frontpage22_1002.htm    NaN     NaN"
      ]
     },
     "execution_count": 40,
     "metadata": {},
     "output_type": "execute_result"
    }
   ],
   "source": [
    "dfab[dfab[\"Adresse\"].notnull()==False]"
   ]
  },
  {
   "cell_type": "code",
   "execution_count": 14,
   "metadata": {},
   "outputs": [],
   "source": [
    "df_ad_t2=pd.read_csv(folderpath+\"/BRFrames/fehlende_Gemeinden_Teil2\")"
   ]
  },
  {
   "cell_type": "code",
   "execution_count": null,
   "metadata": {},
   "outputs": [],
   "source": [
    "df_ad_t2="
   ]
  },
  {
   "cell_type": "code",
   "execution_count": 41,
   "metadata": {},
   "outputs": [],
   "source": [
    "df_adan=dfab"
   ]
  },
  {
   "cell_type": "code",
   "execution_count": 42,
   "metadata": {},
   "outputs": [],
   "source": [
    "df_adan[\"Adresse\"]=df_adan[\"Adresse\"].str.replace(\"Ã¼\",\"ü\")\n",
    "df_adan[\"Adresse\"]=df_adan[\"Adresse\"].str.replace(\"Ã¶\",\"ö\")\n",
    "df_adan[\"Adresse\"]=df_adan[\"Adresse\"].str.replace(\"Ã¤\",\"ä\")\n",
    "df_adan[\"Adresse\"]=df_adan[\"Adresse\"].str.replace(\"Ã„\",\"Ä\")\n",
    "df_adan[\"Adresse\"]=df_adan[\"Adresse\"].str.replace(\"Ã–\",\"Ö\")\n",
    "df_adan[\"Adresse\"]=df_adan[\"Adresse\"].str.replace(\"Ãœ\",\"Ü\")\n",
    "df_adan[\"Adresse\"]=df_adan[\"Adresse\"].str.replace(\"Ã©\",\"é\")"
   ]
  },
  {
   "cell_type": "code",
   "execution_count": 43,
   "metadata": {},
   "outputs": [
    {
     "data": {
      "text/html": [
       "<div>\n",
       "<style scoped>\n",
       "    .dataframe tbody tr th:only-of-type {\n",
       "        vertical-align: middle;\n",
       "    }\n",
       "\n",
       "    .dataframe tbody tr th {\n",
       "        vertical-align: top;\n",
       "    }\n",
       "\n",
       "    .dataframe thead th {\n",
       "        text-align: right;\n",
       "    }\n",
       "</style>\n",
       "<table border=\"1\" class=\"dataframe\">\n",
       "  <thead>\n",
       "    <tr style=\"text-align: right;\">\n",
       "      <th></th>\n",
       "      <th>Unnamed: 0</th>\n",
       "      <th>Seite</th>\n",
       "      <th>Anzahl</th>\n",
       "      <th>Adresse</th>\n",
       "    </tr>\n",
       "  </thead>\n",
       "  <tbody>\n",
       "    <tr>\n",
       "      <td>350</td>\n",
       "      <td>378</td>\n",
       "      <td>frontpage22_1338.htm</td>\n",
       "      <td>9</td>\n",
       "      <td>Waldhofstrasse 11, Unterägeri</td>\n",
       "    </tr>\n",
       "    <tr>\n",
       "      <td>670</td>\n",
       "      <td>733</td>\n",
       "      <td>frontpage22_1658.htm</td>\n",
       "      <td>9</td>\n",
       "      <td>Zugerbergstrasse 18, Unterägeri</td>\n",
       "    </tr>\n",
       "    <tr>\n",
       "      <td>3651</td>\n",
       "      <td>3932</td>\n",
       "      <td>frontpage22_944.htm</td>\n",
       "      <td>9</td>\n",
       "      <td>Sennweidstrasse 35, Steinhausen</td>\n",
       "    </tr>\n",
       "    <tr>\n",
       "      <td>1262</td>\n",
       "      <td>1371</td>\n",
       "      <td>frontpage22_2231.htm</td>\n",
       "      <td>9</td>\n",
       "      <td>Zugerstrasse 195, Neuägeri</td>\n",
       "    </tr>\n",
       "    <tr>\n",
       "      <td>1429</td>\n",
       "      <td>1548</td>\n",
       "      <td>frontpage22_2391.htm</td>\n",
       "      <td>9</td>\n",
       "      <td>Zugerstrasse 22, Unterägeri</td>\n",
       "    </tr>\n",
       "    <tr>\n",
       "      <td>...</td>\n",
       "      <td>...</td>\n",
       "      <td>...</td>\n",
       "      <td>...</td>\n",
       "      <td>...</td>\n",
       "    </tr>\n",
       "    <tr>\n",
       "      <td>1328</td>\n",
       "      <td>1441</td>\n",
       "      <td>frontpage22_2295.htm</td>\n",
       "      <td>0</td>\n",
       "      <td>Maisbühlstrasse 64, Unterägeri</td>\n",
       "    </tr>\n",
       "    <tr>\n",
       "      <td>1329</td>\n",
       "      <td>1442</td>\n",
       "      <td>frontpage22_2296.htm</td>\n",
       "      <td>0</td>\n",
       "      <td>Maisbühlstrasse 54, Unterägeri</td>\n",
       "    </tr>\n",
       "    <tr>\n",
       "      <td>1330</td>\n",
       "      <td>1443</td>\n",
       "      <td>frontpage22_2297.htm</td>\n",
       "      <td>0</td>\n",
       "      <td>Strandweg 14, Unterägeri</td>\n",
       "    </tr>\n",
       "    <tr>\n",
       "      <td>3705</td>\n",
       "      <td>3992</td>\n",
       "      <td>frontpage22_999.htm</td>\n",
       "      <td>0</td>\n",
       "      <td>Bannstrasse 23d, Steinhausen</td>\n",
       "    </tr>\n",
       "    <tr>\n",
       "      <td>6</td>\n",
       "      <td>6</td>\n",
       "      <td>frontpage22_1002.htm</td>\n",
       "      <td>NaN</td>\n",
       "      <td>NaN</td>\n",
       "    </tr>\n",
       "  </tbody>\n",
       "</table>\n",
       "<p>3706 rows × 4 columns</p>\n",
       "</div>"
      ],
      "text/plain": [
       "      Unnamed: 0                 Seite Anzahl                          Adresse\n",
       "350          378  frontpage22_1338.htm      9    Waldhofstrasse 11, Unterägeri\n",
       "670          733  frontpage22_1658.htm      9  Zugerbergstrasse 18, Unterägeri\n",
       "3651        3932   frontpage22_944.htm      9  Sennweidstrasse 35, Steinhausen\n",
       "1262        1371  frontpage22_2231.htm      9       Zugerstrasse 195, Neuägeri\n",
       "1429        1548  frontpage22_2391.htm      9      Zugerstrasse 22, Unterägeri\n",
       "...          ...                   ...    ...                              ...\n",
       "1328        1441  frontpage22_2295.htm      0   Maisbühlstrasse 64, Unterägeri\n",
       "1329        1442  frontpage22_2296.htm      0   Maisbühlstrasse 54, Unterägeri\n",
       "1330        1443  frontpage22_2297.htm      0         Strandweg 14, Unterägeri\n",
       "3705        3992   frontpage22_999.htm      0     Bannstrasse 23d, Steinhausen\n",
       "6              6  frontpage22_1002.htm    NaN                              NaN\n",
       "\n",
       "[3706 rows x 4 columns]"
      ]
     },
     "execution_count": 43,
     "metadata": {},
     "output_type": "execute_result"
    }
   ],
   "source": [
    "df_adan"
   ]
  },
  {
   "cell_type": "code",
   "execution_count": 45,
   "metadata": {
    "scrolled": true
   },
   "outputs": [],
   "source": [
    "# Ok, hier die Daten die stimmen.\n",
    "df_adan1=df_adan[df_adan[\"Adresse\"].notnull()==True]"
   ]
  },
  {
   "cell_type": "code",
   "execution_count": 48,
   "metadata": {},
   "outputs": [
    {
     "data": {
      "text/html": [
       "<div>\n",
       "<style scoped>\n",
       "    .dataframe tbody tr th:only-of-type {\n",
       "        vertical-align: middle;\n",
       "    }\n",
       "\n",
       "    .dataframe tbody tr th {\n",
       "        vertical-align: top;\n",
       "    }\n",
       "\n",
       "    .dataframe thead th {\n",
       "        text-align: right;\n",
       "    }\n",
       "</style>\n",
       "<table border=\"1\" class=\"dataframe\">\n",
       "  <thead>\n",
       "    <tr style=\"text-align: right;\">\n",
       "      <th></th>\n",
       "      <th>Unnamed: 0</th>\n",
       "      <th>Seite</th>\n",
       "      <th>Anzahl</th>\n",
       "      <th>Adresse</th>\n",
       "    </tr>\n",
       "  </thead>\n",
       "  <tbody>\n",
       "    <tr>\n",
       "      <td>350</td>\n",
       "      <td>378</td>\n",
       "      <td>frontpage22_1338.htm</td>\n",
       "      <td>9</td>\n",
       "      <td>Waldhofstrasse 11, Unterägeri</td>\n",
       "    </tr>\n",
       "    <tr>\n",
       "      <td>670</td>\n",
       "      <td>733</td>\n",
       "      <td>frontpage22_1658.htm</td>\n",
       "      <td>9</td>\n",
       "      <td>Zugerbergstrasse 18, Unterägeri</td>\n",
       "    </tr>\n",
       "    <tr>\n",
       "      <td>3651</td>\n",
       "      <td>3932</td>\n",
       "      <td>frontpage22_944.htm</td>\n",
       "      <td>9</td>\n",
       "      <td>Sennweidstrasse 35, Steinhausen</td>\n",
       "    </tr>\n",
       "    <tr>\n",
       "      <td>1262</td>\n",
       "      <td>1371</td>\n",
       "      <td>frontpage22_2231.htm</td>\n",
       "      <td>9</td>\n",
       "      <td>Zugerstrasse 195, Neuägeri</td>\n",
       "    </tr>\n",
       "    <tr>\n",
       "      <td>1429</td>\n",
       "      <td>1548</td>\n",
       "      <td>frontpage22_2391.htm</td>\n",
       "      <td>9</td>\n",
       "      <td>Zugerstrasse 22, Unterägeri</td>\n",
       "    </tr>\n",
       "    <tr>\n",
       "      <td>...</td>\n",
       "      <td>...</td>\n",
       "      <td>...</td>\n",
       "      <td>...</td>\n",
       "      <td>...</td>\n",
       "    </tr>\n",
       "    <tr>\n",
       "      <td>2026</td>\n",
       "      <td>2203</td>\n",
       "      <td>frontpage22_2982.htm</td>\n",
       "      <td>1</td>\n",
       "      <td>Spiegelbergstrasse 29a, Walchwil</td>\n",
       "    </tr>\n",
       "    <tr>\n",
       "      <td>1169</td>\n",
       "      <td>1278</td>\n",
       "      <td>frontpage22_2148.htm</td>\n",
       "      <td>1</td>\n",
       "      <td>Bödlistrasse 5b, Unterägeri</td>\n",
       "    </tr>\n",
       "    <tr>\n",
       "      <td>2831</td>\n",
       "      <td>3046</td>\n",
       "      <td>frontpage22_3740.htm</td>\n",
       "      <td>1</td>\n",
       "      <td>Boden, Finstersee</td>\n",
       "    </tr>\n",
       "    <tr>\n",
       "      <td>2078</td>\n",
       "      <td>2257</td>\n",
       "      <td>frontpage22_303.htm</td>\n",
       "      <td>1</td>\n",
       "      <td>Weidstrasse 11, Rotkreuz</td>\n",
       "    </tr>\n",
       "    <tr>\n",
       "      <td>2868</td>\n",
       "      <td>3083</td>\n",
       "      <td>frontpage22_3774.htm</td>\n",
       "      <td>1</td>\n",
       "      <td>Sonnhalde, Edlibach</td>\n",
       "    </tr>\n",
       "  </tbody>\n",
       "</table>\n",
       "<p>543 rows × 4 columns</p>\n",
       "</div>"
      ],
      "text/plain": [
       "      Unnamed: 0                 Seite Anzahl  \\\n",
       "350          378  frontpage22_1338.htm      9   \n",
       "670          733  frontpage22_1658.htm      9   \n",
       "3651        3932   frontpage22_944.htm      9   \n",
       "1262        1371  frontpage22_2231.htm      9   \n",
       "1429        1548  frontpage22_2391.htm      9   \n",
       "...          ...                   ...    ...   \n",
       "2026        2203  frontpage22_2982.htm      1   \n",
       "1169        1278  frontpage22_2148.htm      1   \n",
       "2831        3046  frontpage22_3740.htm      1   \n",
       "2078        2257   frontpage22_303.htm      1   \n",
       "2868        3083  frontpage22_3774.htm      1   \n",
       "\n",
       "                               Adresse  \n",
       "350      Waldhofstrasse 11, Unterägeri  \n",
       "670    Zugerbergstrasse 18, Unterägeri  \n",
       "3651   Sennweidstrasse 35, Steinhausen  \n",
       "1262        Zugerstrasse 195, Neuägeri  \n",
       "1429       Zugerstrasse 22, Unterägeri  \n",
       "...                                ...  \n",
       "2026  Spiegelbergstrasse 29a, Walchwil  \n",
       "1169       Bödlistrasse 5b, Unterägeri  \n",
       "2831                 Boden, Finstersee  \n",
       "2078          Weidstrasse 11, Rotkreuz  \n",
       "2868               Sonnhalde, Edlibach  \n",
       "\n",
       "[543 rows x 4 columns]"
      ]
     },
     "execution_count": 48,
     "metadata": {},
     "output_type": "execute_result"
    }
   ],
   "source": [
    "# Also: von den rund 4000 sind nur gerade etwas über 500 die ich im Telefonbuch suchen muss\n",
    "df_adan1[df_adan1[\"Anzahl\"].str.contains(\"0\")==False]"
   ]
  },
  {
   "cell_type": "code",
   "execution_count": 47,
   "metadata": {},
   "outputs": [],
   "source": [
    "df_adan1.to_csv(folderpath+\"/BRFrames/Gemeinden_Teil2_ausgelesen_bereinigt\")"
   ]
  },
  {
   "cell_type": "code",
   "execution_count": 26,
   "metadata": {},
   "outputs": [],
   "source": [
    "df_abgl_t2=pd.merge(df_adan, df_ad_t2, how=\"outer\", on=\"Adresse\")"
   ]
  },
  {
   "cell_type": "code",
   "execution_count": 27,
   "metadata": {},
   "outputs": [
    {
     "data": {
      "text/html": [
       "<div>\n",
       "<style scoped>\n",
       "    .dataframe tbody tr th:only-of-type {\n",
       "        vertical-align: middle;\n",
       "    }\n",
       "\n",
       "    .dataframe tbody tr th {\n",
       "        vertical-align: top;\n",
       "    }\n",
       "\n",
       "    .dataframe thead th {\n",
       "        text-align: right;\n",
       "    }\n",
       "</style>\n",
       "<table border=\"1\" class=\"dataframe\">\n",
       "  <thead>\n",
       "    <tr style=\"text-align: right;\">\n",
       "      <th></th>\n",
       "      <th>Seite_x</th>\n",
       "      <th>Anzahl_x</th>\n",
       "      <th>Adresse</th>\n",
       "      <th>Unnamed: 0</th>\n",
       "      <th>Unnamed: 0_x</th>\n",
       "      <th>Seite_y</th>\n",
       "      <th>Anzahl_y</th>\n",
       "      <th>Unnamed: 0_y</th>\n",
       "      <th>EGID</th>\n",
       "      <th>EDID</th>\n",
       "      <th>...</th>\n",
       "      <th>GDENR</th>\n",
       "      <th>GDENAME</th>\n",
       "      <th>STRNAME</th>\n",
       "      <th>DEINR</th>\n",
       "      <th>PLZ4</th>\n",
       "      <th>PLZZ</th>\n",
       "      <th>PLZNAME</th>\n",
       "      <th>GKODE</th>\n",
       "      <th>GKODN</th>\n",
       "      <th>STRSP</th>\n",
       "    </tr>\n",
       "  </thead>\n",
       "  <tbody>\n",
       "    <tr>\n",
       "      <td>0</td>\n",
       "      <td>frontpage22_1338.htm</td>\n",
       "      <td>9</td>\n",
       "      <td>Waldhofstrasse 11, Unterägeri</td>\n",
       "      <td>21451.0</td>\n",
       "      <td>NaN</td>\n",
       "      <td>NaN</td>\n",
       "      <td>NaN</td>\n",
       "      <td>272.0</td>\n",
       "      <td>317944.0</td>\n",
       "      <td>0.0</td>\n",
       "      <td>...</td>\n",
       "      <td>1709.0</td>\n",
       "      <td>Unterägeri</td>\n",
       "      <td>Waldhofstrasse</td>\n",
       "      <td>11</td>\n",
       "      <td>6314.0</td>\n",
       "      <td>0.0</td>\n",
       "      <td>Unterägeri</td>\n",
       "      <td>2686267.769</td>\n",
       "      <td>1221857.146</td>\n",
       "      <td>de</td>\n",
       "    </tr>\n",
       "    <tr>\n",
       "      <td>1</td>\n",
       "      <td>frontpage22_1658.htm</td>\n",
       "      <td>9</td>\n",
       "      <td>Zugerbergstrasse 18, Unterägeri</td>\n",
       "      <td>21771.0</td>\n",
       "      <td>NaN</td>\n",
       "      <td>NaN</td>\n",
       "      <td>NaN</td>\n",
       "      <td>595.0</td>\n",
       "      <td>318318.0</td>\n",
       "      <td>0.0</td>\n",
       "      <td>...</td>\n",
       "      <td>1709.0</td>\n",
       "      <td>Unterägeri</td>\n",
       "      <td>Zugerbergstrasse</td>\n",
       "      <td>18</td>\n",
       "      <td>6314.0</td>\n",
       "      <td>0.0</td>\n",
       "      <td>Unterägeri</td>\n",
       "      <td>2686755.129</td>\n",
       "      <td>1221264.135</td>\n",
       "      <td>de</td>\n",
       "    </tr>\n",
       "    <tr>\n",
       "      <td>2</td>\n",
       "      <td>frontpage22_944.htm</td>\n",
       "      <td>9</td>\n",
       "      <td>Sennweidstrasse 35, Steinhausen</td>\n",
       "      <td>21057.0</td>\n",
       "      <td>NaN</td>\n",
       "      <td>NaN</td>\n",
       "      <td>NaN</td>\n",
       "      <td>841.0</td>\n",
       "      <td>9033610.0</td>\n",
       "      <td>0.0</td>\n",
       "      <td>...</td>\n",
       "      <td>1708.0</td>\n",
       "      <td>Steinhausen</td>\n",
       "      <td>Sennweidstrasse</td>\n",
       "      <td>35</td>\n",
       "      <td>6312.0</td>\n",
       "      <td>0.0</td>\n",
       "      <td>Steinhausen</td>\n",
       "      <td>2679063.298</td>\n",
       "      <td>1227118.775</td>\n",
       "      <td>de</td>\n",
       "    </tr>\n",
       "    <tr>\n",
       "      <td>3</td>\n",
       "      <td>frontpage22_2231.htm</td>\n",
       "      <td>9</td>\n",
       "      <td>Zugerstrasse 195, Neuägeri</td>\n",
       "      <td>22346.0</td>\n",
       "      <td>NaN</td>\n",
       "      <td>NaN</td>\n",
       "      <td>NaN</td>\n",
       "      <td>1179.0</td>\n",
       "      <td>9002354.0</td>\n",
       "      <td>0.0</td>\n",
       "      <td>...</td>\n",
       "      <td>1709.0</td>\n",
       "      <td>Unterägeri</td>\n",
       "      <td>Zugerstrasse</td>\n",
       "      <td>195</td>\n",
       "      <td>6314.0</td>\n",
       "      <td>1.0</td>\n",
       "      <td>Neuägeri</td>\n",
       "      <td>2685253.581</td>\n",
       "      <td>1222983.459</td>\n",
       "      <td>de</td>\n",
       "    </tr>\n",
       "    <tr>\n",
       "      <td>4</td>\n",
       "      <td>frontpage22_2391.htm</td>\n",
       "      <td>9</td>\n",
       "      <td>Zugerstrasse 22, Unterägeri</td>\n",
       "      <td>22506.0</td>\n",
       "      <td>NaN</td>\n",
       "      <td>NaN</td>\n",
       "      <td>NaN</td>\n",
       "      <td>1342.0</td>\n",
       "      <td>190208532.0</td>\n",
       "      <td>0.0</td>\n",
       "      <td>...</td>\n",
       "      <td>1709.0</td>\n",
       "      <td>Unterägeri</td>\n",
       "      <td>Zugerstrasse</td>\n",
       "      <td>22</td>\n",
       "      <td>6314.0</td>\n",
       "      <td>0.0</td>\n",
       "      <td>Unterägeri</td>\n",
       "      <td>2686708.749</td>\n",
       "      <td>1221383.446</td>\n",
       "      <td>de</td>\n",
       "    </tr>\n",
       "    <tr>\n",
       "      <td>...</td>\n",
       "      <td>...</td>\n",
       "      <td>...</td>\n",
       "      <td>...</td>\n",
       "      <td>...</td>\n",
       "      <td>...</td>\n",
       "      <td>...</td>\n",
       "      <td>...</td>\n",
       "      <td>...</td>\n",
       "      <td>...</td>\n",
       "      <td>...</td>\n",
       "      <td>...</td>\n",
       "      <td>...</td>\n",
       "      <td>...</td>\n",
       "      <td>...</td>\n",
       "      <td>...</td>\n",
       "      <td>...</td>\n",
       "      <td>...</td>\n",
       "      <td>...</td>\n",
       "      <td>...</td>\n",
       "      <td>...</td>\n",
       "      <td>...</td>\n",
       "    </tr>\n",
       "    <tr>\n",
       "      <td>3993</td>\n",
       "      <td>NaN</td>\n",
       "      <td>NaN</td>\n",
       "      <td>Hinterbergstrasse 26, Walchwil</td>\n",
       "      <td>23575.0</td>\n",
       "      <td>NaN</td>\n",
       "      <td>NaN</td>\n",
       "      <td>NaN</td>\n",
       "      <td>1276.0</td>\n",
       "      <td>319379.0</td>\n",
       "      <td>5.0</td>\n",
       "      <td>...</td>\n",
       "      <td>1710.0</td>\n",
       "      <td>Walchwil</td>\n",
       "      <td>Hinterbergstrasse</td>\n",
       "      <td>26</td>\n",
       "      <td>6318.0</td>\n",
       "      <td>0.0</td>\n",
       "      <td>Walchwil</td>\n",
       "      <td>2682147.726</td>\n",
       "      <td>1216838.021</td>\n",
       "      <td>de</td>\n",
       "    </tr>\n",
       "    <tr>\n",
       "      <td>3994</td>\n",
       "      <td>NaN</td>\n",
       "      <td>NaN</td>\n",
       "      <td>Hinterbergstrasse 14, Walchwil</td>\n",
       "      <td>23589.0</td>\n",
       "      <td>NaN</td>\n",
       "      <td>NaN</td>\n",
       "      <td>NaN</td>\n",
       "      <td>1290.0</td>\n",
       "      <td>319379.0</td>\n",
       "      <td>11.0</td>\n",
       "      <td>...</td>\n",
       "      <td>1710.0</td>\n",
       "      <td>Walchwil</td>\n",
       "      <td>Hinterbergstrasse</td>\n",
       "      <td>14</td>\n",
       "      <td>6318.0</td>\n",
       "      <td>0.0</td>\n",
       "      <td>Walchwil</td>\n",
       "      <td>2682124.529</td>\n",
       "      <td>1216831.466</td>\n",
       "      <td>de</td>\n",
       "    </tr>\n",
       "    <tr>\n",
       "      <td>3995</td>\n",
       "      <td>NaN</td>\n",
       "      <td>NaN</td>\n",
       "      <td>Schule Wiesental, Baar</td>\n",
       "      <td>23592.0</td>\n",
       "      <td>NaN</td>\n",
       "      <td>NaN</td>\n",
       "      <td>NaN</td>\n",
       "      <td>413.0</td>\n",
       "      <td>310500.0</td>\n",
       "      <td>0.0</td>\n",
       "      <td>...</td>\n",
       "      <td>1701.0</td>\n",
       "      <td>Baar</td>\n",
       "      <td>Schule Wiesental</td>\n",
       "      <td>NaN</td>\n",
       "      <td>6340.0</td>\n",
       "      <td>0.0</td>\n",
       "      <td>Baar</td>\n",
       "      <td>2681824.816</td>\n",
       "      <td>1228113.838</td>\n",
       "      <td>de</td>\n",
       "    </tr>\n",
       "    <tr>\n",
       "      <td>3996</td>\n",
       "      <td>NaN</td>\n",
       "      <td>NaN</td>\n",
       "      <td>Schmidtli, Neuägeri</td>\n",
       "      <td>23603.0</td>\n",
       "      <td>NaN</td>\n",
       "      <td>NaN</td>\n",
       "      <td>NaN</td>\n",
       "      <td>1428.0</td>\n",
       "      <td>311667.0</td>\n",
       "      <td>0.0</td>\n",
       "      <td>...</td>\n",
       "      <td>1701.0</td>\n",
       "      <td>Baar</td>\n",
       "      <td>Schmidtli</td>\n",
       "      <td>NaN</td>\n",
       "      <td>6314.0</td>\n",
       "      <td>1.0</td>\n",
       "      <td>Neuägeri</td>\n",
       "      <td>2685032.000</td>\n",
       "      <td>1223212.000</td>\n",
       "      <td>de</td>\n",
       "    </tr>\n",
       "    <tr>\n",
       "      <td>3997</td>\n",
       "      <td>NaN</td>\n",
       "      <td>NaN</td>\n",
       "      <td>Vordermangeli, Finstersee</td>\n",
       "      <td>23899.0</td>\n",
       "      <td>NaN</td>\n",
       "      <td>NaN</td>\n",
       "      <td>NaN</td>\n",
       "      <td>1348.0</td>\n",
       "      <td>191730295.0</td>\n",
       "      <td>0.0</td>\n",
       "      <td>...</td>\n",
       "      <td>1704.0</td>\n",
       "      <td>Menzingen</td>\n",
       "      <td>Vordermangeli</td>\n",
       "      <td>NaN</td>\n",
       "      <td>6313.0</td>\n",
       "      <td>3.0</td>\n",
       "      <td>Finstersee</td>\n",
       "      <td>2689988.700</td>\n",
       "      <td>1223698.270</td>\n",
       "      <td>de</td>\n",
       "    </tr>\n",
       "  </tbody>\n",
       "</table>\n",
       "<p>3998 rows × 21 columns</p>\n",
       "</div>"
      ],
      "text/plain": [
       "                   Seite_x Anzahl_x                          Adresse  \\\n",
       "0     frontpage22_1338.htm        9    Waldhofstrasse 11, Unterägeri   \n",
       "1     frontpage22_1658.htm        9  Zugerbergstrasse 18, Unterägeri   \n",
       "2      frontpage22_944.htm        9  Sennweidstrasse 35, Steinhausen   \n",
       "3     frontpage22_2231.htm        9       Zugerstrasse 195, Neuägeri   \n",
       "4     frontpage22_2391.htm        9      Zugerstrasse 22, Unterägeri   \n",
       "...                    ...      ...                              ...   \n",
       "3993                   NaN      NaN   Hinterbergstrasse 26, Walchwil   \n",
       "3994                   NaN      NaN   Hinterbergstrasse 14, Walchwil   \n",
       "3995                   NaN      NaN           Schule Wiesental, Baar   \n",
       "3996                   NaN      NaN              Schmidtli, Neuägeri   \n",
       "3997                   NaN      NaN        Vordermangeli, Finstersee   \n",
       "\n",
       "      Unnamed: 0  Unnamed: 0_x  Seite_y  Anzahl_y  Unnamed: 0_y         EGID  \\\n",
       "0        21451.0           NaN      NaN       NaN         272.0     317944.0   \n",
       "1        21771.0           NaN      NaN       NaN         595.0     318318.0   \n",
       "2        21057.0           NaN      NaN       NaN         841.0    9033610.0   \n",
       "3        22346.0           NaN      NaN       NaN        1179.0    9002354.0   \n",
       "4        22506.0           NaN      NaN       NaN        1342.0  190208532.0   \n",
       "...          ...           ...      ...       ...           ...          ...   \n",
       "3993     23575.0           NaN      NaN       NaN        1276.0     319379.0   \n",
       "3994     23589.0           NaN      NaN       NaN        1290.0     319379.0   \n",
       "3995     23592.0           NaN      NaN       NaN         413.0     310500.0   \n",
       "3996     23603.0           NaN      NaN       NaN        1428.0     311667.0   \n",
       "3997     23899.0           NaN      NaN       NaN        1348.0  191730295.0   \n",
       "\n",
       "      EDID  ...   GDENR      GDENAME            STRNAME DEINR    PLZ4  PLZZ  \\\n",
       "0      0.0  ...  1709.0   Unterägeri     Waldhofstrasse    11  6314.0   0.0   \n",
       "1      0.0  ...  1709.0   Unterägeri   Zugerbergstrasse    18  6314.0   0.0   \n",
       "2      0.0  ...  1708.0  Steinhausen    Sennweidstrasse    35  6312.0   0.0   \n",
       "3      0.0  ...  1709.0   Unterägeri       Zugerstrasse   195  6314.0   1.0   \n",
       "4      0.0  ...  1709.0   Unterägeri       Zugerstrasse    22  6314.0   0.0   \n",
       "...    ...  ...     ...          ...                ...   ...     ...   ...   \n",
       "3993   5.0  ...  1710.0     Walchwil  Hinterbergstrasse    26  6318.0   0.0   \n",
       "3994  11.0  ...  1710.0     Walchwil  Hinterbergstrasse    14  6318.0   0.0   \n",
       "3995   0.0  ...  1701.0         Baar   Schule Wiesental   NaN  6340.0   0.0   \n",
       "3996   0.0  ...  1701.0         Baar          Schmidtli   NaN  6314.0   1.0   \n",
       "3997   0.0  ...  1704.0    Menzingen      Vordermangeli   NaN  6313.0   3.0   \n",
       "\n",
       "          PLZNAME        GKODE        GKODN  STRSP  \n",
       "0      Unterägeri  2686267.769  1221857.146     de  \n",
       "1      Unterägeri  2686755.129  1221264.135     de  \n",
       "2     Steinhausen  2679063.298  1227118.775     de  \n",
       "3        Neuägeri  2685253.581  1222983.459     de  \n",
       "4      Unterägeri  2686708.749  1221383.446     de  \n",
       "...           ...          ...          ...    ...  \n",
       "3993     Walchwil  2682147.726  1216838.021     de  \n",
       "3994     Walchwil  2682124.529  1216831.466     de  \n",
       "3995         Baar  2681824.816  1228113.838     de  \n",
       "3996     Neuägeri  2685032.000  1223212.000     de  \n",
       "3997   Finstersee  2689988.700  1223698.270     de  \n",
       "\n",
       "[3998 rows x 21 columns]"
      ]
     },
     "execution_count": 27,
     "metadata": {},
     "output_type": "execute_result"
    }
   ],
   "source": [
    "df_abgl_t2"
   ]
  },
  {
   "cell_type": "code",
   "execution_count": 32,
   "metadata": {},
   "outputs": [
    {
     "data": {
      "text/html": [
       "<div>\n",
       "<style scoped>\n",
       "    .dataframe tbody tr th:only-of-type {\n",
       "        vertical-align: middle;\n",
       "    }\n",
       "\n",
       "    .dataframe tbody tr th {\n",
       "        vertical-align: top;\n",
       "    }\n",
       "\n",
       "    .dataframe thead th {\n",
       "        text-align: right;\n",
       "    }\n",
       "</style>\n",
       "<table border=\"1\" class=\"dataframe\">\n",
       "  <thead>\n",
       "    <tr style=\"text-align: right;\">\n",
       "      <th></th>\n",
       "      <th>Seite_x</th>\n",
       "      <th>Anzahl_x</th>\n",
       "      <th>Adresse</th>\n",
       "      <th>Unnamed: 0</th>\n",
       "      <th>Unnamed: 0_x</th>\n",
       "      <th>Seite_y</th>\n",
       "      <th>Anzahl_y</th>\n",
       "      <th>Unnamed: 0_y</th>\n",
       "      <th>EGID</th>\n",
       "      <th>EDID</th>\n",
       "      <th>...</th>\n",
       "      <th>GDENR</th>\n",
       "      <th>GDENAME</th>\n",
       "      <th>STRNAME</th>\n",
       "      <th>DEINR</th>\n",
       "      <th>PLZ4</th>\n",
       "      <th>PLZZ</th>\n",
       "      <th>PLZNAME</th>\n",
       "      <th>GKODE</th>\n",
       "      <th>GKODN</th>\n",
       "      <th>STRSP</th>\n",
       "    </tr>\n",
       "  </thead>\n",
       "  <tbody>\n",
       "    <tr>\n",
       "      <td>3284</td>\n",
       "      <td>frontpage22_1002.htm</td>\n",
       "      <td>NaN</td>\n",
       "      <td>NaN</td>\n",
       "      <td>NaN</td>\n",
       "      <td>NaN</td>\n",
       "      <td>NaN</td>\n",
       "      <td>NaN</td>\n",
       "      <td>NaN</td>\n",
       "      <td>NaN</td>\n",
       "      <td>NaN</td>\n",
       "      <td>...</td>\n",
       "      <td>NaN</td>\n",
       "      <td>NaN</td>\n",
       "      <td>NaN</td>\n",
       "      <td>NaN</td>\n",
       "      <td>NaN</td>\n",
       "      <td>NaN</td>\n",
       "      <td>NaN</td>\n",
       "      <td>NaN</td>\n",
       "      <td>NaN</td>\n",
       "      <td>NaN</td>\n",
       "    </tr>\n",
       "    <tr>\n",
       "      <td>3706</td>\n",
       "      <td>NaN</td>\n",
       "      <td>NaN</td>\n",
       "      <td>Hauptseestrasse 39.2, Morgarten</td>\n",
       "      <td>20132.0</td>\n",
       "      <td>NaN</td>\n",
       "      <td>NaN</td>\n",
       "      <td>NaN</td>\n",
       "      <td>1649.0</td>\n",
       "      <td>191717997.0</td>\n",
       "      <td>0.0</td>\n",
       "      <td>...</td>\n",
       "      <td>1706.0</td>\n",
       "      <td>Oberägeri</td>\n",
       "      <td>Hauptseestrasse</td>\n",
       "      <td>39.2</td>\n",
       "      <td>6315.0</td>\n",
       "      <td>3.0</td>\n",
       "      <td>Morgarten</td>\n",
       "      <td>2691060.000</td>\n",
       "      <td>1219359.000</td>\n",
       "      <td>de</td>\n",
       "    </tr>\n",
       "    <tr>\n",
       "      <td>3707</td>\n",
       "      <td>NaN</td>\n",
       "      <td>NaN</td>\n",
       "      <td>Hauptseestrasse 33.2, Morgarten</td>\n",
       "      <td>20155.0</td>\n",
       "      <td>NaN</td>\n",
       "      <td>NaN</td>\n",
       "      <td>NaN</td>\n",
       "      <td>1706.0</td>\n",
       "      <td>191718200.0</td>\n",
       "      <td>0.0</td>\n",
       "      <td>...</td>\n",
       "      <td>1706.0</td>\n",
       "      <td>Oberägeri</td>\n",
       "      <td>Hauptseestrasse</td>\n",
       "      <td>33.2</td>\n",
       "      <td>6315.0</td>\n",
       "      <td>3.0</td>\n",
       "      <td>Morgarten</td>\n",
       "      <td>2691324.000</td>\n",
       "      <td>1219572.000</td>\n",
       "      <td>de</td>\n",
       "    </tr>\n",
       "    <tr>\n",
       "      <td>3708</td>\n",
       "      <td>NaN</td>\n",
       "      <td>NaN</td>\n",
       "      <td>Rämslistrasse 51.2, Oberägeri</td>\n",
       "      <td>20177.0</td>\n",
       "      <td>NaN</td>\n",
       "      <td>NaN</td>\n",
       "      <td>NaN</td>\n",
       "      <td>1749.0</td>\n",
       "      <td>191718410.0</td>\n",
       "      <td>0.0</td>\n",
       "      <td>...</td>\n",
       "      <td>1706.0</td>\n",
       "      <td>Oberägeri</td>\n",
       "      <td>Rämslistrasse</td>\n",
       "      <td>51.2</td>\n",
       "      <td>6315.0</td>\n",
       "      <td>0.0</td>\n",
       "      <td>Oberägeri</td>\n",
       "      <td>2691050.000</td>\n",
       "      <td>1220553.000</td>\n",
       "      <td>de</td>\n",
       "    </tr>\n",
       "    <tr>\n",
       "      <td>3709</td>\n",
       "      <td>NaN</td>\n",
       "      <td>NaN</td>\n",
       "      <td>Gulmstrasse 35.1, Oberägeri</td>\n",
       "      <td>20181.0</td>\n",
       "      <td>NaN</td>\n",
       "      <td>NaN</td>\n",
       "      <td>NaN</td>\n",
       "      <td>1753.0</td>\n",
       "      <td>191797912.0</td>\n",
       "      <td>0.0</td>\n",
       "      <td>...</td>\n",
       "      <td>1706.0</td>\n",
       "      <td>Oberägeri</td>\n",
       "      <td>Gulmstrasse</td>\n",
       "      <td>35.1</td>\n",
       "      <td>6315.0</td>\n",
       "      <td>0.0</td>\n",
       "      <td>Oberägeri</td>\n",
       "      <td>2689736.000</td>\n",
       "      <td>1221130.000</td>\n",
       "      <td>de</td>\n",
       "    </tr>\n",
       "    <tr>\n",
       "      <td>...</td>\n",
       "      <td>...</td>\n",
       "      <td>...</td>\n",
       "      <td>...</td>\n",
       "      <td>...</td>\n",
       "      <td>...</td>\n",
       "      <td>...</td>\n",
       "      <td>...</td>\n",
       "      <td>...</td>\n",
       "      <td>...</td>\n",
       "      <td>...</td>\n",
       "      <td>...</td>\n",
       "      <td>...</td>\n",
       "      <td>...</td>\n",
       "      <td>...</td>\n",
       "      <td>...</td>\n",
       "      <td>...</td>\n",
       "      <td>...</td>\n",
       "      <td>...</td>\n",
       "      <td>...</td>\n",
       "      <td>...</td>\n",
       "      <td>...</td>\n",
       "    </tr>\n",
       "    <tr>\n",
       "      <td>3993</td>\n",
       "      <td>NaN</td>\n",
       "      <td>NaN</td>\n",
       "      <td>Hinterbergstrasse 26, Walchwil</td>\n",
       "      <td>23575.0</td>\n",
       "      <td>NaN</td>\n",
       "      <td>NaN</td>\n",
       "      <td>NaN</td>\n",
       "      <td>1276.0</td>\n",
       "      <td>319379.0</td>\n",
       "      <td>5.0</td>\n",
       "      <td>...</td>\n",
       "      <td>1710.0</td>\n",
       "      <td>Walchwil</td>\n",
       "      <td>Hinterbergstrasse</td>\n",
       "      <td>26</td>\n",
       "      <td>6318.0</td>\n",
       "      <td>0.0</td>\n",
       "      <td>Walchwil</td>\n",
       "      <td>2682147.726</td>\n",
       "      <td>1216838.021</td>\n",
       "      <td>de</td>\n",
       "    </tr>\n",
       "    <tr>\n",
       "      <td>3994</td>\n",
       "      <td>NaN</td>\n",
       "      <td>NaN</td>\n",
       "      <td>Hinterbergstrasse 14, Walchwil</td>\n",
       "      <td>23589.0</td>\n",
       "      <td>NaN</td>\n",
       "      <td>NaN</td>\n",
       "      <td>NaN</td>\n",
       "      <td>1290.0</td>\n",
       "      <td>319379.0</td>\n",
       "      <td>11.0</td>\n",
       "      <td>...</td>\n",
       "      <td>1710.0</td>\n",
       "      <td>Walchwil</td>\n",
       "      <td>Hinterbergstrasse</td>\n",
       "      <td>14</td>\n",
       "      <td>6318.0</td>\n",
       "      <td>0.0</td>\n",
       "      <td>Walchwil</td>\n",
       "      <td>2682124.529</td>\n",
       "      <td>1216831.466</td>\n",
       "      <td>de</td>\n",
       "    </tr>\n",
       "    <tr>\n",
       "      <td>3995</td>\n",
       "      <td>NaN</td>\n",
       "      <td>NaN</td>\n",
       "      <td>Schule Wiesental, Baar</td>\n",
       "      <td>23592.0</td>\n",
       "      <td>NaN</td>\n",
       "      <td>NaN</td>\n",
       "      <td>NaN</td>\n",
       "      <td>413.0</td>\n",
       "      <td>310500.0</td>\n",
       "      <td>0.0</td>\n",
       "      <td>...</td>\n",
       "      <td>1701.0</td>\n",
       "      <td>Baar</td>\n",
       "      <td>Schule Wiesental</td>\n",
       "      <td>NaN</td>\n",
       "      <td>6340.0</td>\n",
       "      <td>0.0</td>\n",
       "      <td>Baar</td>\n",
       "      <td>2681824.816</td>\n",
       "      <td>1228113.838</td>\n",
       "      <td>de</td>\n",
       "    </tr>\n",
       "    <tr>\n",
       "      <td>3996</td>\n",
       "      <td>NaN</td>\n",
       "      <td>NaN</td>\n",
       "      <td>Schmidtli, Neuägeri</td>\n",
       "      <td>23603.0</td>\n",
       "      <td>NaN</td>\n",
       "      <td>NaN</td>\n",
       "      <td>NaN</td>\n",
       "      <td>1428.0</td>\n",
       "      <td>311667.0</td>\n",
       "      <td>0.0</td>\n",
       "      <td>...</td>\n",
       "      <td>1701.0</td>\n",
       "      <td>Baar</td>\n",
       "      <td>Schmidtli</td>\n",
       "      <td>NaN</td>\n",
       "      <td>6314.0</td>\n",
       "      <td>1.0</td>\n",
       "      <td>Neuägeri</td>\n",
       "      <td>2685032.000</td>\n",
       "      <td>1223212.000</td>\n",
       "      <td>de</td>\n",
       "    </tr>\n",
       "    <tr>\n",
       "      <td>3997</td>\n",
       "      <td>NaN</td>\n",
       "      <td>NaN</td>\n",
       "      <td>Vordermangeli, Finstersee</td>\n",
       "      <td>23899.0</td>\n",
       "      <td>NaN</td>\n",
       "      <td>NaN</td>\n",
       "      <td>NaN</td>\n",
       "      <td>1348.0</td>\n",
       "      <td>191730295.0</td>\n",
       "      <td>0.0</td>\n",
       "      <td>...</td>\n",
       "      <td>1704.0</td>\n",
       "      <td>Menzingen</td>\n",
       "      <td>Vordermangeli</td>\n",
       "      <td>NaN</td>\n",
       "      <td>6313.0</td>\n",
       "      <td>3.0</td>\n",
       "      <td>Finstersee</td>\n",
       "      <td>2689988.700</td>\n",
       "      <td>1223698.270</td>\n",
       "      <td>de</td>\n",
       "    </tr>\n",
       "  </tbody>\n",
       "</table>\n",
       "<p>293 rows × 21 columns</p>\n",
       "</div>"
      ],
      "text/plain": [
       "                   Seite_x Anzahl_x                          Adresse  \\\n",
       "3284  frontpage22_1002.htm      NaN                              NaN   \n",
       "3706                   NaN      NaN  Hauptseestrasse 39.2, Morgarten   \n",
       "3707                   NaN      NaN  Hauptseestrasse 33.2, Morgarten   \n",
       "3708                   NaN      NaN    Rämslistrasse 51.2, Oberägeri   \n",
       "3709                   NaN      NaN      Gulmstrasse 35.1, Oberägeri   \n",
       "...                    ...      ...                              ...   \n",
       "3993                   NaN      NaN   Hinterbergstrasse 26, Walchwil   \n",
       "3994                   NaN      NaN   Hinterbergstrasse 14, Walchwil   \n",
       "3995                   NaN      NaN           Schule Wiesental, Baar   \n",
       "3996                   NaN      NaN              Schmidtli, Neuägeri   \n",
       "3997                   NaN      NaN        Vordermangeli, Finstersee   \n",
       "\n",
       "      Unnamed: 0  Unnamed: 0_x  Seite_y  Anzahl_y  Unnamed: 0_y         EGID  \\\n",
       "3284         NaN           NaN      NaN       NaN           NaN          NaN   \n",
       "3706     20132.0           NaN      NaN       NaN        1649.0  191717997.0   \n",
       "3707     20155.0           NaN      NaN       NaN        1706.0  191718200.0   \n",
       "3708     20177.0           NaN      NaN       NaN        1749.0  191718410.0   \n",
       "3709     20181.0           NaN      NaN       NaN        1753.0  191797912.0   \n",
       "...          ...           ...      ...       ...           ...          ...   \n",
       "3993     23575.0           NaN      NaN       NaN        1276.0     319379.0   \n",
       "3994     23589.0           NaN      NaN       NaN        1290.0     319379.0   \n",
       "3995     23592.0           NaN      NaN       NaN         413.0     310500.0   \n",
       "3996     23603.0           NaN      NaN       NaN        1428.0     311667.0   \n",
       "3997     23899.0           NaN      NaN       NaN        1348.0  191730295.0   \n",
       "\n",
       "      EDID  ...   GDENR    GDENAME            STRNAME DEINR    PLZ4  PLZZ  \\\n",
       "3284   NaN  ...     NaN        NaN                NaN   NaN     NaN   NaN   \n",
       "3706   0.0  ...  1706.0  Oberägeri    Hauptseestrasse  39.2  6315.0   3.0   \n",
       "3707   0.0  ...  1706.0  Oberägeri    Hauptseestrasse  33.2  6315.0   3.0   \n",
       "3708   0.0  ...  1706.0  Oberägeri      Rämslistrasse  51.2  6315.0   0.0   \n",
       "3709   0.0  ...  1706.0  Oberägeri        Gulmstrasse  35.1  6315.0   0.0   \n",
       "...    ...  ...     ...        ...                ...   ...     ...   ...   \n",
       "3993   5.0  ...  1710.0   Walchwil  Hinterbergstrasse    26  6318.0   0.0   \n",
       "3994  11.0  ...  1710.0   Walchwil  Hinterbergstrasse    14  6318.0   0.0   \n",
       "3995   0.0  ...  1701.0       Baar   Schule Wiesental   NaN  6340.0   0.0   \n",
       "3996   0.0  ...  1701.0       Baar          Schmidtli   NaN  6314.0   1.0   \n",
       "3997   0.0  ...  1704.0  Menzingen      Vordermangeli   NaN  6313.0   3.0   \n",
       "\n",
       "         PLZNAME        GKODE        GKODN  STRSP  \n",
       "3284         NaN          NaN          NaN    NaN  \n",
       "3706   Morgarten  2691060.000  1219359.000     de  \n",
       "3707   Morgarten  2691324.000  1219572.000     de  \n",
       "3708   Oberägeri  2691050.000  1220553.000     de  \n",
       "3709   Oberägeri  2689736.000  1221130.000     de  \n",
       "...          ...          ...          ...    ...  \n",
       "3993    Walchwil  2682147.726  1216838.021     de  \n",
       "3994    Walchwil  2682124.529  1216831.466     de  \n",
       "3995        Baar  2681824.816  1228113.838     de  \n",
       "3996    Neuägeri  2685032.000  1223212.000     de  \n",
       "3997  Finstersee  2689988.700  1223698.270     de  \n",
       "\n",
       "[293 rows x 21 columns]"
      ]
     },
     "execution_count": 32,
     "metadata": {},
     "output_type": "execute_result"
    }
   ],
   "source": [
    "df_fehlende_gmd_teil2=df_abgl_t2[df_abgl_t2[\"Anzahl_x\"].notnull()==False]\n",
    "df_fehlende_gmd_teil2.to_csv(folderpath+\"/BRFrames/fehlende_der_fehlenden_Gmd_Teil2\")\n",
    "df_fehlende_gmd_teil2"
   ]
  },
  {
   "cell_type": "code",
   "execution_count": null,
   "metadata": {},
   "outputs": [],
   "source": []
  },
  {
   "cell_type": "code",
   "execution_count": null,
   "metadata": {},
   "outputs": [],
   "source": []
  },
  {
   "cell_type": "code",
   "execution_count": null,
   "metadata": {},
   "outputs": [],
   "source": []
  },
  {
   "cell_type": "code",
   "execution_count": null,
   "metadata": {},
   "outputs": [],
   "source": []
  },
  {
   "cell_type": "code",
   "execution_count": null,
   "metadata": {},
   "outputs": [],
   "source": [
    "dfabc"
   ]
  },
  {
   "cell_type": "code",
   "execution_count": null,
   "metadata": {},
   "outputs": [],
   "source": [
    "dfabc[\"Anzahl\"]=dfabc[\"Anzahl\"].astype(int)"
   ]
  },
  {
   "cell_type": "code",
   "execution_count": null,
   "metadata": {
    "scrolled": true
   },
   "outputs": [],
   "source": [
    "dfabc.sort_values(\"Anzahl\")"
   ]
  },
  {
   "cell_type": "code",
   "execution_count": null,
   "metadata": {},
   "outputs": [],
   "source": [
    "dfabc[\"Adresse\"]=dfabc[\"Adresse\"].str.extract(\"value=\\\"(.*)\\\"\")"
   ]
  },
  {
   "cell_type": "code",
   "execution_count": null,
   "metadata": {},
   "outputs": [],
   "source": [
    "dfabc.sort_values(\"Anzahl\", ascending=False).head(40)"
   ]
  },
  {
   "cell_type": "code",
   "execution_count": null,
   "metadata": {},
   "outputs": [],
   "source": [
    "dfabc[dfabc[\"Anzahl\"]>20].shape"
   ]
  },
  {
   "cell_type": "code",
   "execution_count": null,
   "metadata": {},
   "outputs": [],
   "source": [
    "dfabc.to_csv(folderpath+\"/BRFrames/GEmeinden_Teil1_ausgelesen\")"
   ]
  },
  {
   "cell_type": "code",
   "execution_count": null,
   "metadata": {},
   "outputs": [],
   "source": [
    "dfa.shape"
   ]
  },
  {
   "cell_type": "code",
   "execution_count": null,
   "metadata": {
    "scrolled": true
   },
   "outputs": [],
   "source": [
    "dfa[\"Anzahl\"].sort_values().tail(1123)"
   ]
  },
  {
   "cell_type": "code",
   "execution_count": null,
   "metadata": {},
   "outputs": [],
   "source": [
    "dfb=dfa[\"Anzahl\"].sort_values().head(3324)"
   ]
  },
  {
   "cell_type": "code",
   "execution_count": null,
   "metadata": {},
   "outputs": [],
   "source": [
    "dfb.tail(2500)"
   ]
  },
  {
   "cell_type": "code",
   "execution_count": null,
   "metadata": {},
   "outputs": [],
   "source": []
  },
  {
   "cell_type": "code",
   "execution_count": null,
   "metadata": {},
   "outputs": [],
   "source": []
  },
  {
   "cell_type": "code",
   "execution_count": null,
   "metadata": {},
   "outputs": [],
   "source": []
  },
  {
   "cell_type": "code",
   "execution_count": null,
   "metadata": {},
   "outputs": [],
   "source": []
  },
  {
   "cell_type": "markdown",
   "metadata": {},
   "source": [
    "# Loop bei mehreren Seiten\n",
    "zuerst nur mal mit der Baarerstrasse 11 versuchen. Dort gibt es mehrere Seiten\n",
    "abgespeichert unter page"
   ]
  },
  {
   "cell_type": "code",
   "execution_count": null,
   "metadata": {},
   "outputs": [],
   "source": [
    "file_g=open(\"page.htm\", 'r')\n",
    "text_g=file_g.read()\n",
    "soup_g=BeautifulSoup(text_g, 'html.parser')\n",
    "soup_g"
   ]
  },
  {
   "cell_type": "code",
   "execution_count": null,
   "metadata": {},
   "outputs": [],
   "source": [
    "span_list=soup_g.find_all(\"span\")\n",
    "div_list=soup_g.find_all(\"div\")"
   ]
  },
  {
   "cell_type": "code",
   "execution_count": null,
   "metadata": {},
   "outputs": [],
   "source": [
    "len(span_list)"
   ]
  },
  {
   "cell_type": "code",
   "execution_count": null,
   "metadata": {},
   "outputs": [],
   "source": [
    "div_span_list=div_list[-27].find_all(\"span\")"
   ]
  },
  {
   "cell_type": "code",
   "execution_count": null,
   "metadata": {},
   "outputs": [],
   "source": [
    "div_span_list"
   ]
  },
  {
   "cell_type": "markdown",
   "metadata": {},
   "source": [
    "\n",
    "**Wie kann ich die verschiedenen Unterseiten ansteuern und merken, wann die letzte Seite da ist. Vielleicht ist die Span-Liste unteschiedlich lange - je nach dem wieviele Unterseiten vorhanden sind.**"
   ]
  },
  {
   "cell_type": "code",
   "execution_count": null,
   "metadata": {},
   "outputs": [],
   "source": [
    "# mit 5 Unterseiten hat die Liste die Länge 14\n",
    "len(div_span_list)"
   ]
  },
  {
   "cell_type": "code",
   "execution_count": null,
   "metadata": {},
   "outputs": [],
   "source": [
    "file_f=open(folderpath+\"/HRSeiten/frontpage1011.htm\", 'r')\n",
    "text_f=file_f.read()\n",
    "soup_f=BeautifulSoup(text_f, 'html.parser')\n",
    "soup_f"
   ]
  },
  {
   "cell_type": "code",
   "execution_count": null,
   "metadata": {},
   "outputs": [],
   "source": [
    "div_list_f=soup_f.find_all(\"div\")"
   ]
  },
  {
   "cell_type": "code",
   "execution_count": null,
   "metadata": {},
   "outputs": [],
   "source": [
    "span_f_list=div_list_f[-27].find_all(\"span\")"
   ]
  },
  {
   "cell_type": "code",
   "execution_count": null,
   "metadata": {},
   "outputs": [],
   "source": [
    "span_f_list"
   ]
  },
  {
   "cell_type": "code",
   "execution_count": null,
   "metadata": {},
   "outputs": [],
   "source": [
    "# mit zwei Unterseiten hat es die Länge 11. Es würde also so funktionieren\n",
    "len(span_f_list)"
   ]
  },
  {
   "cell_type": "markdown",
   "metadata": {},
   "source": [
    "###  Erkenntnis Anzahl Unterseiten\n",
    "\n",
    "- Anhand des Totals an Firmen kann ich sehen, wieviele Unterseiten vorhanden sein sollten.\n",
    "- Und es funktioniert auch mit Hilfe der Länge der Span-Liste."
   ]
  },
  {
   "cell_type": "code",
   "execution_count": null,
   "metadata": {},
   "outputs": [],
   "source": []
  }
 ],
 "metadata": {
  "kernelspec": {
   "display_name": "Python 3",
   "language": "python",
   "name": "python3"
  },
  "language_info": {
   "codemirror_mode": {
    "name": "ipython",
    "version": 3
   },
   "file_extension": ".py",
   "mimetype": "text/x-python",
   "name": "python",
   "nbconvert_exporter": "python",
   "pygments_lexer": "ipython3",
   "version": "3.7.3"
  }
 },
 "nbformat": 4,
 "nbformat_minor": 2
}
