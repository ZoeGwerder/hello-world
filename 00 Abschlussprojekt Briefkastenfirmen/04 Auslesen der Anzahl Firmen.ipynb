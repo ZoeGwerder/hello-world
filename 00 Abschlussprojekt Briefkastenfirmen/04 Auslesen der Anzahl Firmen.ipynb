{
 "cells": [
  {
   "cell_type": "code",
   "execution_count": 2,
   "metadata": {},
   "outputs": [],
   "source": [
    "from bs4 import BeautifulSoup\n",
    "import pandas as pd\n",
    "import os\n",
    "import re\n",
    "import bs4 as bs\n",
    "import requests\n",
    "import bs4 as bs\n",
    "import requests\n",
    "folderpath=r\"C:\\Users\\Zoe\\Desktop\\maz-datenjournalismus\\Daten_BR_Handelsreg\""
   ]
  },
  {
   "cell_type": "markdown",
   "metadata": {},
   "source": [
    "# Listenpositionen der Angaben finden"
   ]
  },
  {
   "cell_type": "code",
   "execution_count": null,
   "metadata": {},
   "outputs": [],
   "source": [
    "file_g=open(folderpath+\"/HRSeiten/frontpage4435.htm\", 'r')\n",
    "text_g=file_g.read()\n",
    "soup_g=BeautifulSoup(text_g, 'html.parser')"
   ]
  },
  {
   "cell_type": "code",
   "execution_count": null,
   "metadata": {},
   "outputs": [],
   "source": [
    "soup_g"
   ]
  },
  {
   "cell_type": "code",
   "execution_count": null,
   "metadata": {},
   "outputs": [],
   "source": [
    "div_g_list=soup_g.find_all(\"div\")"
   ]
  },
  {
   "cell_type": "code",
   "execution_count": null,
   "metadata": {},
   "outputs": [],
   "source": [
    "#hier also die Anzahl gefundener Firmen. \n",
    "#reicht eigentlich schon. kann ich über den Filenamen erschliessen.\n",
    "div_g_list[-26].text"
   ]
  },
  {
   "cell_type": "code",
   "execution_count": null,
   "metadata": {},
   "outputs": [],
   "source": [
    "div_list"
   ]
  },
  {
   "cell_type": "code",
   "execution_count": null,
   "metadata": {},
   "outputs": [],
   "source": [
    "file_o=open(folderpath+\"/HRSeiten/frontpage0.htm\", 'r')\n",
    "text_o=file_o.read()\n",
    "soup_o=BeautifulSoup(text_o, 'html.parser')"
   ]
  },
  {
   "cell_type": "code",
   "execution_count": null,
   "metadata": {},
   "outputs": [],
   "source": [
    "soup_o"
   ]
  },
  {
   "cell_type": "code",
   "execution_count": null,
   "metadata": {},
   "outputs": [],
   "source": [
    "div_o_list=soup_o.find_all(\"div\")"
   ]
  },
  {
   "cell_type": "code",
   "execution_count": null,
   "metadata": {},
   "outputs": [],
   "source": [
    "len(div_o_list)"
   ]
  },
  {
   "cell_type": "code",
   "execution_count": null,
   "metadata": {},
   "outputs": [],
   "source": [
    "# Listenposition, wenn es kein Resultat hat\n",
    "div_o_list[15]"
   ]
  },
  {
   "cell_type": "markdown",
   "metadata": {},
   "source": [
    "# Position zum Auslesen der Adresse finden\n",
    "Damit kann ich abgleichen ob ich auch alle Files erwischt habe - oder bei welchen ich nochmals eine Runde laufen lassen muss."
   ]
  },
  {
   "cell_type": "code",
   "execution_count": null,
   "metadata": {},
   "outputs": [],
   "source": [
    "file_g=open(folderpath+\"/HRSeiten/frontpage4435.htm\", 'r')\n",
    "text_a=file_g.read()\n",
    "soup_a=BeautifulSoup(text_a, 'html.parser')"
   ]
  },
  {
   "cell_type": "code",
   "execution_count": null,
   "metadata": {},
   "outputs": [],
   "source": [
    "div_at_list=soup_a.find_all(\"div\")"
   ]
  },
  {
   "cell_type": "code",
   "execution_count": null,
   "metadata": {},
   "outputs": [],
   "source": [
    "len(div_at_list)"
   ]
  },
  {
   "cell_type": "code",
   "execution_count": null,
   "metadata": {},
   "outputs": [],
   "source": [
    "div_at_list[-52]"
   ]
  },
  {
   "cell_type": "code",
   "execution_count": null,
   "metadata": {},
   "outputs": [],
   "source": [
    "# HIer die Listenposition wenn es keine Firmen drin hat. \n",
    "input_list_at=div_at_list[50].find_all(\"input\")"
   ]
  },
  {
   "cell_type": "code",
   "execution_count": null,
   "metadata": {},
   "outputs": [],
   "source": [
    "input_list_at[0]"
   ]
  },
  {
   "cell_type": "code",
   "execution_count": null,
   "metadata": {},
   "outputs": [],
   "source": [
    "# Nun schauen, ob es mit Firmen an derselben Position ist"
   ]
  },
  {
   "cell_type": "code",
   "execution_count": null,
   "metadata": {},
   "outputs": [],
   "source": [
    "file_af=open(folderpath+\"/HRSeiten/frontpage4447.htm\", 'r')\n",
    "text_af=file_af.read()\n",
    "soup_af=BeautifulSoup(text_af, 'html.parser')\n",
    "div_af_list=soup_af.find_all(\"div\")"
   ]
  },
  {
   "cell_type": "code",
   "execution_count": null,
   "metadata": {},
   "outputs": [],
   "source": [
    "div_af_list[-51]"
   ]
  },
  {
   "cell_type": "code",
   "execution_count": null,
   "metadata": {},
   "outputs": [],
   "source": [
    "input_list_af=div_af_list[-51].find_all(\"input\")"
   ]
  },
  {
   "cell_type": "code",
   "execution_count": null,
   "metadata": {},
   "outputs": [],
   "source": [
    "input_list_af[0]"
   ]
  },
  {
   "cell_type": "code",
   "execution_count": null,
   "metadata": {},
   "outputs": [],
   "source": [
    "regex_adress=r\"value=\\\"(\\.*)\\\"\""
   ]
  },
  {
   "cell_type": "code",
   "execution_count": null,
   "metadata": {},
   "outputs": [],
   "source": [
    "r\"value=(\\\".*\\\")\""
   ]
  },
  {
   "cell_type": "markdown",
   "metadata": {},
   "source": [
    "# Loop testen"
   ]
  },
  {
   "cell_type": "code",
   "execution_count": 57,
   "metadata": {},
   "outputs": [],
   "source": [
    "\n",
    "anzahl_liste=[]\n",
    "path=folderpath+\"/HRSeiten_Test/\"\n",
    "for page in os.listdir(path):\n",
    "    file=open(path+page, 'r')\n",
    "    text=file.read()\n",
    "    soup=BeautifulSoup(text, 'html.parser')\n",
    "    div_list=soup.find_all(\"div\")\n",
    "    if len(div_list) == 97:\n",
    "        anzahl= \"keine\"\n",
    "        input_list=div_list[50].find_all(\"input\")\n",
    "        adresse_o=input_list[0]\n",
    "        adresse=str(adresse_o)\n",
    "       \n",
    "    else:\n",
    "        anzahl= div_list[-26].text\n",
    "        input_list_f=div_list[-51].find_all(\"input\")\n",
    "        adresse_f=input_list_f[0]\n",
    "        adresse=str(adresse_f)\n",
    "        \n",
    "\n",
    "    minidict_a={\"Seite\":page,\"Anzahl\":anzahl, \"Adresse\":adresse}\n",
    "    anzahl_liste.append(minidict_a)"
   ]
  },
  {
   "cell_type": "code",
   "execution_count": 58,
   "metadata": {},
   "outputs": [],
   "source": [
    "dftest_a=pd.DataFrame(anzahl_liste)"
   ]
  },
  {
   "cell_type": "code",
   "execution_count": 59,
   "metadata": {
    "scrolled": true
   },
   "outputs": [
    {
     "data": {
      "text/html": [
       "<div>\n",
       "<style scoped>\n",
       "    .dataframe tbody tr th:only-of-type {\n",
       "        vertical-align: middle;\n",
       "    }\n",
       "\n",
       "    .dataframe tbody tr th {\n",
       "        vertical-align: top;\n",
       "    }\n",
       "\n",
       "    .dataframe thead th {\n",
       "        text-align: right;\n",
       "    }\n",
       "</style>\n",
       "<table border=\"1\" class=\"dataframe\">\n",
       "  <thead>\n",
       "    <tr style=\"text-align: right;\">\n",
       "      <th></th>\n",
       "      <th>Seite</th>\n",
       "      <th>Anzahl</th>\n",
       "      <th>Adresse</th>\n",
       "    </tr>\n",
       "  </thead>\n",
       "  <tbody>\n",
       "    <tr>\n",
       "      <td>0</td>\n",
       "      <td>frontpage4441.htm</td>\n",
       "      <td>keine</td>\n",
       "      <td>&lt;input aria-disabled=\"false\" aria-multiline=\"false\" aria-readonly=\"false\" class=\"ui-inputfield ui-inputtext ui-widget ui-state-default ui-corner-all form-control\" id=\"idSucheForm:panel:idDiverseSuchtext\" name=\"idSucheForm:panel:idDiverseSuchtext\" role=\"textbox\" type=\"text\" value=\"Zeughausgasse 9a.2, Zug\"/&gt;</td>\n",
       "    </tr>\n",
       "    <tr>\n",
       "      <td>1</td>\n",
       "      <td>frontpage4442.htm</td>\n",
       "      <td>keine</td>\n",
       "      <td>&lt;input aria-disabled=\"false\" aria-multiline=\"false\" aria-readonly=\"false\" class=\"ui-inputfield ui-inputtext ui-widget ui-state-default ui-corner-all form-control\" id=\"idSucheForm:panel:idDiverseSuchtext\" name=\"idSucheForm:panel:idDiverseSuchtext\" role=\"textbox\" type=\"text\" value=\"Zeughausgasse 9a.4, Zug\"/&gt;</td>\n",
       "    </tr>\n",
       "    <tr>\n",
       "      <td>2</td>\n",
       "      <td>frontpage4443.htm</td>\n",
       "      <td>keine</td>\n",
       "      <td>&lt;input aria-disabled=\"false\" aria-multiline=\"false\" aria-readonly=\"false\" class=\"ui-inputfield ui-inputtext ui-widget ui-state-default ui-corner-all form-control\" id=\"idSucheForm:panel:idDiverseSuchtext\" name=\"idSucheForm:panel:idDiverseSuchtext\" role=\"textbox\" type=\"text\" value=\"Zeughausgasse 9a.6, Zug\"/&gt;</td>\n",
       "    </tr>\n",
       "    <tr>\n",
       "      <td>3</td>\n",
       "      <td>frontpage4444.htm</td>\n",
       "      <td>keine</td>\n",
       "      <td>&lt;input aria-disabled=\"false\" aria-multiline=\"false\" aria-readonly=\"false\" class=\"ui-inputfield ui-inputtext ui-widget ui-state-default ui-corner-all form-control\" id=\"idSucheForm:panel:idDiverseSuchtext\" name=\"idSucheForm:panel:idDiverseSuchtext\" role=\"textbox\" type=\"text\" value=\"Zeughausgasse 9b.1, Zug\"/&gt;</td>\n",
       "    </tr>\n",
       "    <tr>\n",
       "      <td>4</td>\n",
       "      <td>frontpage4445.htm</td>\n",
       "      <td>keine</td>\n",
       "      <td>&lt;input aria-disabled=\"false\" aria-multiline=\"false\" aria-readonly=\"false\" class=\"ui-inputfield ui-inputtext ui-widget ui-state-default ui-corner-all form-control\" id=\"idSucheForm:panel:idDiverseSuchtext\" name=\"idSucheForm:panel:idDiverseSuchtext\" role=\"textbox\" type=\"text\" value=\"Ziegelmattweg 1, Zug\"/&gt;</td>\n",
       "    </tr>\n",
       "    <tr>\n",
       "      <td>5</td>\n",
       "      <td>frontpage4446.htm</td>\n",
       "      <td>keine</td>\n",
       "      <td>&lt;input aria-disabled=\"false\" aria-multiline=\"false\" aria-readonly=\"false\" class=\"ui-inputfield ui-inputtext ui-widget ui-state-default ui-corner-all form-control\" id=\"idSucheForm:panel:idDiverseSuchtext\" name=\"idSucheForm:panel:idDiverseSuchtext\" role=\"textbox\" type=\"text\" value=\"Zugerbergstrasse 10.1, Zug\"/&gt;</td>\n",
       "    </tr>\n",
       "    <tr>\n",
       "      <td>6</td>\n",
       "      <td>frontpage4447.htm</td>\n",
       "      <td>\\n\\t\\t\\t\\tNo. of companies found: 6\\n\\t\\t\\t\\t</td>\n",
       "      <td>&lt;input aria-disabled=\"false\" aria-multiline=\"false\" aria-readonly=\"false\" class=\"ui-inputfield ui-inputtext ui-widget ui-state-default ui-corner-all form-control\" id=\"idSucheForm:panel:idDiverseSuchtext\" name=\"idSucheForm:panel:idDiverseSuchtext\" role=\"textbox\" type=\"text\" value=\"Zugerbergstrasse 12, Zug\"/&gt;</td>\n",
       "    </tr>\n",
       "    <tr>\n",
       "      <td>7</td>\n",
       "      <td>frontpage4448.htm</td>\n",
       "      <td>keine</td>\n",
       "      <td>&lt;input aria-disabled=\"false\" aria-multiline=\"false\" aria-readonly=\"false\" class=\"ui-inputfield ui-inputtext ui-widget ui-state-default ui-corner-all form-control\" id=\"idSucheForm:panel:idDiverseSuchtext\" name=\"idSucheForm:panel:idDiverseSuchtext\" role=\"textbox\" type=\"text\" value=\"Zugerbergstrasse 12.1, Zug\"/&gt;</td>\n",
       "    </tr>\n",
       "    <tr>\n",
       "      <td>8</td>\n",
       "      <td>frontpage4449.htm</td>\n",
       "      <td>keine</td>\n",
       "      <td>&lt;input aria-disabled=\"false\" aria-multiline=\"false\" aria-readonly=\"false\" class=\"ui-inputfield ui-inputtext ui-widget ui-state-default ui-corner-all form-control\" id=\"idSucheForm:panel:idDiverseSuchtext\" name=\"idSucheForm:panel:idDiverseSuchtext\" role=\"textbox\" type=\"text\" value=\"Zugerbergstrasse 12.2, Zug\"/&gt;</td>\n",
       "    </tr>\n",
       "    <tr>\n",
       "      <td>9</td>\n",
       "      <td>frontpage4450.htm</td>\n",
       "      <td>\\n\\t\\t\\t\\tNo. of companies found: 1\\n\\t\\t\\t\\t</td>\n",
       "      <td>&lt;input aria-disabled=\"false\" aria-multiline=\"false\" aria-readonly=\"false\" class=\"ui-inputfield ui-inputtext ui-widget ui-state-default ui-corner-all form-control\" id=\"idSucheForm:panel:idDiverseSuchtext\" name=\"idSucheForm:panel:idDiverseSuchtext\" role=\"textbox\" type=\"text\" value=\"Zugerbergstrasse 14, Zug\"/&gt;</td>\n",
       "    </tr>\n",
       "    <tr>\n",
       "      <td>10</td>\n",
       "      <td>frontpage4451.htm</td>\n",
       "      <td>keine</td>\n",
       "      <td>&lt;input aria-disabled=\"false\" aria-multiline=\"false\" aria-readonly=\"false\" class=\"ui-inputfield ui-inputtext ui-widget ui-state-default ui-corner-all form-control\" id=\"idSucheForm:panel:idDiverseSuchtext\" name=\"idSucheForm:panel:idDiverseSuchtext\" role=\"textbox\" type=\"text\" value=\"Zugerbergstrasse 15, Zug\"/&gt;</td>\n",
       "    </tr>\n",
       "    <tr>\n",
       "      <td>11</td>\n",
       "      <td>frontpage4452.htm</td>\n",
       "      <td>keine</td>\n",
       "      <td>&lt;input aria-disabled=\"false\" aria-multiline=\"false\" aria-readonly=\"false\" class=\"ui-inputfield ui-inputtext ui-widget ui-state-default ui-corner-all form-control\" id=\"idSucheForm:panel:idDiverseSuchtext\" name=\"idSucheForm:panel:idDiverseSuchtext\" role=\"textbox\" type=\"text\" value=\"Zugerbergstrasse 15.z, Zug\"/&gt;</td>\n",
       "    </tr>\n",
       "    <tr>\n",
       "      <td>12</td>\n",
       "      <td>frontpage4453.htm</td>\n",
       "      <td>keine</td>\n",
       "      <td>&lt;input aria-disabled=\"false\" aria-multiline=\"false\" aria-readonly=\"false\" class=\"ui-inputfield ui-inputtext ui-widget ui-state-default ui-corner-all form-control\" id=\"idSucheForm:panel:idDiverseSuchtext\" name=\"idSucheForm:panel:idDiverseSuchtext\" role=\"textbox\" type=\"text\" value=\"Zugerbergstrasse 16, Zug\"/&gt;</td>\n",
       "    </tr>\n",
       "  </tbody>\n",
       "</table>\n",
       "</div>"
      ],
      "text/plain": [
       "                Seite                                         Anzahl  \\\n",
       "0   frontpage4441.htm  keine                                           \n",
       "1   frontpage4442.htm  keine                                           \n",
       "2   frontpage4443.htm  keine                                           \n",
       "3   frontpage4444.htm  keine                                           \n",
       "4   frontpage4445.htm  keine                                           \n",
       "5   frontpage4446.htm  keine                                           \n",
       "6   frontpage4447.htm  \\n\\t\\t\\t\\tNo. of companies found: 6\\n\\t\\t\\t\\t   \n",
       "7   frontpage4448.htm  keine                                           \n",
       "8   frontpage4449.htm  keine                                           \n",
       "9   frontpage4450.htm  \\n\\t\\t\\t\\tNo. of companies found: 1\\n\\t\\t\\t\\t   \n",
       "10  frontpage4451.htm  keine                                           \n",
       "11  frontpage4452.htm  keine                                           \n",
       "12  frontpage4453.htm  keine                                           \n",
       "\n",
       "                                                                                                                                                                                                                                                                                                                   Adresse  \n",
       "0   <input aria-disabled=\"false\" aria-multiline=\"false\" aria-readonly=\"false\" class=\"ui-inputfield ui-inputtext ui-widget ui-state-default ui-corner-all form-control\" id=\"idSucheForm:panel:idDiverseSuchtext\" name=\"idSucheForm:panel:idDiverseSuchtext\" role=\"textbox\" type=\"text\" value=\"Zeughausgasse 9a.2, Zug\"/>     \n",
       "1   <input aria-disabled=\"false\" aria-multiline=\"false\" aria-readonly=\"false\" class=\"ui-inputfield ui-inputtext ui-widget ui-state-default ui-corner-all form-control\" id=\"idSucheForm:panel:idDiverseSuchtext\" name=\"idSucheForm:panel:idDiverseSuchtext\" role=\"textbox\" type=\"text\" value=\"Zeughausgasse 9a.4, Zug\"/>     \n",
       "2   <input aria-disabled=\"false\" aria-multiline=\"false\" aria-readonly=\"false\" class=\"ui-inputfield ui-inputtext ui-widget ui-state-default ui-corner-all form-control\" id=\"idSucheForm:panel:idDiverseSuchtext\" name=\"idSucheForm:panel:idDiverseSuchtext\" role=\"textbox\" type=\"text\" value=\"Zeughausgasse 9a.6, Zug\"/>     \n",
       "3   <input aria-disabled=\"false\" aria-multiline=\"false\" aria-readonly=\"false\" class=\"ui-inputfield ui-inputtext ui-widget ui-state-default ui-corner-all form-control\" id=\"idSucheForm:panel:idDiverseSuchtext\" name=\"idSucheForm:panel:idDiverseSuchtext\" role=\"textbox\" type=\"text\" value=\"Zeughausgasse 9b.1, Zug\"/>     \n",
       "4   <input aria-disabled=\"false\" aria-multiline=\"false\" aria-readonly=\"false\" class=\"ui-inputfield ui-inputtext ui-widget ui-state-default ui-corner-all form-control\" id=\"idSucheForm:panel:idDiverseSuchtext\" name=\"idSucheForm:panel:idDiverseSuchtext\" role=\"textbox\" type=\"text\" value=\"Ziegelmattweg 1, Zug\"/>        \n",
       "5   <input aria-disabled=\"false\" aria-multiline=\"false\" aria-readonly=\"false\" class=\"ui-inputfield ui-inputtext ui-widget ui-state-default ui-corner-all form-control\" id=\"idSucheForm:panel:idDiverseSuchtext\" name=\"idSucheForm:panel:idDiverseSuchtext\" role=\"textbox\" type=\"text\" value=\"Zugerbergstrasse 10.1, Zug\"/>  \n",
       "6   <input aria-disabled=\"false\" aria-multiline=\"false\" aria-readonly=\"false\" class=\"ui-inputfield ui-inputtext ui-widget ui-state-default ui-corner-all form-control\" id=\"idSucheForm:panel:idDiverseSuchtext\" name=\"idSucheForm:panel:idDiverseSuchtext\" role=\"textbox\" type=\"text\" value=\"Zugerbergstrasse 12, Zug\"/>    \n",
       "7   <input aria-disabled=\"false\" aria-multiline=\"false\" aria-readonly=\"false\" class=\"ui-inputfield ui-inputtext ui-widget ui-state-default ui-corner-all form-control\" id=\"idSucheForm:panel:idDiverseSuchtext\" name=\"idSucheForm:panel:idDiverseSuchtext\" role=\"textbox\" type=\"text\" value=\"Zugerbergstrasse 12.1, Zug\"/>  \n",
       "8   <input aria-disabled=\"false\" aria-multiline=\"false\" aria-readonly=\"false\" class=\"ui-inputfield ui-inputtext ui-widget ui-state-default ui-corner-all form-control\" id=\"idSucheForm:panel:idDiverseSuchtext\" name=\"idSucheForm:panel:idDiverseSuchtext\" role=\"textbox\" type=\"text\" value=\"Zugerbergstrasse 12.2, Zug\"/>  \n",
       "9   <input aria-disabled=\"false\" aria-multiline=\"false\" aria-readonly=\"false\" class=\"ui-inputfield ui-inputtext ui-widget ui-state-default ui-corner-all form-control\" id=\"idSucheForm:panel:idDiverseSuchtext\" name=\"idSucheForm:panel:idDiverseSuchtext\" role=\"textbox\" type=\"text\" value=\"Zugerbergstrasse 14, Zug\"/>    \n",
       "10  <input aria-disabled=\"false\" aria-multiline=\"false\" aria-readonly=\"false\" class=\"ui-inputfield ui-inputtext ui-widget ui-state-default ui-corner-all form-control\" id=\"idSucheForm:panel:idDiverseSuchtext\" name=\"idSucheForm:panel:idDiverseSuchtext\" role=\"textbox\" type=\"text\" value=\"Zugerbergstrasse 15, Zug\"/>    \n",
       "11  <input aria-disabled=\"false\" aria-multiline=\"false\" aria-readonly=\"false\" class=\"ui-inputfield ui-inputtext ui-widget ui-state-default ui-corner-all form-control\" id=\"idSucheForm:panel:idDiverseSuchtext\" name=\"idSucheForm:panel:idDiverseSuchtext\" role=\"textbox\" type=\"text\" value=\"Zugerbergstrasse 15.z, Zug\"/>  \n",
       "12  <input aria-disabled=\"false\" aria-multiline=\"false\" aria-readonly=\"false\" class=\"ui-inputfield ui-inputtext ui-widget ui-state-default ui-corner-all form-control\" id=\"idSucheForm:panel:idDiverseSuchtext\" name=\"idSucheForm:panel:idDiverseSuchtext\" role=\"textbox\" type=\"text\" value=\"Zugerbergstrasse 16, Zug\"/>    "
      ]
     },
     "execution_count": 59,
     "metadata": {},
     "output_type": "execute_result"
    }
   ],
   "source": [
    "pd.set_option('display.max_colwidth', -1)\n",
    "dftest_a"
   ]
  },
  {
   "cell_type": "code",
   "execution_count": 50,
   "metadata": {},
   "outputs": [
    {
     "data": {
      "text/plain": [
       "Seite      object\n",
       "Anzahl     object\n",
       "Adresse    object\n",
       "dtype: object"
      ]
     },
     "execution_count": 50,
     "metadata": {},
     "output_type": "execute_result"
    }
   ],
   "source": [
    "dftest_a.dtypes"
   ]
  },
  {
   "cell_type": "code",
   "execution_count": 48,
   "metadata": {},
   "outputs": [
    {
     "data": {
      "text/plain": [
       "0     <input aria-disabled=\"false\" aria-multiline=\"f...\n",
       "1     <input aria-disabled=\"false\" aria-multiline=\"f...\n",
       "2     <input aria-disabled=\"false\" aria-multiline=\"f...\n",
       "3     <input aria-disabled=\"false\" aria-multiline=\"f...\n",
       "4     <input aria-disabled=\"false\" aria-multiline=\"f...\n",
       "5     <input aria-disabled=\"false\" aria-multiline=\"f...\n",
       "6     <input aria-disabled=\"false\" aria-multiline=\"f...\n",
       "7     <input aria-disabled=\"false\" aria-multiline=\"f...\n",
       "8     <input aria-disabled=\"false\" aria-multiline=\"f...\n",
       "9     <input aria-disabled=\"false\" aria-multiline=\"f...\n",
       "10    <input aria-disabled=\"false\" aria-multiline=\"f...\n",
       "11    <input aria-disabled=\"false\" aria-multiline=\"f...\n",
       "12    <input aria-disabled=\"false\" aria-multiline=\"f...\n",
       "Name: Adresse, dtype: object"
      ]
     },
     "execution_count": 48,
     "metadata": {},
     "output_type": "execute_result"
    }
   ],
   "source": [
    "\n",
    "dftest_a[\"Adresse\"]"
   ]
  },
  {
   "cell_type": "code",
   "execution_count": 47,
   "metadata": {
    "scrolled": true
   },
   "outputs": [
    {
     "data": {
      "text/html": [
       "<div>\n",
       "<style scoped>\n",
       "    .dataframe tbody tr th:only-of-type {\n",
       "        vertical-align: middle;\n",
       "    }\n",
       "\n",
       "    .dataframe tbody tr th {\n",
       "        vertical-align: top;\n",
       "    }\n",
       "\n",
       "    .dataframe thead th {\n",
       "        text-align: right;\n",
       "    }\n",
       "</style>\n",
       "<table border=\"1\" class=\"dataframe\">\n",
       "  <thead>\n",
       "    <tr style=\"text-align: right;\">\n",
       "      <th></th>\n",
       "      <th>0</th>\n",
       "    </tr>\n",
       "  </thead>\n",
       "  <tbody>\n",
       "    <tr>\n",
       "      <td>0</td>\n",
       "      <td>NaN</td>\n",
       "    </tr>\n",
       "    <tr>\n",
       "      <td>1</td>\n",
       "      <td>NaN</td>\n",
       "    </tr>\n",
       "    <tr>\n",
       "      <td>2</td>\n",
       "      <td>NaN</td>\n",
       "    </tr>\n",
       "    <tr>\n",
       "      <td>3</td>\n",
       "      <td>NaN</td>\n",
       "    </tr>\n",
       "    <tr>\n",
       "      <td>4</td>\n",
       "      <td>NaN</td>\n",
       "    </tr>\n",
       "    <tr>\n",
       "      <td>5</td>\n",
       "      <td>NaN</td>\n",
       "    </tr>\n",
       "    <tr>\n",
       "      <td>6</td>\n",
       "      <td>NaN</td>\n",
       "    </tr>\n",
       "    <tr>\n",
       "      <td>7</td>\n",
       "      <td>NaN</td>\n",
       "    </tr>\n",
       "    <tr>\n",
       "      <td>8</td>\n",
       "      <td>NaN</td>\n",
       "    </tr>\n",
       "    <tr>\n",
       "      <td>9</td>\n",
       "      <td>NaN</td>\n",
       "    </tr>\n",
       "    <tr>\n",
       "      <td>10</td>\n",
       "      <td>NaN</td>\n",
       "    </tr>\n",
       "    <tr>\n",
       "      <td>11</td>\n",
       "      <td>NaN</td>\n",
       "    </tr>\n",
       "    <tr>\n",
       "      <td>12</td>\n",
       "      <td>NaN</td>\n",
       "    </tr>\n",
       "  </tbody>\n",
       "</table>\n",
       "</div>"
      ],
      "text/plain": [
       "      0\n",
       "0   NaN\n",
       "1   NaN\n",
       "2   NaN\n",
       "3   NaN\n",
       "4   NaN\n",
       "5   NaN\n",
       "6   NaN\n",
       "7   NaN\n",
       "8   NaN\n",
       "9   NaN\n",
       "10  NaN\n",
       "11  NaN\n",
       "12  NaN"
      ]
     },
     "execution_count": 47,
     "metadata": {},
     "output_type": "execute_result"
    }
   ],
   "source": [
    "dftest_a[\"Adresse\"].str.extract(\"value=\\\"(\\.*)\\\"\")"
   ]
  },
  {
   "cell_type": "code",
   "execution_count": null,
   "metadata": {},
   "outputs": [],
   "source": [
    "anzahl_liste=[]\n",
    "path=\"HRSeiten/\"\n",
    "for page in os.listdir(path):\n",
    "    file=open(path+page, 'r')\n",
    "    text=file.read()\n",
    "    soup=BeautifulSoup(text, 'html.parser')\n",
    "    div_list=div_list=soup.find_all(\"div\")\n",
    "    if len(div_list) == 97:\n",
    "        anzahl= \"keine\"\n",
    "    else:\n",
    "        anzahl= div_list[-26].text\n",
    "\n",
    "    minidict_a={\"Seite\":page,\"Anzahl\":anzahl}\n",
    "    anzahl_liste.append(minidict_a)"
   ]
  },
  {
   "cell_type": "code",
   "execution_count": null,
   "metadata": {},
   "outputs": [],
   "source": [
    "dfa=pd.DataFrame(anzahl_liste)"
   ]
  },
  {
   "cell_type": "code",
   "execution_count": null,
   "metadata": {},
   "outputs": [],
   "source": [
    "dfa.to_csv(folderpath+\"/BRFrames/haenger\")"
   ]
  },
  {
   "cell_type": "code",
   "execution_count": null,
   "metadata": {},
   "outputs": [],
   "source": [
    "dfa.shape"
   ]
  },
  {
   "cell_type": "code",
   "execution_count": null,
   "metadata": {
    "scrolled": true
   },
   "outputs": [],
   "source": [
    "dfa[\"Anzahl\"].sort_values().tail(1123)"
   ]
  },
  {
   "cell_type": "code",
   "execution_count": null,
   "metadata": {},
   "outputs": [],
   "source": [
    "dfb=dfa[\"Anzahl\"].sort_values().head(3324)"
   ]
  },
  {
   "cell_type": "code",
   "execution_count": null,
   "metadata": {},
   "outputs": [],
   "source": [
    "dfb.tail(2500)"
   ]
  },
  {
   "cell_type": "markdown",
   "metadata": {},
   "source": [
    "#### Kurz testen, ob das mit dem 97 auch immer stimmt"
   ]
  },
  {
   "cell_type": "code",
   "execution_count": null,
   "metadata": {},
   "outputs": [],
   "source": [
    "for page1 in os.listdir(path):\n",
    "    file1=open(path+page1, 'r')\n",
    "    text1=file1.read()\n",
    "    soup1=BeautifulSoup(text1, 'html.parser')\n",
    "    div_list1=soup1.find_all(\"div\")\n",
    "    print(len(div_list1))"
   ]
  },
  {
   "cell_type": "markdown",
   "metadata": {},
   "source": [
    "Sehr gut: es sind also entweder 97 oder 100 Listenstellen auch wenn unterschiedlich viele Firmen aufgelistet sind.\n",
    "\n",
    "Die Ansicht der Seite hat ergeben, dass es maximal 20 Einträge pro Seite hat. Sind es also weniger, muss ich nicht weitergraben."
   ]
  },
  {
   "cell_type": "markdown",
   "metadata": {},
   "source": [
    "## Zahl und Adresse rausziehen \n",
    "evtl. könnte man die Frames als erstes wieder zusammenfügen\n",
    "zuerst alle aussortieren, die überhaupt eine Zahl enthalten\n",
    "Danach splitten oder mit Regex. Da es nur eine Zahl gibt, wäre hier vielleicht Regex besser.\n"
   ]
  },
  {
   "cell_type": "code",
   "execution_count": 3,
   "metadata": {},
   "outputs": [],
   "source": [
    "df_adan=pd.read_csv(folderpath+\"/BRFrames/Stadtzug_frontpages_ausgelesen_roh\")"
   ]
  },
  {
   "cell_type": "code",
   "execution_count": 11,
   "metadata": {},
   "outputs": [
    {
     "data": {
      "text/html": [
       "<div>\n",
       "<style scoped>\n",
       "    .dataframe tbody tr th:only-of-type {\n",
       "        vertical-align: middle;\n",
       "    }\n",
       "\n",
       "    .dataframe tbody tr th {\n",
       "        vertical-align: top;\n",
       "    }\n",
       "\n",
       "    .dataframe thead th {\n",
       "        text-align: right;\n",
       "    }\n",
       "</style>\n",
       "<table border=\"1\" class=\"dataframe\">\n",
       "  <thead>\n",
       "    <tr style=\"text-align: right;\">\n",
       "      <th></th>\n",
       "      <th>Unnamed: 0</th>\n",
       "      <th>Seite</th>\n",
       "      <th>Anzahl</th>\n",
       "      <th>Adresse</th>\n",
       "    </tr>\n",
       "  </thead>\n",
       "  <tbody>\n",
       "    <tr>\n",
       "      <td>0</td>\n",
       "      <td>0</td>\n",
       "      <td>frontpage0.htm</td>\n",
       "      <td>keine</td>\n",
       "      <td>&lt;input aria-disabled=\"false\" aria-multiline=\"f...</td>\n",
       "    </tr>\n",
       "    <tr>\n",
       "      <td>1</td>\n",
       "      <td>1</td>\n",
       "      <td>frontpage1.htm</td>\n",
       "      <td>\\n\\t\\t\\t\\tNo. of companies found: 5\\n\\t\\t\\t\\t</td>\n",
       "      <td>&lt;input aria-disabled=\"false\" aria-multiline=\"f...</td>\n",
       "    </tr>\n",
       "    <tr>\n",
       "      <td>2</td>\n",
       "      <td>2</td>\n",
       "      <td>frontpage10.htm</td>\n",
       "      <td>keine</td>\n",
       "      <td>&lt;input aria-disabled=\"false\" aria-multiline=\"f...</td>\n",
       "    </tr>\n",
       "    <tr>\n",
       "      <td>3</td>\n",
       "      <td>3</td>\n",
       "      <td>frontpage100.htm</td>\n",
       "      <td>keine</td>\n",
       "      <td>&lt;input aria-disabled=\"false\" aria-multiline=\"f...</td>\n",
       "    </tr>\n",
       "    <tr>\n",
       "      <td>4</td>\n",
       "      <td>4</td>\n",
       "      <td>frontpage1000.htm</td>\n",
       "      <td>keine</td>\n",
       "      <td>&lt;input aria-disabled=\"false\" aria-multiline=\"f...</td>\n",
       "    </tr>\n",
       "    <tr>\n",
       "      <td>...</td>\n",
       "      <td>...</td>\n",
       "      <td>...</td>\n",
       "      <td>...</td>\n",
       "      <td>...</td>\n",
       "    </tr>\n",
       "    <tr>\n",
       "      <td>4737</td>\n",
       "      <td>4737</td>\n",
       "      <td>frontpage995.htm</td>\n",
       "      <td>\\n\\t\\t\\t\\tNo. of companies found: 18\\n\\t\\t\\t\\t</td>\n",
       "      <td>&lt;input aria-disabled=\"false\" aria-multiline=\"f...</td>\n",
       "    </tr>\n",
       "    <tr>\n",
       "      <td>4738</td>\n",
       "      <td>4738</td>\n",
       "      <td>frontpage996.htm</td>\n",
       "      <td>\\n\\t\\t\\t\\tNo. of companies found: 90\\n\\t\\t\\t\\t</td>\n",
       "      <td>&lt;input aria-disabled=\"false\" aria-multiline=\"f...</td>\n",
       "    </tr>\n",
       "    <tr>\n",
       "      <td>4739</td>\n",
       "      <td>4739</td>\n",
       "      <td>frontpage997.htm</td>\n",
       "      <td>keine</td>\n",
       "      <td>&lt;input aria-disabled=\"false\" aria-multiline=\"f...</td>\n",
       "    </tr>\n",
       "    <tr>\n",
       "      <td>4740</td>\n",
       "      <td>4740</td>\n",
       "      <td>frontpage998.htm</td>\n",
       "      <td>\\n\\t\\t\\t\\tNo. of companies found: 10\\n\\t\\t\\t\\t</td>\n",
       "      <td>&lt;input aria-disabled=\"false\" aria-multiline=\"f...</td>\n",
       "    </tr>\n",
       "    <tr>\n",
       "      <td>4741</td>\n",
       "      <td>4741</td>\n",
       "      <td>frontpage999.htm</td>\n",
       "      <td>keine</td>\n",
       "      <td>&lt;input aria-disabled=\"false\" aria-multiline=\"f...</td>\n",
       "    </tr>\n",
       "  </tbody>\n",
       "</table>\n",
       "<p>4742 rows × 4 columns</p>\n",
       "</div>"
      ],
      "text/plain": [
       "      Unnamed: 0              Seite  \\\n",
       "0              0     frontpage0.htm   \n",
       "1              1     frontpage1.htm   \n",
       "2              2    frontpage10.htm   \n",
       "3              3   frontpage100.htm   \n",
       "4              4  frontpage1000.htm   \n",
       "...          ...                ...   \n",
       "4737        4737   frontpage995.htm   \n",
       "4738        4738   frontpage996.htm   \n",
       "4739        4739   frontpage997.htm   \n",
       "4740        4740   frontpage998.htm   \n",
       "4741        4741   frontpage999.htm   \n",
       "\n",
       "                                              Anzahl  \\\n",
       "0                                              keine   \n",
       "1      \\n\\t\\t\\t\\tNo. of companies found: 5\\n\\t\\t\\t\\t   \n",
       "2                                              keine   \n",
       "3                                              keine   \n",
       "4                                              keine   \n",
       "...                                              ...   \n",
       "4737  \\n\\t\\t\\t\\tNo. of companies found: 18\\n\\t\\t\\t\\t   \n",
       "4738  \\n\\t\\t\\t\\tNo. of companies found: 90\\n\\t\\t\\t\\t   \n",
       "4739                                           keine   \n",
       "4740  \\n\\t\\t\\t\\tNo. of companies found: 10\\n\\t\\t\\t\\t   \n",
       "4741                                           keine   \n",
       "\n",
       "                                                Adresse  \n",
       "0     <input aria-disabled=\"false\" aria-multiline=\"f...  \n",
       "1     <input aria-disabled=\"false\" aria-multiline=\"f...  \n",
       "2     <input aria-disabled=\"false\" aria-multiline=\"f...  \n",
       "3     <input aria-disabled=\"false\" aria-multiline=\"f...  \n",
       "4     <input aria-disabled=\"false\" aria-multiline=\"f...  \n",
       "...                                                 ...  \n",
       "4737  <input aria-disabled=\"false\" aria-multiline=\"f...  \n",
       "4738  <input aria-disabled=\"false\" aria-multiline=\"f...  \n",
       "4739  <input aria-disabled=\"false\" aria-multiline=\"f...  \n",
       "4740  <input aria-disabled=\"false\" aria-multiline=\"f...  \n",
       "4741  <input aria-disabled=\"false\" aria-multiline=\"f...  \n",
       "\n",
       "[4742 rows x 4 columns]"
      ]
     },
     "execution_count": 11,
     "metadata": {},
     "output_type": "execute_result"
    }
   ],
   "source": [
    "df_adan"
   ]
  },
  {
   "cell_type": "code",
   "execution_count": 5,
   "metadata": {
    "scrolled": true
   },
   "outputs": [
    {
     "data": {
      "text/plain": [
       "(4742, 4)"
      ]
     },
     "execution_count": 5,
     "metadata": {},
     "output_type": "execute_result"
    }
   ],
   "source": [
    "df_adan.shape #Ausganglage waren 4690. Offenbar habe ich einige doppelt. egal."
   ]
  },
  {
   "cell_type": "markdown",
   "metadata": {},
   "source": [
    "### Zahl"
   ]
  },
  {
   "cell_type": "code",
   "execution_count": 23,
   "metadata": {
    "scrolled": true
   },
   "outputs": [],
   "source": [
    "# Hier nun die Formel, um aus allen die Zahl rausziehen zu können\n",
    "df_adan[\"Anzahl\"]=df_adan[\"Anzahl\"].str.extract(\"(\\d+)\")"
   ]
  },
  {
   "cell_type": "markdown",
   "metadata": {},
   "source": [
    "### Adresse"
   ]
  },
  {
   "cell_type": "code",
   "execution_count": 24,
   "metadata": {},
   "outputs": [],
   "source": [
    "df_adan[\"Adresse\"]=df_adan[\"Adresse\"].str.extract(\"value=\\\"(.*)\\\"\")"
   ]
  },
  {
   "cell_type": "code",
   "execution_count": 25,
   "metadata": {},
   "outputs": [
    {
     "data": {
      "text/html": [
       "<div>\n",
       "<style scoped>\n",
       "    .dataframe tbody tr th:only-of-type {\n",
       "        vertical-align: middle;\n",
       "    }\n",
       "\n",
       "    .dataframe tbody tr th {\n",
       "        vertical-align: top;\n",
       "    }\n",
       "\n",
       "    .dataframe thead th {\n",
       "        text-align: right;\n",
       "    }\n",
       "</style>\n",
       "<table border=\"1\" class=\"dataframe\">\n",
       "  <thead>\n",
       "    <tr style=\"text-align: right;\">\n",
       "      <th></th>\n",
       "      <th>Unnamed: 0</th>\n",
       "      <th>Seite</th>\n",
       "      <th>Anzahl</th>\n",
       "      <th>Adresse</th>\n",
       "    </tr>\n",
       "  </thead>\n",
       "  <tbody>\n",
       "    <tr>\n",
       "      <td>0</td>\n",
       "      <td>0</td>\n",
       "      <td>frontpage0.htm</td>\n",
       "      <td>NaN</td>\n",
       "      <td>Aabachstrasse 1, Zug</td>\n",
       "    </tr>\n",
       "    <tr>\n",
       "      <td>1</td>\n",
       "      <td>1</td>\n",
       "      <td>frontpage1.htm</td>\n",
       "      <td>5</td>\n",
       "      <td>Aabachstrasse 10, Zug</td>\n",
       "    </tr>\n",
       "    <tr>\n",
       "      <td>2</td>\n",
       "      <td>2</td>\n",
       "      <td>frontpage10.htm</td>\n",
       "      <td>NaN</td>\n",
       "      <td>Aabachstrasse 2, Zug</td>\n",
       "    </tr>\n",
       "    <tr>\n",
       "      <td>3</td>\n",
       "      <td>3</td>\n",
       "      <td>frontpage100.htm</td>\n",
       "      <td>NaN</td>\n",
       "      <td>Alte Baarerstrasse 4, Zug</td>\n",
       "    </tr>\n",
       "    <tr>\n",
       "      <td>4</td>\n",
       "      <td>4</td>\n",
       "      <td>frontpage1000.htm</td>\n",
       "      <td>NaN</td>\n",
       "      <td>Chamerstrasse 180.2, Zug</td>\n",
       "    </tr>\n",
       "    <tr>\n",
       "      <td>...</td>\n",
       "      <td>...</td>\n",
       "      <td>...</td>\n",
       "      <td>...</td>\n",
       "      <td>...</td>\n",
       "    </tr>\n",
       "    <tr>\n",
       "      <td>4737</td>\n",
       "      <td>4737</td>\n",
       "      <td>frontpage995.htm</td>\n",
       "      <td>18</td>\n",
       "      <td>Chamerstrasse 175, Zug</td>\n",
       "    </tr>\n",
       "    <tr>\n",
       "      <td>4738</td>\n",
       "      <td>4738</td>\n",
       "      <td>frontpage996.htm</td>\n",
       "      <td>90</td>\n",
       "      <td>Chamerstrasse 176, Zug</td>\n",
       "    </tr>\n",
       "    <tr>\n",
       "      <td>4739</td>\n",
       "      <td>4739</td>\n",
       "      <td>frontpage997.htm</td>\n",
       "      <td>NaN</td>\n",
       "      <td>Chamerstrasse 177, Zug</td>\n",
       "    </tr>\n",
       "    <tr>\n",
       "      <td>4740</td>\n",
       "      <td>4740</td>\n",
       "      <td>frontpage998.htm</td>\n",
       "      <td>10</td>\n",
       "      <td>Chamerstrasse 18, Zug</td>\n",
       "    </tr>\n",
       "    <tr>\n",
       "      <td>4741</td>\n",
       "      <td>4741</td>\n",
       "      <td>frontpage999.htm</td>\n",
       "      <td>NaN</td>\n",
       "      <td>Chamerstrasse 18.1, Zug</td>\n",
       "    </tr>\n",
       "  </tbody>\n",
       "</table>\n",
       "<p>4742 rows × 4 columns</p>\n",
       "</div>"
      ],
      "text/plain": [
       "      Unnamed: 0              Seite Anzahl                    Adresse\n",
       "0              0     frontpage0.htm    NaN       Aabachstrasse 1, Zug\n",
       "1              1     frontpage1.htm      5      Aabachstrasse 10, Zug\n",
       "2              2    frontpage10.htm    NaN       Aabachstrasse 2, Zug\n",
       "3              3   frontpage100.htm    NaN  Alte Baarerstrasse 4, Zug\n",
       "4              4  frontpage1000.htm    NaN   Chamerstrasse 180.2, Zug\n",
       "...          ...                ...    ...                        ...\n",
       "4737        4737   frontpage995.htm     18     Chamerstrasse 175, Zug\n",
       "4738        4738   frontpage996.htm     90     Chamerstrasse 176, Zug\n",
       "4739        4739   frontpage997.htm    NaN     Chamerstrasse 177, Zug\n",
       "4740        4740   frontpage998.htm     10      Chamerstrasse 18, Zug\n",
       "4741        4741   frontpage999.htm    NaN    Chamerstrasse 18.1, Zug\n",
       "\n",
       "[4742 rows x 4 columns]"
      ]
     },
     "execution_count": 25,
     "metadata": {},
     "output_type": "execute_result"
    }
   ],
   "source": [
    "df_adan"
   ]
  },
  {
   "cell_type": "markdown",
   "metadata": {},
   "source": [
    "# Loop bei mehreren Seiten\n",
    "zuerst nur mal mit der Baarerstrasse 11 versuchen. Dort gibt es mehrere Seiten\n",
    "abgespeichert unter page"
   ]
  },
  {
   "cell_type": "code",
   "execution_count": null,
   "metadata": {},
   "outputs": [],
   "source": [
    "file_g=open(\"page.htm\", 'r')\n",
    "text_g=file_g.read()\n",
    "soup_g=BeautifulSoup(text_g, 'html.parser')\n",
    "soup_g"
   ]
  },
  {
   "cell_type": "code",
   "execution_count": null,
   "metadata": {},
   "outputs": [],
   "source": [
    "span_list=soup_g.find_all(\"span\")\n",
    "div_list=soup_g.find_all(\"div\")"
   ]
  },
  {
   "cell_type": "code",
   "execution_count": null,
   "metadata": {},
   "outputs": [],
   "source": [
    "len(span_list)"
   ]
  },
  {
   "cell_type": "code",
   "execution_count": null,
   "metadata": {},
   "outputs": [],
   "source": [
    "div_span_list=div_list[-27].find_all(\"span\")"
   ]
  },
  {
   "cell_type": "code",
   "execution_count": null,
   "metadata": {},
   "outputs": [],
   "source": [
    "div_span_list"
   ]
  },
  {
   "cell_type": "markdown",
   "metadata": {},
   "source": [
    "\n",
    "**Wie kann ich die verschiedenen Unterseiten ansteuern und merken, wann die letzte Seite da ist. Vielleicht ist die Span-Liste unteschiedlich lange - je nach dem wieviele Unterseiten vorhanden sind.**"
   ]
  },
  {
   "cell_type": "code",
   "execution_count": null,
   "metadata": {},
   "outputs": [],
   "source": [
    "# mit 5 Unterseiten hat die Liste die Länge 14\n",
    "len(div_span_list)"
   ]
  },
  {
   "cell_type": "code",
   "execution_count": null,
   "metadata": {},
   "outputs": [],
   "source": [
    "file_f=open(folderpath+\"/HRSeiten/frontpage1011.htm\", 'r')\n",
    "text_f=file_f.read()\n",
    "soup_f=BeautifulSoup(text_f, 'html.parser')\n",
    "soup_f"
   ]
  },
  {
   "cell_type": "code",
   "execution_count": null,
   "metadata": {},
   "outputs": [],
   "source": [
    "div_list_f=soup_f.find_all(\"div\")"
   ]
  },
  {
   "cell_type": "code",
   "execution_count": null,
   "metadata": {},
   "outputs": [],
   "source": [
    "span_f_list=div_list_f[-27].find_all(\"span\")"
   ]
  },
  {
   "cell_type": "code",
   "execution_count": null,
   "metadata": {},
   "outputs": [],
   "source": [
    "span_f_list"
   ]
  },
  {
   "cell_type": "code",
   "execution_count": null,
   "metadata": {},
   "outputs": [],
   "source": [
    "# mit zwei Unterseiten hat es die Länge 11. Es würde also so funktionieren\n",
    "len(span_f_list)"
   ]
  },
  {
   "cell_type": "markdown",
   "metadata": {},
   "source": [
    "###  Erkenntnis Anzahl Unterseiten\n",
    "\n",
    "- Anhand des Totals an Firmen kann ich sehen, wieviele Unterseiten vorhanden sein sollten.\n",
    "- Und es funktioniert auch mit Hilfe der Länge der Span-Liste."
   ]
  },
  {
   "cell_type": "code",
   "execution_count": null,
   "metadata": {},
   "outputs": [],
   "source": []
  }
 ],
 "metadata": {
  "kernelspec": {
   "display_name": "Python 3",
   "language": "python",
   "name": "python3"
  },
  "language_info": {
   "codemirror_mode": {
    "name": "ipython",
    "version": 3
   },
   "file_extension": ".py",
   "mimetype": "text/x-python",
   "name": "python",
   "nbconvert_exporter": "python",
   "pygments_lexer": "ipython3",
   "version": "3.7.3"
  }
 },
 "nbformat": 4,
 "nbformat_minor": 2
}
