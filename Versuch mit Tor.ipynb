{
 "cells": [
  {
   "cell_type": "code",
   "execution_count": 2,
   "metadata": {},
   "outputs": [],
   "source": [
    "from selenium import webdriver\n",
    "from selenium.webdriver.firefox.firefox_profile import FirefoxProfile\n",
    "from selenium.webdriver.firefox.firefox_binary import FirefoxBinary\n",
    "import selenium\n",
    "from selenium import webdriver\n",
    "from selenium.webdriver.common.keys import Keys\n",
    "from selenium.webdriver.common.by import By\n",
    "from selenium.webdriver.support.ui import Select\n",
    "import time\n",
    "import pandas as pd\n",
    "from bs4 import BeautifulSoup\n",
    "from tqdm import tqdm\n",
    "import os\n",
    "import re\n"
   ]
  },
  {
   "cell_type": "code",
   "execution_count": 6,
   "metadata": {},
   "outputs": [
    {
     "name": "stdout",
     "output_type": "stream",
     "text": [
      "Collecting tor\n",
      "  Downloading https://files.pythonhosted.org/packages/0e/fd/d2c1bf63fc6ba2ee003eb1405d36bb24e631cdcc4a6d9a52271b4bc8d28d/tor-1.0.0.tar.gz\n",
      "Building wheels for collected packages: tor\n",
      "  Building wheel for tor (setup.py): started\n",
      "  Building wheel for tor (setup.py): finished with status 'done'\n",
      "  Created wheel for tor: filename=tor-1.0.0-cp37-none-any.whl size=3201 sha256=5ef05ea7a11742776d5648ae94b439a28246ccc2786b53ced9d5307f004d791a\n",
      "  Stored in directory: C:\\Users\\Zoe\\AppData\\Local\\pip\\Cache\\wheels\\90\\db\\8f\\13bfea29425f16febbca4b555cc7e7abf3e8144d3e449b2aa9\n",
      "Successfully built tor\n",
      "Installing collected packages: tor\n",
      "Successfully installed tor-1.0.0\n"
     ]
    }
   ],
   "source": [
    " install tor"
   ]
  },
  {
   "cell_type": "code",
   "execution_count": 7,
   "metadata": {},
   "outputs": [
    {
     "ename": "SyntaxError",
     "evalue": "EOL while scanning string literal (<ipython-input-7-c6722c8be656>, line 2)",
     "output_type": "error",
     "traceback": [
      "\u001b[1;36m  File \u001b[1;32m\"<ipython-input-7-c6722c8be656>\"\u001b[1;36m, line \u001b[1;32m2\u001b[0m\n\u001b[1;33m    profile = FirefoxProfile(r\"C:\\Users\\Zoe\\Desktop\\TorBrowser\\Browser\\TorBrowser\\Data\\Browser\\profile.default\\\")\u001b[0m\n\u001b[1;37m                                                                                                                 ^\u001b[0m\n\u001b[1;31mSyntaxError\u001b[0m\u001b[1;31m:\u001b[0m EOL while scanning string literal\n"
     ]
    }
   ],
   "source": [
    "binary = FirefoxBinary(r\"C:\\Users\\Zoe\\Desktop\\Tor Browser\\Browser\\firefox.exe\")\n",
    "profile = FirefoxProfile(r\"C:\\Users\\Zoe\\Desktop\\TorBrowser\\Browser\\TorBrowser\\Data\\Browser\\profile.default\\\")\n",
    "\n",
    "driver = webdriver.Firefox(firefox_profile= profile, firefox_binary= binary)\n",
    "driver.get(\"http://stackoverflow.com\")"
   ]
  },
  {
   "cell_type": "code",
   "execution_count": 18,
   "metadata": {},
   "outputs": [],
   "source": [
    "\n",
    "driver = webdriver.Firefox(executable_path='C:\\geckodriver.exe')\n",
    "binary = FirefoxBinary(r\"C:\\Users\\Zoe\\Desktop\\Tor Browser\\Browser\\firefox.exe\")\n",
    "\n",
    "#driver = webdriver.Firefox(firefox_binary= binary)\n",
    "#driver.profile.set_preference('network.proxy.type', 1)\n",
    "#driver.profile.set_preference('network.proxy.socks', '127.0.0.1')\n",
    "#driver.profile.set_preference('network.proxy.socks_port', 9051)\n",
    "\n",
    "driver.get(\"http://stackoverflow.com\")"
   ]
  },
  {
   "cell_type": "code",
   "execution_count": null,
   "metadata": {},
   "outputs": [],
   "source": []
  }
 ],
 "metadata": {
  "kernelspec": {
   "display_name": "Python 3",
   "language": "python",
   "name": "python3"
  },
  "language_info": {
   "codemirror_mode": {
    "name": "ipython",
    "version": 3
   },
   "file_extension": ".py",
   "mimetype": "text/x-python",
   "name": "python",
   "nbconvert_exporter": "python",
   "pygments_lexer": "ipython3",
   "version": "3.7.3"
  }
 },
 "nbformat": 4,
 "nbformat_minor": 2
}
